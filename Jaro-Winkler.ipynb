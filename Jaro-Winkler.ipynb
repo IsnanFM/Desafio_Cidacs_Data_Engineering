{
 "cells": [
  {
   "cell_type": "markdown",
   "metadata": {},
   "source": [
    "### Aplicação do Algoritmo e Criação da Matriz"
   ]
  },
  {
   "cell_type": "markdown",
   "metadata": {},
   "source": [
    " - Aqui pra não vamos comparar todos os registros um a um, vamos usar duas colunas **COMPLEMENTO** e **LOGRADOURO**.\n",
    " - Vamos tirar uma amostra aleatória (6mil) da base A e vamos comparar par a par as colunas **COMPLEMENTO** e **LOGRADOURO** de ambas as bases. Caso contrario, teríamos 4*( (100mil) * (6mil) ) comparações a se fazer.\n",
    " - Esse método irá diminuir o custo do processo."
   ]
  },
  {
   "cell_type": "markdown",
   "metadata": {},
   "source": [
    "Imports"
   ]
  },
  {
   "cell_type": "code",
   "execution_count": 136,
   "metadata": {},
   "outputs": [],
   "source": [
    "import numpy as np\n",
    "import pandas as pd\n",
    "import jellyfish "
   ]
  },
  {
   "cell_type": "markdown",
   "metadata": {},
   "source": [
    "Extração das Bases"
   ]
  },
  {
   "cell_type": "code",
   "execution_count": 138,
   "metadata": {},
   "outputs": [],
   "source": [
    "#Extraindo as duas bases \"Log_Comp_df\" faz parte da base B\n",
    "df_A = pd.read_csv(\"./Bases_Geradas/baseA.csv\", na_values = \"None\", keep_default_na= False)\n",
    "Log_Comp_df = pd.read_csv(\"./Bases_Geradas/Log_Comp.csv\", na_values = \"None\", keep_default_na= False)"
   ]
  },
  {
   "cell_type": "code",
   "execution_count": 140,
   "metadata": {},
   "outputs": [],
   "source": [
    "#Selecionamos somente as colunas \"Nome_Logradouro\" e \"Complemento\"\n",
    "df_A = df_A.iloc[:][[\"Nome_Logradouro\",\"Complemento\"]].sample(replace = False, n = 6000, random_state = 42)"
   ]
  },
  {
   "cell_type": "code",
   "execution_count": 141,
   "metadata": {},
   "outputs": [
    {
     "data": {
      "text/html": [
       "<div>\n",
       "<style scoped>\n",
       "    .dataframe tbody tr th:only-of-type {\n",
       "        vertical-align: middle;\n",
       "    }\n",
       "\n",
       "    .dataframe tbody tr th {\n",
       "        vertical-align: top;\n",
       "    }\n",
       "\n",
       "    .dataframe thead th {\n",
       "        text-align: right;\n",
       "    }\n",
       "</style>\n",
       "<table border=\"1\" class=\"dataframe\">\n",
       "  <thead>\n",
       "    <tr style=\"text-align: right;\">\n",
       "      <th></th>\n",
       "      <th>Nome_Logradouro</th>\n",
       "      <th>Complemento</th>\n",
       "    </tr>\n",
       "  </thead>\n",
       "  <tbody>\n",
       "    <tr>\n",
       "      <th>0</th>\n",
       "      <td>FONTE DO BOI</td>\n",
       "      <td>APARTAMENTO 303 BLOCO B</td>\n",
       "    </tr>\n",
       "    <tr>\n",
       "      <th>1</th>\n",
       "      <td>OSWALDO CRUZ</td>\n",
       "      <td></td>\n",
       "    </tr>\n",
       "    <tr>\n",
       "      <th>2</th>\n",
       "      <td>FONTE DO BOI</td>\n",
       "      <td>APARTAMENTO ANDAR</td>\n",
       "    </tr>\n",
       "    <tr>\n",
       "      <th>3</th>\n",
       "      <td>BARRO VERMELHO</td>\n",
       "      <td>APARTAMENTO 204 BLOCO B</td>\n",
       "    </tr>\n",
       "    <tr>\n",
       "      <th>4</th>\n",
       "      <td>BARRO VERMELHO</td>\n",
       "      <td>APARTAMENTO 105</td>\n",
       "    </tr>\n",
       "    <tr>\n",
       "      <th>5</th>\n",
       "      <td>AUGUSTO SEVERO</td>\n",
       "      <td></td>\n",
       "    </tr>\n",
       "    <tr>\n",
       "      <th>6</th>\n",
       "      <td>TAMOIOS</td>\n",
       "      <td>ANDAR 201</td>\n",
       "    </tr>\n",
       "    <tr>\n",
       "      <th>7</th>\n",
       "      <td>ARGOLO</td>\n",
       "      <td></td>\n",
       "    </tr>\n",
       "    <tr>\n",
       "      <th>8</th>\n",
       "      <td>MAMUTE</td>\n",
       "      <td></td>\n",
       "    </tr>\n",
       "    <tr>\n",
       "      <th>9</th>\n",
       "      <td>VINHAIS</td>\n",
       "      <td>APARTAMENTO 201</td>\n",
       "    </tr>\n",
       "  </tbody>\n",
       "</table>\n",
       "</div>"
      ],
      "text/plain": [
       "  Nome_Logradouro              Complemento\n",
       "0    FONTE DO BOI  APARTAMENTO 303 BLOCO B\n",
       "1    OSWALDO CRUZ                         \n",
       "2    FONTE DO BOI        APARTAMENTO ANDAR\n",
       "3  BARRO VERMELHO  APARTAMENTO 204 BLOCO B\n",
       "4  BARRO VERMELHO          APARTAMENTO 105\n",
       "5  AUGUSTO SEVERO                         \n",
       "6         TAMOIOS                ANDAR 201\n",
       "7          ARGOLO                         \n",
       "8          MAMUTE                         \n",
       "9         VINHAIS          APARTAMENTO 201"
      ]
     },
     "execution_count": 141,
     "metadata": {},
     "output_type": "execute_result"
    }
   ],
   "source": [
    "Log_Comp_df.head(10)"
   ]
  },
  {
   "cell_type": "code",
   "execution_count": 142,
   "metadata": {},
   "outputs": [
    {
     "data": {
      "text/html": [
       "<div>\n",
       "<style scoped>\n",
       "    .dataframe tbody tr th:only-of-type {\n",
       "        vertical-align: middle;\n",
       "    }\n",
       "\n",
       "    .dataframe tbody tr th {\n",
       "        vertical-align: top;\n",
       "    }\n",
       "\n",
       "    .dataframe thead th {\n",
       "        text-align: right;\n",
       "    }\n",
       "</style>\n",
       "<table border=\"1\" class=\"dataframe\">\n",
       "  <thead>\n",
       "    <tr style=\"text-align: right;\">\n",
       "      <th></th>\n",
       "      <th>Nome_Logradouro</th>\n",
       "      <th>Complemento</th>\n",
       "    </tr>\n",
       "  </thead>\n",
       "  <tbody>\n",
       "    <tr>\n",
       "      <th>75721</th>\n",
       "      <td>PAULO RUBENS</td>\n",
       "      <td>ANDAR 1</td>\n",
       "    </tr>\n",
       "    <tr>\n",
       "      <th>80184</th>\n",
       "      <td>CLARA</td>\n",
       "      <td>TERREO</td>\n",
       "    </tr>\n",
       "    <tr>\n",
       "      <th>19864</th>\n",
       "      <td>EULER DE PEREIRA CARDOSO</td>\n",
       "      <td>CASA</td>\n",
       "    </tr>\n",
       "    <tr>\n",
       "      <th>76699</th>\n",
       "      <td>CLAUDIONILDA</td>\n",
       "      <td>ANDAR 1</td>\n",
       "    </tr>\n",
       "    <tr>\n",
       "      <th>92991</th>\n",
       "      <td>MARTACENIA</td>\n",
       "      <td>ANDAR 2</td>\n",
       "    </tr>\n",
       "    <tr>\n",
       "      <th>76434</th>\n",
       "      <td>DO SOSSEGO DA SARAMANDAIA</td>\n",
       "      <td>ANDAR 1</td>\n",
       "    </tr>\n",
       "    <tr>\n",
       "      <th>84004</th>\n",
       "      <td>DO AMPARO</td>\n",
       "      <td></td>\n",
       "    </tr>\n",
       "    <tr>\n",
       "      <th>80917</th>\n",
       "      <td>RIO BRANCO</td>\n",
       "      <td>TERREO</td>\n",
       "    </tr>\n",
       "    <tr>\n",
       "      <th>60767</th>\n",
       "      <td>DO LIMAO</td>\n",
       "      <td></td>\n",
       "    </tr>\n",
       "    <tr>\n",
       "      <th>50074</th>\n",
       "      <td>ARTENIO COSTA  VALENTE</td>\n",
       "      <td>CASA</td>\n",
       "    </tr>\n",
       "  </tbody>\n",
       "</table>\n",
       "</div>"
      ],
      "text/plain": [
       "                 Nome_Logradouro Complemento\n",
       "75721               PAULO RUBENS     ANDAR 1\n",
       "80184                      CLARA      TERREO\n",
       "19864   EULER DE PEREIRA CARDOSO        CASA\n",
       "76699               CLAUDIONILDA     ANDAR 1\n",
       "92991                 MARTACENIA     ANDAR 2\n",
       "76434  DO SOSSEGO DA SARAMANDAIA     ANDAR 1\n",
       "84004                  DO AMPARO            \n",
       "80917                 RIO BRANCO      TERREO\n",
       "60767                   DO LIMAO            \n",
       "50074     ARTENIO COSTA  VALENTE        CASA"
      ]
     },
     "execution_count": 142,
     "metadata": {},
     "output_type": "execute_result"
    }
   ],
   "source": [
    "df_A.head(10)"
   ]
  },
  {
   "cell_type": "markdown",
   "metadata": {},
   "source": [
    "Aplicando o Algoritmo"
   ]
  },
  {
   "cell_type": "markdown",
   "metadata": {},
   "source": [
    "- Aqui usamos 2 Loops pra iterar sobre a Matriz"
   ]
  },
  {
   "cell_type": "code",
   "execution_count": 143,
   "metadata": {},
   "outputs": [],
   "source": [
    "#Criação da matriz\n",
    "matriz_similaridade = np.empty((6000, 2))\n",
    "\n",
    "#Loop iterar sobre as colunas\n",
    "for i in range (2): \n",
    "    for j in range (6000):  #Loop iterar sobre as linhas\n",
    "        #Aqui aplicamos o algoritmo e atribuimos na matriz, arrendodamos o valor pra 3 casas decimais\n",
    "        matriz_similaridade[j][i] = round((jellyfish.jaro_similarity(df_A.iloc[j][i], Log_Comp_df.iloc[j][i])),3)\n"
   ]
  },
  {
   "cell_type": "code",
   "execution_count": 144,
   "metadata": {},
   "outputs": [],
   "source": [
    "#Transformando matriz em um Dataframe Pandas\n",
    "df_similaridade = pd.DataFrame(matriz_similaridade, columns=['Coluna1A_Coluna1B', 'Coluna2A_Coluna2B'])"
   ]
  },
  {
   "cell_type": "code",
   "execution_count": 145,
   "metadata": {},
   "outputs": [
    {
     "data": {
      "text/html": [
       "<div>\n",
       "<style scoped>\n",
       "    .dataframe tbody tr th:only-of-type {\n",
       "        vertical-align: middle;\n",
       "    }\n",
       "\n",
       "    .dataframe tbody tr th {\n",
       "        vertical-align: top;\n",
       "    }\n",
       "\n",
       "    .dataframe thead th {\n",
       "        text-align: right;\n",
       "    }\n",
       "</style>\n",
       "<table border=\"1\" class=\"dataframe\">\n",
       "  <thead>\n",
       "    <tr style=\"text-align: right;\">\n",
       "      <th></th>\n",
       "      <th>Coluna1A_Coluna1B</th>\n",
       "      <th>Coluna2A_Coluna2B</th>\n",
       "    </tr>\n",
       "  </thead>\n",
       "  <tbody>\n",
       "    <tr>\n",
       "      <th>0</th>\n",
       "      <td>0.472</td>\n",
       "      <td>0.577</td>\n",
       "    </tr>\n",
       "    <tr>\n",
       "      <th>1</th>\n",
       "      <td>0.356</td>\n",
       "      <td>0.000</td>\n",
       "    </tr>\n",
       "    <tr>\n",
       "      <th>2</th>\n",
       "      <td>0.528</td>\n",
       "      <td>0.539</td>\n",
       "    </tr>\n",
       "    <tr>\n",
       "      <th>3</th>\n",
       "      <td>0.488</td>\n",
       "      <td>0.577</td>\n",
       "    </tr>\n",
       "    <tr>\n",
       "      <th>4</th>\n",
       "      <td>0.505</td>\n",
       "      <td>0.613</td>\n",
       "    </tr>\n",
       "  </tbody>\n",
       "</table>\n",
       "</div>"
      ],
      "text/plain": [
       "   Coluna1A_Coluna1B  Coluna2A_Coluna2B\n",
       "0              0.472              0.577\n",
       "1              0.356              0.000\n",
       "2              0.528              0.539\n",
       "3              0.488              0.577\n",
       "4              0.505              0.613"
      ]
     },
     "execution_count": 145,
     "metadata": {},
     "output_type": "execute_result"
    }
   ],
   "source": [
    "df_similaridade.head()"
   ]
  },
  {
   "cell_type": "markdown",
   "metadata": {},
   "source": [
    "Exportando"
   ]
  },
  {
   "cell_type": "code",
   "execution_count": 146,
   "metadata": {},
   "outputs": [],
   "source": [
    "df_similaridade.to_csv(\"./Bases_Geradas/Matriz_Similaridade.csv\")"
   ]
  },
  {
   "cell_type": "markdown",
   "metadata": {},
   "source": [
    "Descritiva\n"
   ]
  },
  {
   "cell_type": "markdown",
   "metadata": {},
   "source": [
    "- O algoritmo de **Jaro-Winkler** quando comparado duas string retorna o nível de similaridade desse par, se for totalmente diferente atribui-se **0**, se totalmente iguais **1**, os valores variam nessa faixa.\n",
    "\n",
    "- No nosso exemplo, usamos ele por par de coluna: **Nome_Logradouro** da **base A** com **Nome_Logradouro** da **base B** e **Complemento** da **base A** com **Complemento** da **base B**\n",
    "\n",
    "- Então na nossa matriz, que virou df, temos os valores correspondentes par a par dessas comparações, podemos ver que tem vários valorações com 0, isso porque existem diversas strings vazias no conjunto, o que normalmente leva a esse valor."
   ]
  },
  {
   "cell_type": "code",
   "execution_count": 180,
   "metadata": {},
   "outputs": [
    {
     "data": {
      "text/plain": [
       "3"
      ]
     },
     "execution_count": 180,
     "metadata": {},
     "output_type": "execute_result"
    }
   ],
   "source": [
    "(df_similaridade[\"Coluna1A_Coluna1B\"] == 1).sum()"
   ]
  },
  {
   "cell_type": "code",
   "execution_count": 181,
   "metadata": {},
   "outputs": [
    {
     "data": {
      "text/plain": [
       "95"
      ]
     },
     "execution_count": 181,
     "metadata": {},
     "output_type": "execute_result"
    }
   ],
   "source": [
    "(df_similaridade[\"Coluna2A_Coluna2B\"] == 1).sum()"
   ]
  },
  {
   "cell_type": "markdown",
   "metadata": {},
   "source": [
    "- Aqui vimos que há 3 valores iguais na primeira coluna (Logradouro) e 95 na segunda (Complemento)"
   ]
  },
  {
   "cell_type": "code",
   "execution_count": 182,
   "metadata": {},
   "outputs": [
    {
     "data": {
      "text/plain": [
       "856"
      ]
     },
     "execution_count": 182,
     "metadata": {},
     "output_type": "execute_result"
    }
   ],
   "source": [
    "(df_similaridade[\"Coluna1A_Coluna1B\"] == 0).sum()"
   ]
  },
  {
   "cell_type": "code",
   "execution_count": 183,
   "metadata": {},
   "outputs": [
    {
     "data": {
      "text/plain": [
       "3966"
      ]
     },
     "execution_count": 183,
     "metadata": {},
     "output_type": "execute_result"
    }
   ],
   "source": [
    "(df_similaridade[\"Coluna2A_Coluna2B\"] == 0).sum()"
   ]
  },
  {
   "cell_type": "markdown",
   "metadata": {},
   "source": [
    "- E pra strings totalmente diferentes temos, 856 na primeira coluna (Logradouro) e 3966 na segunda coluna (Complemento)"
   ]
  }
 ],
 "metadata": {
  "kernelspec": {
   "display_name": "Python 3",
   "language": "python",
   "name": "python3"
  },
  "language_info": {
   "codemirror_mode": {
    "name": "ipython",
    "version": 3
   },
   "file_extension": ".py",
   "mimetype": "text/x-python",
   "name": "python",
   "nbconvert_exporter": "python",
   "pygments_lexer": "ipython3",
   "version": "3.11.4"
  }
 },
 "nbformat": 4,
 "nbformat_minor": 2
}
