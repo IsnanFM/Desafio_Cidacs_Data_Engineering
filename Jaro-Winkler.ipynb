{
 "cells": [
  {
   "cell_type": "markdown",
   "metadata": {},
   "source": [
    "### Aplicação do Algoritmo e Criação da Matriz"
   ]
  },
  {
   "cell_type": "markdown",
   "metadata": {},
   "source": [
    " - Aqui pra não vamos comparar todos os registros um a um, vamos usar duas colunas **COMPLEMENTO** e **LOGRADOURO**.\n",
    " - Vamos tirar uma amostra aleatória (6mil) da base A e vamos comparar par a par as colunas **COMPLEMENTO** e **LOGRADOURO** de ambas as bases. Caso contrario, teríamos 4*( (100mil) * (6mil) ) comparações a se fazer.\n",
    " - Esse método irá diminuir o custo do processo."
   ]
  },
  {
   "cell_type": "markdown",
   "metadata": {},
   "source": [
    "Imports"
   ]
  },
  {
   "cell_type": "code",
   "execution_count": 109,
   "metadata": {},
   "outputs": [],
   "source": [
    "import numpy as np\n",
    "import pandas as pd\n",
    "import jellyfish "
   ]
  },
  {
   "cell_type": "markdown",
   "metadata": {},
   "source": [
    "Extração das Bases"
   ]
  },
  {
   "cell_type": "code",
   "execution_count": 34,
   "metadata": {},
   "outputs": [],
   "source": [
    "#Extraindo as duas bases \"Log_Comp_df\" faz parte da base B\n",
    "df_A = pd.read_csv(\"baseA.csv\", na_values = \"None\", keep_default_na= False)\n",
    "Log_Comp_df = pd.read_csv(\"Log_Comp.csv\", na_values = \"None\", keep_default_na= False)"
   ]
  },
  {
   "cell_type": "code",
   "execution_count": 73,
   "metadata": {},
   "outputs": [],
   "source": [
    "#Selecionamos somente as colunas \"Nome_Logradouro\" e \"Complemento\"\n",
    "df_A = df_A.iloc[:][[\"Nome_Logradouro\",\"Complemento\"]].sample(replace = False, n = 6000)"
   ]
  },
  {
   "cell_type": "code",
   "execution_count": 89,
   "metadata": {},
   "outputs": [
    {
     "data": {
      "text/html": [
       "<div>\n",
       "<style scoped>\n",
       "    .dataframe tbody tr th:only-of-type {\n",
       "        vertical-align: middle;\n",
       "    }\n",
       "\n",
       "    .dataframe tbody tr th {\n",
       "        vertical-align: top;\n",
       "    }\n",
       "\n",
       "    .dataframe thead th {\n",
       "        text-align: right;\n",
       "    }\n",
       "</style>\n",
       "<table border=\"1\" class=\"dataframe\">\n",
       "  <thead>\n",
       "    <tr style=\"text-align: right;\">\n",
       "      <th></th>\n",
       "      <th>Nome_Logradouro</th>\n",
       "      <th>Complemento</th>\n",
       "    </tr>\n",
       "  </thead>\n",
       "  <tbody>\n",
       "    <tr>\n",
       "      <th>0</th>\n",
       "      <td>FONTE DO BOI</td>\n",
       "      <td>APARTAMENTO 303 BLOCO B</td>\n",
       "    </tr>\n",
       "    <tr>\n",
       "      <th>1</th>\n",
       "      <td>OSWALDO CRUZ</td>\n",
       "      <td></td>\n",
       "    </tr>\n",
       "    <tr>\n",
       "      <th>2</th>\n",
       "      <td>FONTE DO BOI</td>\n",
       "      <td>APARTAMENTO ANDAR</td>\n",
       "    </tr>\n",
       "    <tr>\n",
       "      <th>3</th>\n",
       "      <td>BARRO VERMELHO</td>\n",
       "      <td>APARTAMENTO 204 BLOCO B</td>\n",
       "    </tr>\n",
       "    <tr>\n",
       "      <th>4</th>\n",
       "      <td>BARRO VERMELHO</td>\n",
       "      <td>APARTAMENTO 105</td>\n",
       "    </tr>\n",
       "    <tr>\n",
       "      <th>5</th>\n",
       "      <td>AUGUSTO SEVERO</td>\n",
       "      <td></td>\n",
       "    </tr>\n",
       "    <tr>\n",
       "      <th>6</th>\n",
       "      <td>TAMOIOS</td>\n",
       "      <td>ANDAR 201</td>\n",
       "    </tr>\n",
       "    <tr>\n",
       "      <th>7</th>\n",
       "      <td>ARGOLO</td>\n",
       "      <td></td>\n",
       "    </tr>\n",
       "    <tr>\n",
       "      <th>8</th>\n",
       "      <td>MAMUTE</td>\n",
       "      <td></td>\n",
       "    </tr>\n",
       "    <tr>\n",
       "      <th>9</th>\n",
       "      <td>VINHAIS</td>\n",
       "      <td>APARTAMENTO 201</td>\n",
       "    </tr>\n",
       "  </tbody>\n",
       "</table>\n",
       "</div>"
      ],
      "text/plain": [
       "  Nome_Logradouro              Complemento\n",
       "0    FONTE DO BOI  APARTAMENTO 303 BLOCO B\n",
       "1    OSWALDO CRUZ                         \n",
       "2    FONTE DO BOI        APARTAMENTO ANDAR\n",
       "3  BARRO VERMELHO  APARTAMENTO 204 BLOCO B\n",
       "4  BARRO VERMELHO          APARTAMENTO 105\n",
       "5  AUGUSTO SEVERO                         \n",
       "6         TAMOIOS                ANDAR 201\n",
       "7          ARGOLO                         \n",
       "8          MAMUTE                         \n",
       "9         VINHAIS          APARTAMENTO 201"
      ]
     },
     "execution_count": 89,
     "metadata": {},
     "output_type": "execute_result"
    }
   ],
   "source": [
    "Log_Comp_df.head(10)"
   ]
  },
  {
   "cell_type": "code",
   "execution_count": 90,
   "metadata": {},
   "outputs": [
    {
     "data": {
      "text/html": [
       "<div>\n",
       "<style scoped>\n",
       "    .dataframe tbody tr th:only-of-type {\n",
       "        vertical-align: middle;\n",
       "    }\n",
       "\n",
       "    .dataframe tbody tr th {\n",
       "        vertical-align: top;\n",
       "    }\n",
       "\n",
       "    .dataframe thead th {\n",
       "        text-align: right;\n",
       "    }\n",
       "</style>\n",
       "<table border=\"1\" class=\"dataframe\">\n",
       "  <thead>\n",
       "    <tr style=\"text-align: right;\">\n",
       "      <th></th>\n",
       "      <th>Nome_Logradouro</th>\n",
       "      <th>Complemento</th>\n",
       "    </tr>\n",
       "  </thead>\n",
       "  <tbody>\n",
       "    <tr>\n",
       "      <th>38821</th>\n",
       "      <td>MUNIZ FERREIRA</td>\n",
       "      <td></td>\n",
       "    </tr>\n",
       "    <tr>\n",
       "      <th>42402</th>\n",
       "      <td>CARLOS BRANDAO DA SILVA</td>\n",
       "      <td>ANDAR 1 APARTAMENTO 103</td>\n",
       "    </tr>\n",
       "    <tr>\n",
       "      <th>24</th>\n",
       "      <td>ODILON SANTOS</td>\n",
       "      <td>BLOCO B APARTAMENTO 104</td>\n",
       "    </tr>\n",
       "    <tr>\n",
       "      <th>56132</th>\n",
       "      <td>DAS PEDRINHAS</td>\n",
       "      <td>CASA 2</td>\n",
       "    </tr>\n",
       "    <tr>\n",
       "      <th>96717</th>\n",
       "      <td>FALCAO</td>\n",
       "      <td>ANDAR 1 QUARTO 2</td>\n",
       "    </tr>\n",
       "    <tr>\n",
       "      <th>20620</th>\n",
       "      <td>RESISTENCIA</td>\n",
       "      <td></td>\n",
       "    </tr>\n",
       "    <tr>\n",
       "      <th>35988</th>\n",
       "      <td>PENINSULA DO JOANES</td>\n",
       "      <td>FUNDOS</td>\n",
       "    </tr>\n",
       "    <tr>\n",
       "      <th>40099</th>\n",
       "      <td>10 DE DEZEMBRO</td>\n",
       "      <td>CASA e</td>\n",
       "    </tr>\n",
       "    <tr>\n",
       "      <th>74428</th>\n",
       "      <td>REINALDO PRAXEDES</td>\n",
       "      <td>CASA 3</td>\n",
       "    </tr>\n",
       "    <tr>\n",
       "      <th>12452</th>\n",
       "      <td>ANTONIO ROSA</td>\n",
       "      <td>TERREO APARTAMENTO 01</td>\n",
       "    </tr>\n",
       "  </tbody>\n",
       "</table>\n",
       "</div>"
      ],
      "text/plain": [
       "               Nome_Logradouro              Complemento\n",
       "38821           MUNIZ FERREIRA                         \n",
       "42402  CARLOS BRANDAO DA SILVA  ANDAR 1 APARTAMENTO 103\n",
       "24               ODILON SANTOS  BLOCO B APARTAMENTO 104\n",
       "56132            DAS PEDRINHAS                   CASA 2\n",
       "96717                   FALCAO         ANDAR 1 QUARTO 2\n",
       "20620              RESISTENCIA                         \n",
       "35988      PENINSULA DO JOANES                   FUNDOS\n",
       "40099           10 DE DEZEMBRO                   CASA e\n",
       "74428        REINALDO PRAXEDES                   CASA 3\n",
       "12452             ANTONIO ROSA    TERREO APARTAMENTO 01"
      ]
     },
     "execution_count": 90,
     "metadata": {},
     "output_type": "execute_result"
    }
   ],
   "source": [
    "df_A.head(10)"
   ]
  },
  {
   "cell_type": "markdown",
   "metadata": {},
   "source": [
    "Aplicando o Algoritmo"
   ]
  },
  {
   "cell_type": "markdown",
   "metadata": {},
   "source": [
    "- Aqui usamos 2 Loops pra iterar sobre a Matriz"
   ]
  },
  {
   "cell_type": "code",
   "execution_count": 110,
   "metadata": {},
   "outputs": [],
   "source": [
    "#Criação da matriz\n",
    "matriz_similaridade = np.empty((6000, 2))\n",
    "\n",
    "#Loop iterar sobre as colunas\n",
    "for i in range (2): \n",
    "    for j in range (6000):  #Loop iterar sobre as linhas\n",
    "        #Aqui aplicamos o algoritmo e atribuimos na matriz\n",
    "        matriz_similaridade[j][i] = jellyfish.jaro_similarity(df_A.iloc[j][i], Log_Comp_df.iloc[j][i])\n"
   ]
  },
  {
   "cell_type": "code",
   "execution_count": 111,
   "metadata": {},
   "outputs": [],
   "source": [
    "#Transformando matriz em um Dataframe Pandas\n",
    "df_similaridade = pd.DataFrame(matriz_similaridade, columns=['Coluna1A_Coluna1B', 'Coluna2A_Coluna2B'])"
   ]
  },
  {
   "cell_type": "code",
   "execution_count": 112,
   "metadata": {},
   "outputs": [
    {
     "data": {
      "text/html": [
       "<div>\n",
       "<style scoped>\n",
       "    .dataframe tbody tr th:only-of-type {\n",
       "        vertical-align: middle;\n",
       "    }\n",
       "\n",
       "    .dataframe tbody tr th {\n",
       "        vertical-align: top;\n",
       "    }\n",
       "\n",
       "    .dataframe thead th {\n",
       "        text-align: right;\n",
       "    }\n",
       "</style>\n",
       "<table border=\"1\" class=\"dataframe\">\n",
       "  <thead>\n",
       "    <tr style=\"text-align: right;\">\n",
       "      <th></th>\n",
       "      <th>Coluna1A_Coluna1B</th>\n",
       "      <th>Coluna2A_Coluna2B</th>\n",
       "    </tr>\n",
       "  </thead>\n",
       "  <tbody>\n",
       "    <tr>\n",
       "      <th>0</th>\n",
       "      <td>0.457937</td>\n",
       "      <td>0.000000</td>\n",
       "    </tr>\n",
       "    <tr>\n",
       "      <th>1</th>\n",
       "      <td>0.602657</td>\n",
       "      <td>0.000000</td>\n",
       "    </tr>\n",
       "    <tr>\n",
       "      <th>2</th>\n",
       "      <td>0.542735</td>\n",
       "      <td>0.603652</td>\n",
       "    </tr>\n",
       "    <tr>\n",
       "      <th>3</th>\n",
       "      <td>0.513919</td>\n",
       "      <td>0.613527</td>\n",
       "    </tr>\n",
       "    <tr>\n",
       "      <th>4</th>\n",
       "      <td>0.492063</td>\n",
       "      <td>0.572685</td>\n",
       "    </tr>\n",
       "  </tbody>\n",
       "</table>\n",
       "</div>"
      ],
      "text/plain": [
       "   Coluna1A_Coluna1B  Coluna2A_Coluna2B\n",
       "0           0.457937           0.000000\n",
       "1           0.602657           0.000000\n",
       "2           0.542735           0.603652\n",
       "3           0.513919           0.613527\n",
       "4           0.492063           0.572685"
      ]
     },
     "execution_count": 112,
     "metadata": {},
     "output_type": "execute_result"
    }
   ],
   "source": [
    "df_similaridade.head()"
   ]
  },
  {
   "cell_type": "markdown",
   "metadata": {},
   "source": [
    "Exportando"
   ]
  },
  {
   "cell_type": "code",
   "execution_count": null,
   "metadata": {},
   "outputs": [],
   "source": [
    "df_similaridade.to_csv(\"./Bases_Geradas/Matriz_Similaridade.csv\")"
   ]
  }
 ],
 "metadata": {
  "kernelspec": {
   "display_name": "Python 3",
   "language": "python",
   "name": "python3"
  },
  "language_info": {
   "codemirror_mode": {
    "name": "ipython",
    "version": 3
   },
   "file_extension": ".py",
   "mimetype": "text/x-python",
   "name": "python",
   "nbconvert_exporter": "python",
   "pygments_lexer": "ipython3",
   "version": "3.11.4"
  }
 },
 "nbformat": 4,
 "nbformat_minor": 2
}
