{
 "cells": [
  {
   "cell_type": "markdown",
   "metadata": {},
   "source": [
    "## Desafio Engenheiro de Dados Jr - Cidacs"
   ]
  },
  {
   "cell_type": "markdown",
   "metadata": {},
   "source": [
    "Imports"
   ]
  },
  {
   "cell_type": "code",
   "execution_count": 32,
   "metadata": {},
   "outputs": [],
   "source": [
    "from pyspark.sql import SparkSession, Window\n",
    "from pyspark.sql.functions import expr, col, trim, regexp_replace, row_number, lit, when, monotonically_increasing_id\n",
    "import pandas as pd\n",
    "import random"
   ]
  },
  {
   "cell_type": "markdown",
   "metadata": {},
   "source": [
    "Configuração do SparkSession"
   ]
  },
  {
   "cell_type": "code",
   "execution_count": 2,
   "metadata": {},
   "outputs": [],
   "source": [
    "spark = SparkSession.builder \\\n",
    "    .appName(\"DesafioCidacs\") \\\n",
    "    .config(\"spark.executor.memory\", \"4g\") \\\n",
    "    .config(\"spark.driver.memory\", \"4g\") \\\n",
    "    .config(\"spark.executor.cores\", \"2\") \\\n",
    "    .config(\"spark.network.timeout\", \"600s\") \\\n",
    "    .config(\"spark.executor.instances\", \"2\") \\\n",
    "    .config(\"spark.executor.heartbeatInterval\", \"60s\") \\\n",
    "    .config(\"spark.driver.bindAddress\", \"127.0.0.1\") \\\n",
    "    .config(\"spark.sql.shuffle.partitions\", \"50\") \\\n",
    "    .getOrCreate()\n",
    "\n",
    "# Para otimização de leitura e escrita de dados\n",
    "spark.conf.set(\"spark.sql.parquet.compression.codec\", \"snappy\")\n",
    "\n",
    "# Para melhorar a performance do Spark SQL\n",
    "spark.conf.set(\"spark.sql.broadcastTimeout\", \"1000\")"
   ]
  },
  {
   "cell_type": "markdown",
   "metadata": {},
   "source": [
    "#### Extração do DataBase CNEFE - BAHIA"
   ]
  },
  {
   "cell_type": "code",
   "execution_count": 3,
   "metadata": {},
   "outputs": [],
   "source": [
    "#Base bahia, código 29\n",
    "df_principal = spark.read.text(\"./BASE_CNEFE_BA/base.txt\")"
   ]
  },
  {
   "cell_type": "code",
   "execution_count": 8,
   "metadata": {},
   "outputs": [
    {
     "name": "stdout",
     "output_type": "stream",
     "text": [
      "+--------------------+\n",
      "|               value|\n",
      "+--------------------+\n",
      "|2900108050000011R...|\n",
      "|2900108050000011R...|\n",
      "|2900108050000011R...|\n",
      "|2900108050000011R...|\n",
      "|2900108050000011R...|\n",
      "|2900108050000011R...|\n",
      "|2900108050000011R...|\n",
      "|2900108050000011R...|\n",
      "|2900108050000011R...|\n",
      "|2900108050000011R...|\n",
      "+--------------------+\n",
      "only showing top 10 rows\n",
      "\n"
     ]
    }
   ],
   "source": [
    "df_principal.show(10)"
   ]
  },
  {
   "cell_type": "markdown",
   "metadata": {},
   "source": [
    "- Filtrando pela cidade de Salvador"
   ]
  },
  {
   "cell_type": "code",
   "execution_count": 20,
   "metadata": {},
   "outputs": [],
   "source": [
    "#Sabemos que o código de salvador é 27408, vamos filtrar só o que nos interessa\n",
    "df_salvador = df_principal.filter(expr(\"substr(value,3,5)\") == '27408')"
   ]
  },
  {
   "cell_type": "code",
   "execution_count": 10,
   "metadata": {},
   "outputs": [
    {
     "name": "stdout",
     "output_type": "stream",
     "text": [
      "+--------------------+\n",
      "|               value|\n",
      "+--------------------+\n",
      "|2927408050600011T...|\n",
      "|2927408050600011T...|\n",
      "|2927408050600011T...|\n",
      "|2927408050600011T...|\n",
      "|2927408050600011T...|\n",
      "|2927408050600011T...|\n",
      "|2927408050600011T...|\n",
      "|2927408050600011T...|\n",
      "|2927408050600011T...|\n",
      "|2927408050600011T...|\n",
      "|2927408050600011T...|\n",
      "|2927408050600011T...|\n",
      "|2927408050600011T...|\n",
      "|2927408050600011T...|\n",
      "|2927408050600011R...|\n",
      "|2927408050600011L...|\n",
      "|2927408050600011L...|\n",
      "|2927408050600011L...|\n",
      "|2927408050600011L...|\n",
      "|2927408050600011L...|\n",
      "+--------------------+\n",
      "only showing top 20 rows\n",
      "\n"
     ]
    }
   ],
   "source": [
    "#Verificando se a filtragem deu certo\n",
    "df_salvador.show()"
   ]
  },
  {
   "cell_type": "code",
   "execution_count": 5,
   "metadata": {},
   "outputs": [
    {
     "name": "stdout",
     "output_type": "stream",
     "text": [
      "1097829\n"
     ]
    }
   ],
   "source": [
    "#Tamanho da base df_salvador\n",
    "tam_df_salvador = df_salvador.count()\n",
    "print(tam_df_salvador)"
   ]
  },
  {
   "cell_type": "markdown",
   "metadata": {},
   "source": [
    "#### Formatando DataSet"
   ]
  },
  {
   "cell_type": "code",
   "execution_count": 21,
   "metadata": {},
   "outputs": [],
   "source": [
    "'''\n",
    "Vamos filtrar se baseando no Layout do IBGE, baixado no mesmo local da base.\n",
    "substr(coluna,posição inicial, tamanho)\n",
    "'''\n",
    "df_salvador = df_salvador.select( expr(\"substr(value,17,20)\").alias(\"TP_Logradouro\"),\n",
    "                                    expr(\"substr(value,37,30)\").alias(\"Titulo_Logradouro\"),\n",
    "                                    expr(\"substr(value,67,60)\").alias(\"Nome_Logradouro\"),\n",
    "                                    expr(\"substr(value,127,8)\").alias(\"Num_Logradouro\"),\n",
    "                                    expr(\"substr(value,12,4)\").alias(\"Setor_Censitario\"),\n",
    "                                    expr(\"substr(value,142,180)\").alias(\"Complemento\")\n",
    "                                   )"
   ]
  },
  {
   "cell_type": "code",
   "execution_count": 13,
   "metadata": {},
   "outputs": [
    {
     "name": "stdout",
     "output_type": "stream",
     "text": [
      "+--------------------+--------------------+--------------------+--------------+----------------+--------------------+\n",
      "|       TP_Logradouro|   Titulo_Logradouro|     Nome_Logradouro|Num_Logradouro|Setor_Censitario|         Complemento|\n",
      "+--------------------+--------------------+--------------------+--------------+----------------+--------------------+\n",
      "|TRAVESSA            |                 ...|BASILIO MAGALHAES...|      0       |            0001|                 ...|\n",
      "|TRAVESSA            |                 ...|BASILIO MAGALHAES...|      0       |            0001|                 ...|\n",
      "|TRAVESSA            |                 ...|BASILIO MAGALHAES...|      0       |            0001|                 ...|\n",
      "|TRAVESSA            |                 ...|BASILIO MAGALHAES...|      0       |            0001|                 ...|\n",
      "|TRAVESSA            |                 ...|BASILIO MAGALHAES...|      19      |            0001|                 ...|\n",
      "|TRAVESSA            |                 ...|BASILIO MAGALHAES...|      20      |            0001|                 ...|\n",
      "|TRAVESSA            |                 ...|BASILIO MAGALHAES...|      40      |            0001|                 ...|\n",
      "|TRAVESSA            |                 ...|BASILIO MAGALHAES...|      46      |            0001|                 ...|\n",
      "|TRAVESSA            |                 ...|BASILIO MAGALHAES...|      81      |            0001|                 ...|\n",
      "|TRAVESSA            |                 ...|BASILIO MAGALHAES...|      84      |            0001|SOBRADO          ...|\n",
      "|TRAVESSA            |                 ...|BASILIO MAGALHAES...|      84      |            0001|TERREO           ...|\n",
      "|TRAVESSA            |                 ...|BASILIO MAGALHAES...|      90      |            0001|                 ...|\n",
      "|TRAVESSA            |                 ...|BASILIO MAGALHAES...|      116     |            0001|                 ...|\n",
      "|TRAVESSA            |                 ...|BASILIO MAGALHAES...|      127     |            0001|                 ...|\n",
      "|RUA                 |                 ...|BORGES DOS REIS  ...|      0       |            0001|                 ...|\n",
      "|LARGO               |                 ...|DA MARIQUITA     ...|      0       |            0001|                 ...|\n",
      "|LARGO               |                 ...|DA MARIQUITA     ...|      0       |            0001|                 ...|\n",
      "|LARGO               |                 ...|DA MARIQUITA     ...|      10      |            0001|LOJA             ...|\n",
      "|LARGO               |                 ...|DA MARIQUITA     ...|      10      |            0001|LOJA             ...|\n",
      "|LARGO               |                 ...|DA MARIQUITA     ...|      10      |            0001|APARTAMENTO      ...|\n",
      "+--------------------+--------------------+--------------------+--------------+----------------+--------------------+\n",
      "only showing top 20 rows\n",
      "\n"
     ]
    }
   ],
   "source": [
    "df_salvador.show()"
   ]
  },
  {
   "cell_type": "code",
   "execution_count": 14,
   "metadata": {},
   "outputs": [
    {
     "name": "stdout",
     "output_type": "stream",
     "text": [
      "root\n",
      " |-- TP_Logradouro: string (nullable = true)\n",
      " |-- Titulo_Logradouro: string (nullable = true)\n",
      " |-- Nome_Logradouro: string (nullable = true)\n",
      " |-- Num_Logradouro: string (nullable = true)\n",
      " |-- Setor_Censitario: string (nullable = true)\n",
      " |-- Complemento: string (nullable = true)\n",
      "\n"
     ]
    }
   ],
   "source": [
    "#Informações do DataFrame\n",
    "df_salvador.printSchema()"
   ]
  },
  {
   "cell_type": "markdown",
   "metadata": {},
   "source": [
    "#### Criando Base A"
   ]
  },
  {
   "cell_type": "code",
   "execution_count": 37,
   "metadata": {},
   "outputs": [],
   "source": [
    "\"\"\"\n",
    "Agora vamos tirar uma amostra no tamanho de 100 mil da base de salvador\n",
    "Vamos fazer uma amostragem aleatória sem reposição usando o método \"sample\"\n",
    "\"\"\"\n",
    "tam_amostra_A  = 100000\n",
    "\n",
    "fracao_amostra = tam_amostra_A/tam_df_salvador # = 0.0910888672097385\n",
    "\n",
    "#arrendondar \"fraction\" pra cima e limitar por 100 mil, além de incluir a seed pra manter a Reprodutibilidade\n",
    "\n",
    "df_A = df_salvador.sample(withReplacement = False, fraction = 0.092, seed = 42).limit(tam_amostra_A) "
   ]
  },
  {
   "cell_type": "code",
   "execution_count": 16,
   "metadata": {},
   "outputs": [
    {
     "data": {
      "text/plain": [
       "100000"
      ]
     },
     "execution_count": 16,
     "metadata": {},
     "output_type": "execute_result"
    }
   ],
   "source": [
    "#contagem base A\n",
    "df_A.count()"
   ]
  },
  {
   "cell_type": "markdown",
   "metadata": {},
   "source": [
    "- Vamos formatar a base A, deixar ela mais apresentável"
   ]
  },
  {
   "cell_type": "code",
   "execution_count": 38,
   "metadata": {},
   "outputs": [],
   "source": [
    "#Vamos tirar os espações em excesso dos campos nas laterais da string usando a função trim()\n",
    "\n",
    "df_A = df_A.withColumn(\"TP_Logradouro\", trim(col(\"TP_Logradouro\")))\\\n",
    "           .withColumn(\"Titulo_Logradouro\", trim(col(\"Titulo_Logradouro\")))\\\n",
    "           .withColumn(\"Nome_Logradouro\", trim(col(\"Nome_Logradouro\")))\\\n",
    "           .withColumn(\"Num_Logradouro\", trim(col(\"Num_Logradouro\")))\\\n",
    "           .withColumn(\"Setor_Censitario\", trim(col(\"Setor_Censitario\")))\\\n",
    "           .withColumn(\"Complemento\", trim(col(\"Complemento\")))"
   ]
  },
  {
   "cell_type": "code",
   "execution_count": 18,
   "metadata": {},
   "outputs": [
    {
     "name": "stdout",
     "output_type": "stream",
     "text": [
      "+-------------+-----------------+-----------------+--------------+----------------+--------------------+\n",
      "|TP_Logradouro|Titulo_Logradouro|  Nome_Logradouro|Num_Logradouro|Setor_Censitario|         Complemento|\n",
      "+-------------+-----------------+-----------------+--------------+----------------+--------------------+\n",
      "|     TRAVESSA|                 |BASILIO MAGALHAES|             0|            0001|                    |\n",
      "|        LARGO|                 |     DA MARIQUITA|            10|            0001|APARTAMENTO      ...|\n",
      "|          RUA|                 |          DO MEIO|             0|            0001|                    |\n",
      "|          RUA|                 |          DO MEIO|             0|            0001|                    |\n",
      "|          RUA|                 |          DO MEIO|            74|            0001|             SOBRADO|\n",
      "|          RUA|                 |          DO MEIO|            74|            0001|              TERREO|\n",
      "|          RUA|                 |          DO MEIO|           119|            0001|APARTAMENTO      ...|\n",
      "|          RUA|                 |          DO MEIO|           119|            0001|APARTAMENTO      ...|\n",
      "|          RUA|                 |          DO MEIO|           222|            0001|                    |\n",
      "|          RUA|                 |     FONTE DO BOI|             5|            0001|                    |\n",
      "+-------------+-----------------+-----------------+--------------+----------------+--------------------+\n",
      "only showing top 10 rows\n",
      "\n"
     ]
    }
   ],
   "source": [
    "df_A.show(10)"
   ]
  },
  {
   "cell_type": "code",
   "execution_count": 39,
   "metadata": {},
   "outputs": [],
   "source": [
    "#Agora vamos tirar o espaço em excesso entre as palavra no campo COMPLEMENTO\n",
    "\n",
    "df_A = df_A.withColumn(\"Complemento\", regexp_replace(\"Complemento\", '\\\\s+', ' '))"
   ]
  },
  {
   "cell_type": "code",
   "execution_count": 35,
   "metadata": {},
   "outputs": [
    {
     "name": "stdout",
     "output_type": "stream",
     "text": [
      "+---+-------------+-----------------+-----------------+--------------+----------------+---------------+\n",
      "| Id|TP_Logradouro|Titulo_Logradouro|  Nome_Logradouro|Num_Logradouro|Setor_Censitario|    Complemento|\n",
      "+---+-------------+-----------------+-----------------+--------------+----------------+---------------+\n",
      "|  0|     TRAVESSA|                 |BASILIO MAGALHAES|             0|            0001|               |\n",
      "|  1|        LARGO|                 |     DA MARIQUITA|            10|            0001|APARTAMENTO 202|\n",
      "|  2|          RUA|                 |          DO MEIO|             0|            0001|               |\n",
      "|  3|          RUA|                 |          DO MEIO|             0|            0001|               |\n",
      "|  4|          RUA|                 |          DO MEIO|            74|            0001|        SOBRADO|\n",
      "|  5|          RUA|                 |          DO MEIO|            74|            0001|         TERREO|\n",
      "|  6|          RUA|                 |          DO MEIO|           119|            0001|APARTAMENTO 201|\n",
      "|  7|          RUA|                 |          DO MEIO|           119|            0001|APARTAMENTO 101|\n",
      "|  8|          RUA|                 |          DO MEIO|           222|            0001|               |\n",
      "|  9|          RUA|                 |     FONTE DO BOI|             5|            0001|               |\n",
      "+---+-------------+-----------------+-----------------+--------------+----------------+---------------+\n",
      "only showing top 10 rows\n",
      "\n"
     ]
    }
   ],
   "source": [
    "#Podemos verificar que os espaços foram retirados e o ID incluído\n",
    "\n",
    "df_A.show(10)"
   ]
  },
  {
   "cell_type": "code",
   "execution_count": 40,
   "metadata": {},
   "outputs": [],
   "source": [
    "#Transformando a base Spark em uma base Pandas\n",
    "df_A_pd = df_A.toPandas()"
   ]
  },
  {
   "cell_type": "code",
   "execution_count": 42,
   "metadata": {},
   "outputs": [],
   "source": [
    "#Exportando em fomato CSV\n",
    "df_A_pd.to_csv(\"./Bases_Geradas/baseA.csv\", na_rep = \"NULL\", index = True, encoding = 'utf-8', index_label=\"Id\")"
   ]
  },
  {
   "cell_type": "markdown",
   "metadata": {},
   "source": [
    "#### Descritiva Simples"
   ]
  },
  {
   "cell_type": "markdown",
   "metadata": {},
   "source": [
    " - A base \"df_salvador\" importada tem um pouco mais de 1M de linhas\n",
    " \n",
    " - A amostra A tem **100 mil linhas** e conseguimos notar que, todas as colunas são, por enquanto, do tipo **string**\n",
    "\n",
    " - Havia excesso de espaços no campo **COMPLEMENTO**,  **LOGRADOURO** e **TITULO**\n",
    "\n",
    " - Além disso, há valores ausentes(string vazia) em **COMPLEMENTO** e **TITULO**"
   ]
  },
  {
   "cell_type": "code",
   "execution_count": 43,
   "metadata": {},
   "outputs": [
    {
     "data": {
      "text/plain": [
       "593"
      ]
     },
     "execution_count": 43,
     "metadata": {},
     "output_type": "execute_result"
    }
   ],
   "source": [
    "df_A.select(col(\"Setor_Censitario\")).distinct().count()"
   ]
  },
  {
   "cell_type": "markdown",
   "metadata": {},
   "source": [
    "- Observamos também que há **593 setores censitários** na amostra **A**\n",
    "\n",
    "- Outra observação é que vamos manter as **strings** vazias da amostra **A**, em seguida faremos o mesmo pra **B**, pois as colunas **COMPLEMENTO** e **TITULO** são opcionais e não necessariamente tem valores, portanto usaremos o algoritmo nessas condições."
   ]
  },
  {
   "cell_type": "markdown",
   "metadata": {},
   "source": [
    "#### Criando Base B"
   ]
  },
  {
   "cell_type": "markdown",
   "metadata": {},
   "source": [
    "- Amostragem"
   ]
  },
  {
   "cell_type": "code",
   "execution_count": 44,
   "metadata": {},
   "outputs": [],
   "source": [
    "'''\n",
    "Vamos criar a base B a partir da A, já formatada e menor, isso vai nos trazer mais desempenho\n",
    "e mais simplicidade para a aplicação do algoritmo\n",
    "'''\n",
    "\n",
    "#vamos usar 6 mil registros para a base B\n",
    "\n",
    "tam_amostra_B = 6000\n",
    "\n",
    "#fração em relação ao tamanho base A\n",
    "\n",
    "fracao_amostra_B = tam_amostra_B/tam_amostra_A # 6000/100000 = 0.06\n",
    "\n",
    "#Amostragem aleatória, arrendodando pra cima e limitando pelo tamanho da amostra\n",
    "\n",
    "df_B = df_A.sample(fraction = 0.065, seed = 32, withReplacement = False).limit(tam_amostra_B)"
   ]
  },
  {
   "cell_type": "code",
   "execution_count": 45,
   "metadata": {},
   "outputs": [
    {
     "data": {
      "text/plain": [
       "6000"
      ]
     },
     "execution_count": 45,
     "metadata": {},
     "output_type": "execute_result"
    }
   ],
   "source": [
    "#Contagem\n",
    "\n",
    "df_B.count()"
   ]
  },
  {
   "cell_type": "code",
   "execution_count": 46,
   "metadata": {},
   "outputs": [],
   "source": [
    "#Vamos reformatar o Id, que veio aleatoriamente de acordo com a amostragem\n",
    "windowSpec = Window.orderBy(lit(1))\n",
    "df_B = df_B.withColumn('Id', row_number().over(windowSpec).cast('int') - 1)"
   ]
  },
  {
   "cell_type": "code",
   "execution_count": 47,
   "metadata": {},
   "outputs": [
    {
     "name": "stdout",
     "output_type": "stream",
     "text": [
      "+-------------+-----------------+---------------+--------------+----------------+--------------------+---+\n",
      "|TP_Logradouro|Titulo_Logradouro|Nome_Logradouro|Num_Logradouro|Setor_Censitario|         Complemento| Id|\n",
      "+-------------+-----------------+---------------+--------------+----------------+--------------------+---+\n",
      "|          RUA|                 |   FONTE DO BOI|           176|            0001|APARTAMENTO 303 B...|  0|\n",
      "|      AVENIDA|                 |   OSWALDO CRUZ|           222|            0001|              LOJA 4|  1|\n",
      "|          RUA|                 |   FONTE DO BOI|            55|            0002|APARTAMENTO 05 AN...|  2|\n",
      "|          RUA|                 | BARRO VERMELHO|             0|            0003|APARTAMENTO 204 B...|  3|\n",
      "|          RUA|                 | BARRO VERMELHO|            93|            0003|     APARTAMENTO 105|  4|\n",
      "|        PRACA|                 | AUGUSTO SEVERO|             6|            0004|                    |  5|\n",
      "|          RUA|                 |        TAMOIOS|           260|            0005|ANDAR 2 APARTAMEN...|  6|\n",
      "|          RUA|                 | RODRIGO ARGOLO|           163|            0007|     APARTAMENTO 102|  7|\n",
      "|      AVENIDA|                 |         MAMUTE|            49|            0009|                    |  8|\n",
      "|          RUA|       PROFESSORA|NATALIA VINHAIS|            71|            0010|     APARTAMENTO 201|  9|\n",
      "+-------------+-----------------+---------------+--------------+----------------+--------------------+---+\n",
      "only showing top 10 rows\n",
      "\n"
     ]
    }
   ],
   "source": [
    "#df resultante\n",
    "\n",
    "df_B.show(10)"
   ]
  },
  {
   "cell_type": "markdown",
   "metadata": {},
   "source": [
    "#### Inserindo Mil Registros Com Valores Ausentes Em Uma Das Variáveis"
   ]
  },
  {
   "cell_type": "markdown",
   "metadata": {},
   "source": [
    "\n",
    "- Para fazermos isso vamos usar a seguinte abordagem:\n",
    "    \n",
    "    - Vamos criar uma **lista** de valores random baseados **tamanho** da amostra **B**.\n",
    "\n",
    "    - Inserir o valor None(vazio em python), em uma das colunas, no caso vamos usar a coluna **NUMERO** (Num_Logradouro)\n",
    "\n",
    "    - Usaremos **.withColumn** com **.when().otherwise()** para comparar os valores da **lista** com o **Id** do **DataFrame** e em seguida inserir os valores ausentes.\n",
    "  "
   ]
  },
  {
   "cell_type": "code",
   "execution_count": 48,
   "metadata": {},
   "outputs": [],
   "source": [
    "#variável com a quantidade de valores ausentes\n",
    "qtd_ausentes = 1000\n",
    "\n",
    "#seed para preservar a reprodutibilidade dos dados\n",
    "random.seed(32)\n",
    "\n",
    "#Criando lista de valores random\n",
    "lista_random = random.sample(range(tam_amostra_B), qtd_ausentes)"
   ]
  },
  {
   "cell_type": "code",
   "execution_count": 49,
   "metadata": {},
   "outputs": [
    {
     "name": "stdout",
     "output_type": "stream",
     "text": [
      "1000\n",
      "1000\n"
     ]
    }
   ],
   "source": [
    "#Tamanho lista\n",
    "print(len(lista_random))\n",
    "\n",
    "#verificar se os valores são distintos entre si\n",
    "print(len(set(lista_random)))"
   ]
  },
  {
   "cell_type": "code",
   "execution_count": 78,
   "metadata": {},
   "outputs": [
    {
     "name": "stdout",
     "output_type": "stream",
     "text": [
      "[634, 1749, 1184, 2483, 5720, 1948, 4065, 199, 5900, 315]\n"
     ]
    }
   ],
   "source": [
    "#visualizando\n",
    "print(lista_random[:10])"
   ]
  },
  {
   "cell_type": "code",
   "execution_count": 51,
   "metadata": {},
   "outputs": [
    {
     "data": {
      "text/plain": [
       "0"
      ]
     },
     "execution_count": 51,
     "metadata": {},
     "output_type": "execute_result"
    }
   ],
   "source": [
    "# Verificar se há string vazia na coluna NUMERO(Num_Logradouro)\n",
    "df_B.filter(df_B['Num_Logradouro'] == \"\").count()"
   ]
  },
  {
   "cell_type": "code",
   "execution_count": 52,
   "metadata": {},
   "outputs": [
    {
     "data": {
      "text/plain": [
       "0"
      ]
     },
     "execution_count": 52,
     "metadata": {},
     "output_type": "execute_result"
    }
   ],
   "source": [
    "# Verificar se há valores ausentes na coluna NUMERO(Num_Logradouro)\n",
    "df_B.filter(col(\"Num_Logradouro\").isNull()).count()"
   ]
  },
  {
   "cell_type": "code",
   "execution_count": 53,
   "metadata": {},
   "outputs": [],
   "source": [
    "#Inserindo valores ausentes na coluna NUMERO(Num_Logradouro)\n",
    "df_B = df_B.withColumn(\"Num_Logradouro\", when(col('Id').isin(lista_random), None).otherwise(col(\"Num_Logradouro\")))"
   ]
  },
  {
   "cell_type": "code",
   "execution_count": 54,
   "metadata": {},
   "outputs": [
    {
     "data": {
      "text/plain": [
       "1000"
      ]
     },
     "execution_count": 54,
     "metadata": {},
     "output_type": "execute_result"
    }
   ],
   "source": [
    "# Verificar se os valores ausentes foram inseridos na coluna NUMERO(Num_Logradouro)\n",
    "df_B.filter(col(\"Num_Logradouro\").isNull()).count()"
   ]
  },
  {
   "cell_type": "code",
   "execution_count": 55,
   "metadata": {},
   "outputs": [
    {
     "name": "stdout",
     "output_type": "stream",
     "text": [
      "+-------------+-----------------+---------------+--------------+----------------+--------------------+---+\n",
      "|TP_Logradouro|Titulo_Logradouro|Nome_Logradouro|Num_Logradouro|Setor_Censitario|         Complemento| Id|\n",
      "+-------------+-----------------+---------------+--------------+----------------+--------------------+---+\n",
      "|          RUA|                 |   FONTE DO BOI|           176|            0001|APARTAMENTO 303 B...|  0|\n",
      "|      AVENIDA|                 |   OSWALDO CRUZ|           222|            0001|              LOJA 4|  1|\n",
      "|          RUA|                 |   FONTE DO BOI|            55|            0002|APARTAMENTO 05 AN...|  2|\n",
      "|          RUA|                 | BARRO VERMELHO|             0|            0003|APARTAMENTO 204 B...|  3|\n",
      "|          RUA|                 | BARRO VERMELHO|            93|            0003|     APARTAMENTO 105|  4|\n",
      "|        PRACA|                 | AUGUSTO SEVERO|             6|            0004|                    |  5|\n",
      "|          RUA|                 |        TAMOIOS|          NULL|            0005|ANDAR 2 APARTAMEN...|  6|\n",
      "|          RUA|                 | RODRIGO ARGOLO|           163|            0007|     APARTAMENTO 102|  7|\n",
      "|      AVENIDA|                 |         MAMUTE|          NULL|            0009|                    |  8|\n",
      "|          RUA|       PROFESSORA|NATALIA VINHAIS|          NULL|            0010|     APARTAMENTO 201|  9|\n",
      "+-------------+-----------------+---------------+--------------+----------------+--------------------+---+\n",
      "only showing top 10 rows\n",
      "\n"
     ]
    }
   ],
   "source": [
    "#Visualizando\n",
    "df_B.show(10)"
   ]
  },
  {
   "cell_type": "markdown",
   "metadata": {},
   "source": [
    "#### Supressão De Palavras (aleatória) Nas Variáveis"
   ]
  },
  {
   "cell_type": "markdown",
   "metadata": {},
   "source": [
    "- Para fazermos isso vamos usar a seguinte abordagem:\n",
    "\n",
    "    - Primeiro vamos transforamr o **DF Spark** em um **DF pandas**, pra melhorar o fluxo de trabalho e pra facilitar as manipulações.\n",
    "\n",
    "    - Vamos criar as **funções** que vão retirar **uma** e **duas palavras aleátorias** nas variáveis **Nome_Logradouro** e **Complemento**.\n",
    "\n",
    "    - Vamos criar **duas listas**, com **valores aleatórios**, baseadas em índices do tamanho da base B. Isso vai permitir modificar mais facilmente os valores de determinada variável.\n",
    "\n",
    "    - Além disso, vamos exportar a base, somente com os campos **Nome_Logradouro** e **Complemento**, usando o Pandas e vamos ler essa base usando o Spark. Isso vai evitar conflitos e má formatação na mudança de frameworks.\n",
    "\n",
    "    - Ao final vamos retirar as antigas colunas da **base B** e vamos inserir as novas usando o **FULL JOIN**"
   ]
  },
  {
   "cell_type": "code",
   "execution_count": 56,
   "metadata": {},
   "outputs": [],
   "source": [
    "df_B_pd = df_B.toPandas()"
   ]
  },
  {
   "cell_type": "code",
   "execution_count": 57,
   "metadata": {},
   "outputs": [
    {
     "data": {
      "text/html": [
       "<div>\n",
       "<style scoped>\n",
       "    .dataframe tbody tr th:only-of-type {\n",
       "        vertical-align: middle;\n",
       "    }\n",
       "\n",
       "    .dataframe tbody tr th {\n",
       "        vertical-align: top;\n",
       "    }\n",
       "\n",
       "    .dataframe thead th {\n",
       "        text-align: right;\n",
       "    }\n",
       "</style>\n",
       "<table border=\"1\" class=\"dataframe\">\n",
       "  <thead>\n",
       "    <tr style=\"text-align: right;\">\n",
       "      <th></th>\n",
       "      <th>TP_Logradouro</th>\n",
       "      <th>Titulo_Logradouro</th>\n",
       "      <th>Nome_Logradouro</th>\n",
       "      <th>Num_Logradouro</th>\n",
       "      <th>Setor_Censitario</th>\n",
       "      <th>Complemento</th>\n",
       "      <th>Id</th>\n",
       "    </tr>\n",
       "  </thead>\n",
       "  <tbody>\n",
       "    <tr>\n",
       "      <th>0</th>\n",
       "      <td>RUA</td>\n",
       "      <td></td>\n",
       "      <td>FONTE DO BOI</td>\n",
       "      <td>176</td>\n",
       "      <td>0001</td>\n",
       "      <td>APARTAMENTO 303 BLOCO B</td>\n",
       "      <td>0</td>\n",
       "    </tr>\n",
       "    <tr>\n",
       "      <th>1</th>\n",
       "      <td>AVENIDA</td>\n",
       "      <td></td>\n",
       "      <td>OSWALDO CRUZ</td>\n",
       "      <td>222</td>\n",
       "      <td>0001</td>\n",
       "      <td>LOJA 4</td>\n",
       "      <td>1</td>\n",
       "    </tr>\n",
       "    <tr>\n",
       "      <th>2</th>\n",
       "      <td>RUA</td>\n",
       "      <td></td>\n",
       "      <td>FONTE DO BOI</td>\n",
       "      <td>55</td>\n",
       "      <td>0002</td>\n",
       "      <td>APARTAMENTO 05 ANDAR 1</td>\n",
       "      <td>2</td>\n",
       "    </tr>\n",
       "    <tr>\n",
       "      <th>3</th>\n",
       "      <td>RUA</td>\n",
       "      <td></td>\n",
       "      <td>BARRO VERMELHO</td>\n",
       "      <td>0</td>\n",
       "      <td>0003</td>\n",
       "      <td>APARTAMENTO 204 BLOCO B</td>\n",
       "      <td>3</td>\n",
       "    </tr>\n",
       "    <tr>\n",
       "      <th>4</th>\n",
       "      <td>RUA</td>\n",
       "      <td></td>\n",
       "      <td>BARRO VERMELHO</td>\n",
       "      <td>93</td>\n",
       "      <td>0003</td>\n",
       "      <td>APARTAMENTO 105</td>\n",
       "      <td>4</td>\n",
       "    </tr>\n",
       "  </tbody>\n",
       "</table>\n",
       "</div>"
      ],
      "text/plain": [
       "  TP_Logradouro Titulo_Logradouro Nome_Logradouro Num_Logradouro  \\\n",
       "0           RUA                      FONTE DO BOI            176   \n",
       "1       AVENIDA                      OSWALDO CRUZ            222   \n",
       "2           RUA                      FONTE DO BOI             55   \n",
       "3           RUA                    BARRO VERMELHO              0   \n",
       "4           RUA                    BARRO VERMELHO             93   \n",
       "\n",
       "  Setor_Censitario              Complemento  Id  \n",
       "0             0001  APARTAMENTO 303 BLOCO B   0  \n",
       "1             0001                   LOJA 4   1  \n",
       "2             0002   APARTAMENTO 05 ANDAR 1   2  \n",
       "3             0003  APARTAMENTO 204 BLOCO B   3  \n",
       "4             0003          APARTAMENTO 105   4  "
      ]
     },
     "execution_count": 57,
     "metadata": {},
     "output_type": "execute_result"
    }
   ],
   "source": [
    "df_B_pd.head()"
   ]
  },
  {
   "cell_type": "markdown",
   "metadata": {},
   "source": [
    "- Funções Usadas"
   ]
  },
  {
   "cell_type": "code",
   "execution_count": 58,
   "metadata": {},
   "outputs": [],
   "source": [
    "#Função para supressão de uma palavra\n",
    "def supressao_palavra(p):\n",
    "    random.seed(42)\n",
    "    if p is not None:\n",
    "        palavras = p.split()\n",
    "        if palavras:\n",
    "            indice = random.randint(0,len(palavras) - 1)\n",
    "            del palavras[indice]\n",
    "            return \" \".join(palavras)\n",
    "        else:\n",
    "            return p\n",
    "    else:\n",
    "        return None\n",
    "\n",
    "    "
   ]
  },
  {
   "cell_type": "code",
   "execution_count": 59,
   "metadata": {},
   "outputs": [],
   "source": [
    "#Função para supressão de duas palavras\n",
    "def supressao_palavra_2(p):\n",
    "    if p is not None:\n",
    "        palavras = p.split()\n",
    "        for i in range(2):\n",
    "            if palavras:\n",
    "                indice = random.randint(0,len(palavras) - 1)\n",
    "                del palavras[indice]\n",
    "            else:\n",
    "                return p\n",
    "        return \" \".join(palavras)\n",
    "    else:\n",
    "        return None"
   ]
  },
  {
   "cell_type": "markdown",
   "metadata": {},
   "source": [
    "#### Supressão De **Uma Palavra** em 2 Mil Registros Na Coluna **Nome_Logradouro**"
   ]
  },
  {
   "cell_type": "code",
   "execution_count": 60,
   "metadata": {},
   "outputs": [],
   "source": [
    "random.seed(33)\n",
    "\n",
    "#Criando lista de valores random\n",
    "indices_random_1 = random.sample(range(tam_amostra_B), 2000)"
   ]
  },
  {
   "cell_type": "code",
   "execution_count": 79,
   "metadata": {},
   "outputs": [
    {
     "name": "stdout",
     "output_type": "stream",
     "text": [
      "[4672, 1370, 5179, 1910, 2271, 3923, 5340, 4363, 4320, 1527]\n"
     ]
    }
   ],
   "source": [
    "print(indices_random_1[:10])"
   ]
  },
  {
   "cell_type": "code",
   "execution_count": 62,
   "metadata": {},
   "outputs": [],
   "source": [
    "#Aplicando a função(supressao_palavra) nos indices contidos na lista\n",
    "df_B_pd.loc[indices_random_1,'Nome_Logradouro'] = df_B_pd.loc[indices_random_1,'Nome_Logradouro'].apply(supressao_palavra)"
   ]
  },
  {
   "cell_type": "markdown",
   "metadata": {},
   "source": [
    "#### Supressão De **Duas Palavras** em 3 Mil Registros Na Coluna **Complemento**"
   ]
  },
  {
   "cell_type": "code",
   "execution_count": 63,
   "metadata": {},
   "outputs": [],
   "source": [
    "random.seed(31)\n",
    "\n",
    "#Criando lista, com tamanho 3 mil, de valores random\n",
    "indices_random_2 = random.sample(range(tam_amostra_B), 3000)"
   ]
  },
  {
   "cell_type": "code",
   "execution_count": 77,
   "metadata": {},
   "outputs": [
    {
     "name": "stdout",
     "output_type": "stream",
     "text": [
      "[100, 3846, 920, 3218, 1153, 5602, 354, 1136, 921, 4384]\n"
     ]
    }
   ],
   "source": [
    "print(indices_random_2[:10])"
   ]
  },
  {
   "cell_type": "code",
   "execution_count": 65,
   "metadata": {},
   "outputs": [],
   "source": [
    "#Aplicando a função(supressao_palavra_2) nos indices contidos na lista \n",
    "df_B_pd.loc[indices_random_2,'Complemento'] = df_B_pd.loc[indices_random_2,'Complemento'].apply(supressao_palavra_2)"
   ]
  },
  {
   "cell_type": "markdown",
   "metadata": {},
   "source": [
    " - Visualizando"
   ]
  },
  {
   "cell_type": "code",
   "execution_count": 66,
   "metadata": {},
   "outputs": [
    {
     "data": {
      "text/html": [
       "<div>\n",
       "<style scoped>\n",
       "    .dataframe tbody tr th:only-of-type {\n",
       "        vertical-align: middle;\n",
       "    }\n",
       "\n",
       "    .dataframe tbody tr th {\n",
       "        vertical-align: top;\n",
       "    }\n",
       "\n",
       "    .dataframe thead th {\n",
       "        text-align: right;\n",
       "    }\n",
       "</style>\n",
       "<table border=\"1\" class=\"dataframe\">\n",
       "  <thead>\n",
       "    <tr style=\"text-align: right;\">\n",
       "      <th></th>\n",
       "      <th>TP_Logradouro</th>\n",
       "      <th>Titulo_Logradouro</th>\n",
       "      <th>Nome_Logradouro</th>\n",
       "      <th>Num_Logradouro</th>\n",
       "      <th>Setor_Censitario</th>\n",
       "      <th>Complemento</th>\n",
       "      <th>Id</th>\n",
       "    </tr>\n",
       "  </thead>\n",
       "  <tbody>\n",
       "    <tr>\n",
       "      <th>0</th>\n",
       "      <td>RUA</td>\n",
       "      <td></td>\n",
       "      <td>FONTE DO BOI</td>\n",
       "      <td>176</td>\n",
       "      <td>0001</td>\n",
       "      <td>APARTAMENTO 303 BLOCO B</td>\n",
       "      <td>0</td>\n",
       "    </tr>\n",
       "    <tr>\n",
       "      <th>1</th>\n",
       "      <td>AVENIDA</td>\n",
       "      <td></td>\n",
       "      <td>OSWALDO CRUZ</td>\n",
       "      <td>222</td>\n",
       "      <td>0001</td>\n",
       "      <td></td>\n",
       "      <td>1</td>\n",
       "    </tr>\n",
       "    <tr>\n",
       "      <th>2</th>\n",
       "      <td>RUA</td>\n",
       "      <td></td>\n",
       "      <td>FONTE DO BOI</td>\n",
       "      <td>55</td>\n",
       "      <td>0002</td>\n",
       "      <td>APARTAMENTO ANDAR</td>\n",
       "      <td>2</td>\n",
       "    </tr>\n",
       "    <tr>\n",
       "      <th>3</th>\n",
       "      <td>RUA</td>\n",
       "      <td></td>\n",
       "      <td>BARRO VERMELHO</td>\n",
       "      <td>0</td>\n",
       "      <td>0003</td>\n",
       "      <td>APARTAMENTO 204 BLOCO B</td>\n",
       "      <td>3</td>\n",
       "    </tr>\n",
       "    <tr>\n",
       "      <th>4</th>\n",
       "      <td>RUA</td>\n",
       "      <td></td>\n",
       "      <td>BARRO VERMELHO</td>\n",
       "      <td>93</td>\n",
       "      <td>0003</td>\n",
       "      <td>APARTAMENTO 105</td>\n",
       "      <td>4</td>\n",
       "    </tr>\n",
       "  </tbody>\n",
       "</table>\n",
       "</div>"
      ],
      "text/plain": [
       "  TP_Logradouro Titulo_Logradouro Nome_Logradouro Num_Logradouro  \\\n",
       "0           RUA                      FONTE DO BOI            176   \n",
       "1       AVENIDA                      OSWALDO CRUZ            222   \n",
       "2           RUA                      FONTE DO BOI             55   \n",
       "3           RUA                    BARRO VERMELHO              0   \n",
       "4           RUA                    BARRO VERMELHO             93   \n",
       "\n",
       "  Setor_Censitario              Complemento  Id  \n",
       "0             0001  APARTAMENTO 303 BLOCO B   0  \n",
       "1             0001                            1  \n",
       "2             0002        APARTAMENTO ANDAR   2  \n",
       "3             0003  APARTAMENTO 204 BLOCO B   3  \n",
       "4             0003          APARTAMENTO 105   4  "
      ]
     },
     "execution_count": 66,
     "metadata": {},
     "output_type": "execute_result"
    }
   ],
   "source": [
    "df_B_pd.head()"
   ]
  },
  {
   "cell_type": "markdown",
   "metadata": {},
   "source": [
    " #### Exportando Base Com Pandas e Lendo Com Spark"
   ]
  },
  {
   "cell_type": "code",
   "execution_count": 67,
   "metadata": {},
   "outputs": [],
   "source": [
    "#Exportando as colunas de interesse\n",
    "df_B_pd[['Nome_Logradouro','Complemento']].to_csv(\"./Bases_Geradas/Log_Comp.csv\", header = True, index = False, na_rep= None)"
   ]
  },
  {
   "cell_type": "code",
   "execution_count": 68,
   "metadata": {},
   "outputs": [],
   "source": [
    "#Lendo com spark\n",
    "df_Log_Comp = spark.read.csv('./Bases_Geradas/Log_Comp.csv', inferSchema = False, header = True, nullValue= None)"
   ]
  },
  {
   "cell_type": "markdown",
   "metadata": {},
   "source": [
    " - Recolocando Strings Vazias Que Foram Perdidas"
   ]
  },
  {
   "cell_type": "code",
   "execution_count": 69,
   "metadata": {},
   "outputs": [],
   "source": [
    "#Nas colunas \"Nome_Logradouro\" e \"Complemento\" onde tiver nulo substitui por \"\"\n",
    "df_Log_Comp = df_Log_Comp.withColumn(\"Nome_Logradouro\" , when(col(\"Nome_Logradouro\").isNull(),\"\").otherwise(col(\"Nome_Logradouro\")))\\\n",
    "                         .withColumn(\"Complemento\", when(col(\"Complemento\").isNull(),\"\").otherwise(col(\"Complemento\")))"
   ]
  },
  {
   "cell_type": "code",
   "execution_count": 70,
   "metadata": {},
   "outputs": [],
   "source": [
    "#Colocando indices a base de dados\n",
    "df_Log_Comp = df_Log_Comp.withColumn('Id', row_number().over(windowSpec).cast('int') - 1)"
   ]
  },
  {
   "cell_type": "code",
   "execution_count": 71,
   "metadata": {},
   "outputs": [
    {
     "name": "stdout",
     "output_type": "stream",
     "text": [
      "+---------------+--------------------+---+\n",
      "|Nome_Logradouro|         Complemento| Id|\n",
      "+---------------+--------------------+---+\n",
      "|   FONTE DO BOI|APARTAMENTO 303 B...|  0|\n",
      "|   OSWALDO CRUZ|                    |  1|\n",
      "|   FONTE DO BOI|   APARTAMENTO ANDAR|  2|\n",
      "| BARRO VERMELHO|APARTAMENTO 204 B...|  3|\n",
      "| BARRO VERMELHO|     APARTAMENTO 105|  4|\n",
      "| AUGUSTO SEVERO|                    |  5|\n",
      "|        TAMOIOS|           ANDAR 201|  6|\n",
      "|         ARGOLO|                    |  7|\n",
      "|         MAMUTE|                    |  8|\n",
      "|        VINHAIS|     APARTAMENTO 201|  9|\n",
      "+---------------+--------------------+---+\n",
      "only showing top 10 rows\n",
      "\n"
     ]
    }
   ],
   "source": [
    "df_Log_Comp.show(10)"
   ]
  },
  {
   "cell_type": "markdown",
   "metadata": {},
   "source": [
    " #### Fazendo As Alterações Na Base **B**"
   ]
  },
  {
   "cell_type": "code",
   "execution_count": 72,
   "metadata": {},
   "outputs": [],
   "source": [
    "#retirando as antigas colunas\n",
    "df_B = df_B.drop(\"Nome_Logradouro\", \"Complemento\")"
   ]
  },
  {
   "cell_type": "code",
   "execution_count": 73,
   "metadata": {},
   "outputs": [],
   "source": [
    "#Fazendo o join(FULL) entre as duas tabelas baseadas no \"Id\"\n",
    "df_B = df_B.join(df_Log_Comp, on = \"Id\", how = \"full\")"
   ]
  },
  {
   "cell_type": "code",
   "execution_count": 74,
   "metadata": {},
   "outputs": [],
   "source": [
    "#Reorganizando a tabela\n",
    "df_B = df_B.select(\"Id\",\n",
    "                    \"TP_Logradouro\",\n",
    "                    \"Titulo_Logradouro\",\n",
    "                    \"Nome_Logradouro\",\n",
    "                    \"Num_Logradouro\",\n",
    "                    \"Setor_Censitario\",\n",
    "                    \"Complemento\"\n",
    "                    )"
   ]
  },
  {
   "cell_type": "code",
   "execution_count": 75,
   "metadata": {},
   "outputs": [
    {
     "name": "stdout",
     "output_type": "stream",
     "text": [
      "+---+-------------+-----------------+---------------+--------------+----------------+--------------------+\n",
      "| Id|TP_Logradouro|Titulo_Logradouro|Nome_Logradouro|Num_Logradouro|Setor_Censitario|         Complemento|\n",
      "+---+-------------+-----------------+---------------+--------------+----------------+--------------------+\n",
      "|  0|          RUA|                 |   FONTE DO BOI|           176|            0001|APARTAMENTO 303 B...|\n",
      "|  1|      AVENIDA|                 |   OSWALDO CRUZ|           222|            0001|                    |\n",
      "|  2|          RUA|                 |   FONTE DO BOI|            55|            0002|   APARTAMENTO ANDAR|\n",
      "|  3|          RUA|                 | BARRO VERMELHO|             0|            0003|APARTAMENTO 204 B...|\n",
      "|  4|          RUA|                 | BARRO VERMELHO|            93|            0003|     APARTAMENTO 105|\n",
      "|  5|        PRACA|                 | AUGUSTO SEVERO|             6|            0004|                    |\n",
      "|  6|          RUA|                 |        TAMOIOS|          NULL|            0005|           ANDAR 201|\n",
      "|  7|          RUA|                 |         ARGOLO|           163|            0007|                    |\n",
      "|  8|      AVENIDA|                 |         MAMUTE|          NULL|            0009|                    |\n",
      "|  9|          RUA|       PROFESSORA|        VINHAIS|          NULL|            0010|     APARTAMENTO 201|\n",
      "+---+-------------+-----------------+---------------+--------------+----------------+--------------------+\n",
      "only showing top 10 rows\n",
      "\n"
     ]
    }
   ],
   "source": [
    "#Verificando alterações\n",
    "df_B.show(10)"
   ]
  },
  {
   "cell_type": "code",
   "execution_count": 76,
   "metadata": {},
   "outputs": [],
   "source": [
    "#Exportando base B\n",
    "df_B_pd = df_B.toPandas()\n",
    "df_B_pd.to_csv(\"./Bases_Geradas/baseB.csv\", na_rep = \"NULL\", index = False, encoding = 'utf-8')"
   ]
  }
 ],
 "metadata": {
  "kernelspec": {
   "display_name": "Python 3",
   "language": "python",
   "name": "python3"
  },
  "language_info": {
   "codemirror_mode": {
    "name": "ipython",
    "version": 3
   },
   "file_extension": ".py",
   "mimetype": "text/x-python",
   "name": "python",
   "nbconvert_exporter": "python",
   "pygments_lexer": "ipython3",
   "version": "3.8.10"
  }
 },
 "nbformat": 4,
 "nbformat_minor": 2
}
