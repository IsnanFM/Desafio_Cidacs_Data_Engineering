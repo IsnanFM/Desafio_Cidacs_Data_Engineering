{
 "cells": [
  {
   "cell_type": "markdown",
   "metadata": {},
   "source": [
    "## Desafio Engenheiro de Dados Jr - Cidacs"
   ]
  },
  {
   "cell_type": "markdown",
   "metadata": {},
   "source": [
    "Imports"
   ]
  },
  {
   "cell_type": "code",
   "execution_count": 1,
   "metadata": {},
   "outputs": [],
   "source": [
    "from pyspark.sql import SparkSession, Window\n",
    "from pyspark.sql.functions import expr, col, trim, regexp_replace, row_number, lit, when\n",
    "import pandas as pd\n",
    "import random"
   ]
  },
  {
   "cell_type": "markdown",
   "metadata": {},
   "source": [
    "Configuração do SparkSession"
   ]
  },
  {
   "cell_type": "code",
   "execution_count": 2,
   "metadata": {},
   "outputs": [],
   "source": [
    "spark = SparkSession.builder \\\n",
    "    .appName(\"DesafioCidacs\") \\\n",
    "    .config(\"spark.executor.memory\", \"4g\") \\\n",
    "    .config(\"spark.driver.memory\", \"4g\") \\\n",
    "    .config(\"spark.executor.cores\", \"2\") \\\n",
    "    .config(\"spark.executor.instances\", \"2\") \\\n",
    "    .config(\"spark.driver.bindAddress\", \"127.0.0.1\") \\\n",
    "    .config(\"spark.sql.shuffle.partitions\", \"50\") \\\n",
    "    .getOrCreate()\n",
    "\n",
    "# Para otimização de leitura e escrita de dados\n",
    "spark.conf.set(\"spark.sql.parquet.compression.codec\", \"snappy\")\n",
    "\n",
    "# Para melhorar a performance do Spark SQL\n",
    "spark.conf.set(\"spark.sql.broadcastTimeout\", \"1000\")"
   ]
  },
  {
   "cell_type": "markdown",
   "metadata": {},
   "source": [
    "#### Extração do DataBase CNEFE - BAHIA"
   ]
  },
  {
   "cell_type": "code",
   "execution_count": 3,
   "metadata": {},
   "outputs": [],
   "source": [
    "#Base bahia, código 29\n",
    "df_principal = spark.read.text(\"./BASE_CNEFE_BA/base.txt\")"
   ]
  },
  {
   "cell_type": "code",
   "execution_count": 4,
   "metadata": {},
   "outputs": [
    {
     "name": "stdout",
     "output_type": "stream",
     "text": [
      "+--------------------+\n",
      "|               value|\n",
      "+--------------------+\n",
      "|2900108050000011R...|\n",
      "|2900108050000011R...|\n",
      "|2900108050000011R...|\n",
      "|2900108050000011R...|\n",
      "|2900108050000011R...|\n",
      "|2900108050000011R...|\n",
      "|2900108050000011R...|\n",
      "|2900108050000011R...|\n",
      "|2900108050000011R...|\n",
      "|2900108050000011R...|\n",
      "+--------------------+\n",
      "only showing top 10 rows\n",
      "\n"
     ]
    }
   ],
   "source": [
    "df_principal.show(10)"
   ]
  },
  {
   "cell_type": "markdown",
   "metadata": {},
   "source": [
    "- Filtrando pela cidade de Salvador"
   ]
  },
  {
   "cell_type": "code",
   "execution_count": 4,
   "metadata": {},
   "outputs": [],
   "source": [
    "#Sabemos que o código de salvador é 27408, vamos filtrar só o que nos interessa\n",
    "df_salvador = df_principal.filter(expr(\"substr(value,3,5)\") == '27408')"
   ]
  },
  {
   "cell_type": "code",
   "execution_count": 6,
   "metadata": {},
   "outputs": [],
   "source": [
    "#Verificando se a filtragem deu certo\n",
    "df_salvador.show()"
   ]
  },
  {
   "cell_type": "code",
   "execution_count": 7,
   "metadata": {},
   "outputs": [
    {
     "name": "stdout",
     "output_type": "stream",
     "text": [
      "1097829\n"
     ]
    }
   ],
   "source": [
    "#Tamanho da base df_salvador\n",
    "tam_df_salvador = df_salvador.count()\n",
    "print(tam_df_salvador)"
   ]
  },
  {
   "cell_type": "markdown",
   "metadata": {},
   "source": [
    "#### Formatando DataSet"
   ]
  },
  {
   "cell_type": "code",
   "execution_count": 5,
   "metadata": {},
   "outputs": [],
   "source": [
    "'''\n",
    "Vamos filtrar se baseando no Layout do IBGE, baixado no mesmo local da base.\n",
    "substr(coluna,posição inicial, tamanho)\n",
    "'''\n",
    "df_salvador = df_salvador.select( expr(\"substr(value,17,20)\").alias(\"TP_Logradouro\"),\n",
    "                                    expr(\"substr(value,37,30)\").alias(\"Titulo_Logradouro\"),\n",
    "                                    expr(\"substr(value,67,60)\").alias(\"Nome_Logradouro\"),\n",
    "                                    expr(\"substr(value,127,8)\").alias(\"Num_Logradouro\"),\n",
    "                                    expr(\"substr(value,12,4)\").alias(\"Setor_Censitario\"),\n",
    "                                    expr(\"substr(value,142,180)\").alias(\"Complemento\")\n",
    "                                   )"
   ]
  },
  {
   "cell_type": "code",
   "execution_count": null,
   "metadata": {},
   "outputs": [
    {
     "name": "stdout",
     "output_type": "stream",
     "text": [
      "+--------------------+--------------------+--------------------+--------------+----------------+--------------------+\n",
      "|       TP_Logradouro|   Titulo_Logradouro|     Nome_Logradouro|Num_Logradouro|Setor_Censitario|         Complemento|\n",
      "+--------------------+--------------------+--------------------+--------------+----------------+--------------------+\n",
      "|TRAVESSA            |                 ...|BASILIO MAGALHAES...|      0       |            0001|                 ...|\n",
      "|TRAVESSA            |                 ...|BASILIO MAGALHAES...|      0       |            0001|                 ...|\n",
      "|TRAVESSA            |                 ...|BASILIO MAGALHAES...|      0       |            0001|                 ...|\n",
      "|TRAVESSA            |                 ...|BASILIO MAGALHAES...|      0       |            0001|                 ...|\n",
      "|TRAVESSA            |                 ...|BASILIO MAGALHAES...|      19      |            0001|                 ...|\n",
      "|TRAVESSA            |                 ...|BASILIO MAGALHAES...|      20      |            0001|                 ...|\n",
      "|TRAVESSA            |                 ...|BASILIO MAGALHAES...|      40      |            0001|                 ...|\n",
      "|TRAVESSA            |                 ...|BASILIO MAGALHAES...|      46      |            0001|                 ...|\n",
      "|TRAVESSA            |                 ...|BASILIO MAGALHAES...|      81      |            0001|                 ...|\n",
      "|TRAVESSA            |                 ...|BASILIO MAGALHAES...|      84      |            0001|SOBRADO          ...|\n",
      "|TRAVESSA            |                 ...|BASILIO MAGALHAES...|      84      |            0001|TERREO           ...|\n",
      "|TRAVESSA            |                 ...|BASILIO MAGALHAES...|      90      |            0001|                 ...|\n",
      "|TRAVESSA            |                 ...|BASILIO MAGALHAES...|      116     |            0001|                 ...|\n",
      "|TRAVESSA            |                 ...|BASILIO MAGALHAES...|      127     |            0001|                 ...|\n",
      "|RUA                 |                 ...|BORGES DOS REIS  ...|      0       |            0001|                 ...|\n",
      "|LARGO               |                 ...|DA MARIQUITA     ...|      0       |            0001|                 ...|\n",
      "|LARGO               |                 ...|DA MARIQUITA     ...|      0       |            0001|                 ...|\n",
      "|LARGO               |                 ...|DA MARIQUITA     ...|      10      |            0001|LOJA             ...|\n",
      "|LARGO               |                 ...|DA MARIQUITA     ...|      10      |            0001|LOJA             ...|\n",
      "|LARGO               |                 ...|DA MARIQUITA     ...|      10      |            0001|APARTAMENTO      ...|\n",
      "+--------------------+--------------------+--------------------+--------------+----------------+--------------------+\n",
      "only showing top 20 rows\n",
      "\n"
     ]
    }
   ],
   "source": [
    "df_salvador.show()"
   ]
  },
  {
   "cell_type": "code",
   "execution_count": null,
   "metadata": {},
   "outputs": [
    {
     "name": "stdout",
     "output_type": "stream",
     "text": [
      "root\n",
      " |-- TP_Logradouro: string (nullable = true)\n",
      " |-- Titulo_Logradouro: string (nullable = true)\n",
      " |-- Nome_Logradouro: string (nullable = true)\n",
      " |-- Num_Logradouro: string (nullable = true)\n",
      " |-- Setor_Censitario: string (nullable = true)\n",
      " |-- Complemento: string (nullable = true)\n",
      "\n"
     ]
    }
   ],
   "source": [
    "#Informações do DataFrame\n",
    "df_salvador.printSchema()"
   ]
  },
  {
   "cell_type": "markdown",
   "metadata": {},
   "source": [
    "#### Criando Base A"
   ]
  },
  {
   "cell_type": "code",
   "execution_count": 8,
   "metadata": {},
   "outputs": [],
   "source": [
    "\"\"\"\n",
    "Agora vamos tirar uma amostra no tamanho de 100 mil da base de salvador\n",
    "Vamos fazer uma amostragem aleatória sem reposição usando o método \"sample\"\n",
    "\"\"\"\n",
    "tam_amostra_A  = 100000\n",
    "\n",
    "fracao_amostra = tam_amostra_A/tam_df_salvador # = 0.0910888672097385\n",
    "\n",
    "#arrendondar \"fraction\" pra cima e limitar por 100 mil, além de incluir a seed pra manter a Reprodutibilidade\n",
    "\n",
    "df_A = df_salvador.sample(withReplacement = False, fraction = 0.092, seed = 42).limit(tam_amostra_A) "
   ]
  },
  {
   "cell_type": "code",
   "execution_count": null,
   "metadata": {},
   "outputs": [
    {
     "data": {
      "text/plain": [
       "100000"
      ]
     },
     "execution_count": 17,
     "metadata": {},
     "output_type": "execute_result"
    }
   ],
   "source": [
    "#contagem base A\n",
    "df_A.count()"
   ]
  },
  {
   "cell_type": "markdown",
   "metadata": {},
   "source": [
    "- Vamos formatar a base A, deixar ela mais apresentável"
   ]
  },
  {
   "cell_type": "code",
   "execution_count": 9,
   "metadata": {},
   "outputs": [],
   "source": [
    "#Vamos tirar os espações em excesso dos campos nas laterais da string usando a função trim()\n",
    "\n",
    "df_A = df_A.withColumn(\"TP_Logradouro\", trim(col(\"TP_Logradouro\")))\\\n",
    "           .withColumn(\"Titulo_Logradouro\", trim(col(\"Titulo_Logradouro\")))\\\n",
    "           .withColumn(\"Nome_Logradouro\", trim(col(\"Nome_Logradouro\")))\\\n",
    "           .withColumn(\"Num_Logradouro\", trim(col(\"Num_Logradouro\")))\\\n",
    "           .withColumn(\"Setor_Censitario\", trim(col(\"Setor_Censitario\")))\\\n",
    "           .withColumn(\"Complemento\", trim(col(\"Complemento\")))"
   ]
  },
  {
   "cell_type": "code",
   "execution_count": null,
   "metadata": {},
   "outputs": [
    {
     "name": "stdout",
     "output_type": "stream",
     "text": [
      "+-------------+-----------------+-----------------+--------------+----------------+--------------------+\n",
      "|TP_Logradouro|Titulo_Logradouro|  Nome_Logradouro|Num_Logradouro|Setor_Censitario|         Complemento|\n",
      "+-------------+-----------------+-----------------+--------------+----------------+--------------------+\n",
      "|     TRAVESSA|                 |BASILIO MAGALHAES|             0|            0001|                    |\n",
      "|        LARGO|                 |     DA MARIQUITA|            10|            0001|APARTAMENTO      ...|\n",
      "|          RUA|                 |          DO MEIO|             0|            0001|                    |\n",
      "|          RUA|                 |          DO MEIO|             0|            0001|                    |\n",
      "|          RUA|                 |          DO MEIO|            74|            0001|             SOBRADO|\n",
      "|          RUA|                 |          DO MEIO|            74|            0001|              TERREO|\n",
      "|          RUA|                 |          DO MEIO|           119|            0001|APARTAMENTO      ...|\n",
      "|          RUA|                 |          DO MEIO|           119|            0001|APARTAMENTO      ...|\n",
      "|          RUA|                 |          DO MEIO|           222|            0001|                    |\n",
      "|          RUA|                 |     FONTE DO BOI|             5|            0001|                    |\n",
      "+-------------+-----------------+-----------------+--------------+----------------+--------------------+\n",
      "only showing top 10 rows\n",
      "\n"
     ]
    }
   ],
   "source": [
    "df_A.show(10)"
   ]
  },
  {
   "cell_type": "code",
   "execution_count": 10,
   "metadata": {},
   "outputs": [],
   "source": [
    "#Agora vamos tirar o espaço em excesso entre as palavra no campo COMPLEMENTO\n",
    "\n",
    "df_A = df_A.withColumn(\"Complemento\", regexp_replace(\"Complemento\", '\\\\s+', ' '))"
   ]
  },
  {
   "cell_type": "code",
   "execution_count": 11,
   "metadata": {},
   "outputs": [],
   "source": [
    "#Também vamos acrescentar id's a essa base usando row_number\n",
    "\n",
    "windowSpec = Window.orderBy(lit(1))\n",
    "df_A = df_A.withColumn(\"Id\", row_number().over(windowSpec).cast(\"int\") - 1)"
   ]
  },
  {
   "cell_type": "code",
   "execution_count": 12,
   "metadata": {},
   "outputs": [],
   "source": [
    "#Vamos colocar o Id no início pois naturalmente ele é a última coluna\n",
    "\n",
    "df_A = df_A.select(\"Id\",\n",
    "                    \"TP_Logradouro\",\n",
    "                    \"Titulo_Logradouro\",\n",
    "                    \"Nome_Logradouro\",\n",
    "                    \"Num_Logradouro\",\n",
    "                    \"Setor_Censitario\",\n",
    "                    \"Complemento\"\n",
    "                    )"
   ]
  },
  {
   "cell_type": "code",
   "execution_count": null,
   "metadata": {},
   "outputs": [
    {
     "name": "stdout",
     "output_type": "stream",
     "text": [
      "+---+-------------+-----------------+-----------------+--------------+----------------+---------------+\n",
      "| Id|TP_Logradouro|Titulo_Logradouro|  Nome_Logradouro|Num_Logradouro|Setor_Censitario|    Complemento|\n",
      "+---+-------------+-----------------+-----------------+--------------+----------------+---------------+\n",
      "|  0|     TRAVESSA|                 |BASILIO MAGALHAES|             0|            0001|               |\n",
      "|  1|        LARGO|                 |     DA MARIQUITA|            10|            0001|APARTAMENTO 202|\n",
      "|  2|          RUA|                 |          DO MEIO|             0|            0001|               |\n",
      "|  3|          RUA|                 |          DO MEIO|             0|            0001|               |\n",
      "|  4|          RUA|                 |          DO MEIO|            74|            0001|        SOBRADO|\n",
      "|  5|          RUA|                 |          DO MEIO|            74|            0001|         TERREO|\n",
      "|  6|          RUA|                 |          DO MEIO|           119|            0001|APARTAMENTO 201|\n",
      "|  7|          RUA|                 |          DO MEIO|           119|            0001|APARTAMENTO 101|\n",
      "|  8|          RUA|                 |          DO MEIO|           222|            0001|               |\n",
      "|  9|          RUA|                 |     FONTE DO BOI|             5|            0001|               |\n",
      "+---+-------------+-----------------+-----------------+--------------+----------------+---------------+\n",
      "only showing top 10 rows\n",
      "\n"
     ]
    }
   ],
   "source": [
    "#Podemos verificar que os espaços foram retirados e o ID incluído\n",
    "\n",
    "df_A.show(10)"
   ]
  },
  {
   "cell_type": "code",
   "execution_count": 13,
   "metadata": {},
   "outputs": [
    {
     "ename": "Py4JJavaError",
     "evalue": "An error occurred while calling o104.collectToPython.\n: org.apache.spark.SparkException: Job aborted due to stage failure: Task 0 in stage 5.0 failed 1 times, most recent failure: Lost task 0.0 in stage 5.0 (TID 55) (DESKTOP-6IQNCVJ executor driver): TaskResultLost (result lost from block manager)\nDriver stacktrace:\r\n\tat org.apache.spark.scheduler.DAGScheduler.failJobAndIndependentStages(DAGScheduler.scala:2844)\r\n\tat org.apache.spark.scheduler.DAGScheduler.$anonfun$abortStage$2(DAGScheduler.scala:2780)\r\n\tat org.apache.spark.scheduler.DAGScheduler.$anonfun$abortStage$2$adapted(DAGScheduler.scala:2779)\r\n\tat scala.collection.mutable.ResizableArray.foreach(ResizableArray.scala:62)\r\n\tat scala.collection.mutable.ResizableArray.foreach$(ResizableArray.scala:55)\r\n\tat scala.collection.mutable.ArrayBuffer.foreach(ArrayBuffer.scala:49)\r\n\tat org.apache.spark.scheduler.DAGScheduler.abortStage(DAGScheduler.scala:2779)\r\n\tat org.apache.spark.scheduler.DAGScheduler.$anonfun$handleTaskSetFailed$1(DAGScheduler.scala:1242)\r\n\tat org.apache.spark.scheduler.DAGScheduler.$anonfun$handleTaskSetFailed$1$adapted(DAGScheduler.scala:1242)\r\n\tat scala.Option.foreach(Option.scala:407)\r\n\tat org.apache.spark.scheduler.DAGScheduler.handleTaskSetFailed(DAGScheduler.scala:1242)\r\n\tat org.apache.spark.scheduler.DAGSchedulerEventProcessLoop.doOnReceive(DAGScheduler.scala:3048)\r\n\tat org.apache.spark.scheduler.DAGSchedulerEventProcessLoop.onReceive(DAGScheduler.scala:2982)\r\n\tat org.apache.spark.scheduler.DAGSchedulerEventProcessLoop.onReceive(DAGScheduler.scala:2971)\r\n\tat org.apache.spark.util.EventLoop$$anon$1.run(EventLoop.scala:49)\r\n\tat org.apache.spark.scheduler.DAGScheduler.runJob(DAGScheduler.scala:984)\r\n\tat org.apache.spark.SparkContext.runJob(SparkContext.scala:2398)\r\n\tat org.apache.spark.SparkContext.runJob(SparkContext.scala:2419)\r\n\tat org.apache.spark.SparkContext.runJob(SparkContext.scala:2438)\r\n\tat org.apache.spark.SparkContext.runJob(SparkContext.scala:2463)\r\n\tat org.apache.spark.rdd.RDD.$anonfun$collect$1(RDD.scala:1046)\r\n\tat org.apache.spark.rdd.RDDOperationScope$.withScope(RDDOperationScope.scala:151)\r\n\tat org.apache.spark.rdd.RDDOperationScope$.withScope(RDDOperationScope.scala:112)\r\n\tat org.apache.spark.rdd.RDD.withScope(RDD.scala:407)\r\n\tat org.apache.spark.rdd.RDD.collect(RDD.scala:1045)\r\n\tat org.apache.spark.sql.execution.SparkPlan.executeCollect(SparkPlan.scala:448)\r\n\tat org.apache.spark.sql.execution.adaptive.AdaptiveSparkPlanExec.$anonfun$executeCollect$1(AdaptiveSparkPlanExec.scala:374)\r\n\tat org.apache.spark.sql.execution.adaptive.AdaptiveSparkPlanExec.withFinalPlanUpdate(AdaptiveSparkPlanExec.scala:402)\r\n\tat org.apache.spark.sql.execution.adaptive.AdaptiveSparkPlanExec.executeCollect(AdaptiveSparkPlanExec.scala:374)\r\n\tat org.apache.spark.sql.Dataset.$anonfun$collectToPython$1(Dataset.scala:4160)\r\n\tat org.apache.spark.sql.Dataset.$anonfun$withAction$2(Dataset.scala:4334)\r\n\tat org.apache.spark.sql.execution.QueryExecution$.withInternalError(QueryExecution.scala:546)\r\n\tat org.apache.spark.sql.Dataset.$anonfun$withAction$1(Dataset.scala:4332)\r\n\tat org.apache.spark.sql.execution.SQLExecution$.$anonfun$withNewExecutionId$6(SQLExecution.scala:125)\r\n\tat org.apache.spark.sql.execution.SQLExecution$.withSQLConfPropagated(SQLExecution.scala:201)\r\n\tat org.apache.spark.sql.execution.SQLExecution$.$anonfun$withNewExecutionId$1(SQLExecution.scala:108)\r\n\tat org.apache.spark.sql.SparkSession.withActive(SparkSession.scala:900)\r\n\tat org.apache.spark.sql.execution.SQLExecution$.withNewExecutionId(SQLExecution.scala:66)\r\n\tat org.apache.spark.sql.Dataset.withAction(Dataset.scala:4332)\r\n\tat org.apache.spark.sql.Dataset.collectToPython(Dataset.scala:4157)\r\n\tat java.base/jdk.internal.reflect.NativeMethodAccessorImpl.invoke0(Native Method)\r\n\tat java.base/jdk.internal.reflect.NativeMethodAccessorImpl.invoke(NativeMethodAccessorImpl.java:75)\r\n\tat java.base/jdk.internal.reflect.DelegatingMethodAccessorImpl.invoke(DelegatingMethodAccessorImpl.java:52)\r\n\tat java.base/java.lang.reflect.Method.invoke(Method.java:580)\r\n\tat py4j.reflection.MethodInvoker.invoke(MethodInvoker.java:244)\r\n\tat py4j.reflection.ReflectionEngine.invoke(ReflectionEngine.java:374)\r\n\tat py4j.Gateway.invoke(Gateway.java:282)\r\n\tat py4j.commands.AbstractCommand.invokeMethod(AbstractCommand.java:132)\r\n\tat py4j.commands.CallCommand.execute(CallCommand.java:79)\r\n\tat py4j.ClientServerConnection.waitForCommands(ClientServerConnection.java:182)\r\n\tat py4j.ClientServerConnection.run(ClientServerConnection.java:106)\r\n\tat java.base/java.lang.Thread.run(Thread.java:1583)\r\n",
     "output_type": "error",
     "traceback": [
      "\u001b[1;31m---------------------------------------------------------------------------\u001b[0m",
      "\u001b[1;31mPy4JJavaError\u001b[0m                             Traceback (most recent call last)",
      "Cell \u001b[1;32mIn[13], line 1\u001b[0m\n\u001b[1;32m----> 1\u001b[0m df_A_pandas \u001b[38;5;241m=\u001b[39m \u001b[43mdf_A\u001b[49m\u001b[38;5;241;43m.\u001b[39;49m\u001b[43mtoPandas\u001b[49m\u001b[43m(\u001b[49m\u001b[43m)\u001b[49m\n\u001b[0;32m      2\u001b[0m df_A_pandas\u001b[38;5;241m.\u001b[39mto_csv(\u001b[38;5;124m\"\u001b[39m\u001b[38;5;124mbaseA.csv\u001b[39m\u001b[38;5;124m\"\u001b[39m, na_rep \u001b[38;5;241m=\u001b[39m \u001b[38;5;124m\"\u001b[39m\u001b[38;5;124mNULL\u001b[39m\u001b[38;5;124m\"\u001b[39m, index \u001b[38;5;241m=\u001b[39m \u001b[38;5;28;01mFalse\u001b[39;00m, encoding \u001b[38;5;241m=\u001b[39m \u001b[38;5;124m'\u001b[39m\u001b[38;5;124mutf-8\u001b[39m\u001b[38;5;124m'\u001b[39m)\n",
      "File \u001b[1;32mc:\\Users\\isnan\\AppData\\Local\\Programs\\Python\\Python311\\Lib\\site-packages\\pyspark\\sql\\pandas\\conversion.py:202\u001b[0m, in \u001b[0;36mPandasConversionMixin.toPandas\u001b[1;34m(self)\u001b[0m\n\u001b[0;32m    199\u001b[0m             \u001b[38;5;28;01mraise\u001b[39;00m\n\u001b[0;32m    201\u001b[0m \u001b[38;5;66;03m# Below is toPandas without Arrow optimization.\u001b[39;00m\n\u001b[1;32m--> 202\u001b[0m rows \u001b[38;5;241m=\u001b[39m \u001b[38;5;28;43mself\u001b[39;49m\u001b[38;5;241;43m.\u001b[39;49m\u001b[43mcollect\u001b[49m\u001b[43m(\u001b[49m\u001b[43m)\u001b[49m\n\u001b[0;32m    203\u001b[0m \u001b[38;5;28;01mif\u001b[39;00m \u001b[38;5;28mlen\u001b[39m(rows) \u001b[38;5;241m>\u001b[39m \u001b[38;5;241m0\u001b[39m:\n\u001b[0;32m    204\u001b[0m     pdf \u001b[38;5;241m=\u001b[39m pd\u001b[38;5;241m.\u001b[39mDataFrame\u001b[38;5;241m.\u001b[39mfrom_records(\n\u001b[0;32m    205\u001b[0m         rows, index\u001b[38;5;241m=\u001b[39m\u001b[38;5;28mrange\u001b[39m(\u001b[38;5;28mlen\u001b[39m(rows)), columns\u001b[38;5;241m=\u001b[39m\u001b[38;5;28mself\u001b[39m\u001b[38;5;241m.\u001b[39mcolumns  \u001b[38;5;66;03m# type: ignore[arg-type]\u001b[39;00m\n\u001b[0;32m    206\u001b[0m     )\n",
      "File \u001b[1;32mc:\\Users\\isnan\\AppData\\Local\\Programs\\Python\\Python311\\Lib\\site-packages\\pyspark\\sql\\dataframe.py:1261\u001b[0m, in \u001b[0;36mDataFrame.collect\u001b[1;34m(self)\u001b[0m\n\u001b[0;32m   1241\u001b[0m \u001b[38;5;250m\u001b[39m\u001b[38;5;124;03m\"\"\"Returns all the records as a list of :class:`Row`.\u001b[39;00m\n\u001b[0;32m   1242\u001b[0m \n\u001b[0;32m   1243\u001b[0m \u001b[38;5;124;03m.. versionadded:: 1.3.0\u001b[39;00m\n\u001b[1;32m   (...)\u001b[0m\n\u001b[0;32m   1258\u001b[0m \u001b[38;5;124;03m[Row(age=14, name='Tom'), Row(age=23, name='Alice'), Row(age=16, name='Bob')]\u001b[39;00m\n\u001b[0;32m   1259\u001b[0m \u001b[38;5;124;03m\"\"\"\u001b[39;00m\n\u001b[0;32m   1260\u001b[0m \u001b[38;5;28;01mwith\u001b[39;00m SCCallSiteSync(\u001b[38;5;28mself\u001b[39m\u001b[38;5;241m.\u001b[39m_sc):\n\u001b[1;32m-> 1261\u001b[0m     sock_info \u001b[38;5;241m=\u001b[39m \u001b[38;5;28;43mself\u001b[39;49m\u001b[38;5;241;43m.\u001b[39;49m\u001b[43m_jdf\u001b[49m\u001b[38;5;241;43m.\u001b[39;49m\u001b[43mcollectToPython\u001b[49m\u001b[43m(\u001b[49m\u001b[43m)\u001b[49m\n\u001b[0;32m   1262\u001b[0m \u001b[38;5;28;01mreturn\u001b[39;00m \u001b[38;5;28mlist\u001b[39m(_load_from_socket(sock_info, BatchedSerializer(CPickleSerializer())))\n",
      "File \u001b[1;32mc:\\Users\\isnan\\AppData\\Local\\Programs\\Python\\Python311\\Lib\\site-packages\\py4j\\java_gateway.py:1322\u001b[0m, in \u001b[0;36mJavaMember.__call__\u001b[1;34m(self, *args)\u001b[0m\n\u001b[0;32m   1316\u001b[0m command \u001b[38;5;241m=\u001b[39m proto\u001b[38;5;241m.\u001b[39mCALL_COMMAND_NAME \u001b[38;5;241m+\u001b[39m\\\n\u001b[0;32m   1317\u001b[0m     \u001b[38;5;28mself\u001b[39m\u001b[38;5;241m.\u001b[39mcommand_header \u001b[38;5;241m+\u001b[39m\\\n\u001b[0;32m   1318\u001b[0m     args_command \u001b[38;5;241m+\u001b[39m\\\n\u001b[0;32m   1319\u001b[0m     proto\u001b[38;5;241m.\u001b[39mEND_COMMAND_PART\n\u001b[0;32m   1321\u001b[0m answer \u001b[38;5;241m=\u001b[39m \u001b[38;5;28mself\u001b[39m\u001b[38;5;241m.\u001b[39mgateway_client\u001b[38;5;241m.\u001b[39msend_command(command)\n\u001b[1;32m-> 1322\u001b[0m return_value \u001b[38;5;241m=\u001b[39m \u001b[43mget_return_value\u001b[49m\u001b[43m(\u001b[49m\n\u001b[0;32m   1323\u001b[0m \u001b[43m    \u001b[49m\u001b[43manswer\u001b[49m\u001b[43m,\u001b[49m\u001b[43m \u001b[49m\u001b[38;5;28;43mself\u001b[39;49m\u001b[38;5;241;43m.\u001b[39;49m\u001b[43mgateway_client\u001b[49m\u001b[43m,\u001b[49m\u001b[43m \u001b[49m\u001b[38;5;28;43mself\u001b[39;49m\u001b[38;5;241;43m.\u001b[39;49m\u001b[43mtarget_id\u001b[49m\u001b[43m,\u001b[49m\u001b[43m \u001b[49m\u001b[38;5;28;43mself\u001b[39;49m\u001b[38;5;241;43m.\u001b[39;49m\u001b[43mname\u001b[49m\u001b[43m)\u001b[49m\n\u001b[0;32m   1325\u001b[0m \u001b[38;5;28;01mfor\u001b[39;00m temp_arg \u001b[38;5;129;01min\u001b[39;00m temp_args:\n\u001b[0;32m   1326\u001b[0m     \u001b[38;5;28;01mif\u001b[39;00m \u001b[38;5;28mhasattr\u001b[39m(temp_arg, \u001b[38;5;124m\"\u001b[39m\u001b[38;5;124m_detach\u001b[39m\u001b[38;5;124m\"\u001b[39m):\n",
      "File \u001b[1;32mc:\\Users\\isnan\\AppData\\Local\\Programs\\Python\\Python311\\Lib\\site-packages\\pyspark\\errors\\exceptions\\captured.py:179\u001b[0m, in \u001b[0;36mcapture_sql_exception.<locals>.deco\u001b[1;34m(*a, **kw)\u001b[0m\n\u001b[0;32m    177\u001b[0m \u001b[38;5;28;01mdef\u001b[39;00m \u001b[38;5;21mdeco\u001b[39m(\u001b[38;5;241m*\u001b[39ma: Any, \u001b[38;5;241m*\u001b[39m\u001b[38;5;241m*\u001b[39mkw: Any) \u001b[38;5;241m-\u001b[39m\u001b[38;5;241m>\u001b[39m Any:\n\u001b[0;32m    178\u001b[0m     \u001b[38;5;28;01mtry\u001b[39;00m:\n\u001b[1;32m--> 179\u001b[0m         \u001b[38;5;28;01mreturn\u001b[39;00m \u001b[43mf\u001b[49m\u001b[43m(\u001b[49m\u001b[38;5;241;43m*\u001b[39;49m\u001b[43ma\u001b[49m\u001b[43m,\u001b[49m\u001b[43m \u001b[49m\u001b[38;5;241;43m*\u001b[39;49m\u001b[38;5;241;43m*\u001b[39;49m\u001b[43mkw\u001b[49m\u001b[43m)\u001b[49m\n\u001b[0;32m    180\u001b[0m     \u001b[38;5;28;01mexcept\u001b[39;00m Py4JJavaError \u001b[38;5;28;01mas\u001b[39;00m e:\n\u001b[0;32m    181\u001b[0m         converted \u001b[38;5;241m=\u001b[39m convert_exception(e\u001b[38;5;241m.\u001b[39mjava_exception)\n",
      "File \u001b[1;32mc:\\Users\\isnan\\AppData\\Local\\Programs\\Python\\Python311\\Lib\\site-packages\\py4j\\protocol.py:326\u001b[0m, in \u001b[0;36mget_return_value\u001b[1;34m(answer, gateway_client, target_id, name)\u001b[0m\n\u001b[0;32m    324\u001b[0m value \u001b[38;5;241m=\u001b[39m OUTPUT_CONVERTER[\u001b[38;5;28mtype\u001b[39m](answer[\u001b[38;5;241m2\u001b[39m:], gateway_client)\n\u001b[0;32m    325\u001b[0m \u001b[38;5;28;01mif\u001b[39;00m answer[\u001b[38;5;241m1\u001b[39m] \u001b[38;5;241m==\u001b[39m REFERENCE_TYPE:\n\u001b[1;32m--> 326\u001b[0m     \u001b[38;5;28;01mraise\u001b[39;00m Py4JJavaError(\n\u001b[0;32m    327\u001b[0m         \u001b[38;5;124m\"\u001b[39m\u001b[38;5;124mAn error occurred while calling \u001b[39m\u001b[38;5;132;01m{0}\u001b[39;00m\u001b[38;5;132;01m{1}\u001b[39;00m\u001b[38;5;132;01m{2}\u001b[39;00m\u001b[38;5;124m.\u001b[39m\u001b[38;5;130;01m\\n\u001b[39;00m\u001b[38;5;124m\"\u001b[39m\u001b[38;5;241m.\u001b[39m\n\u001b[0;32m    328\u001b[0m         \u001b[38;5;28mformat\u001b[39m(target_id, \u001b[38;5;124m\"\u001b[39m\u001b[38;5;124m.\u001b[39m\u001b[38;5;124m\"\u001b[39m, name), value)\n\u001b[0;32m    329\u001b[0m \u001b[38;5;28;01melse\u001b[39;00m:\n\u001b[0;32m    330\u001b[0m     \u001b[38;5;28;01mraise\u001b[39;00m Py4JError(\n\u001b[0;32m    331\u001b[0m         \u001b[38;5;124m\"\u001b[39m\u001b[38;5;124mAn error occurred while calling \u001b[39m\u001b[38;5;132;01m{0}\u001b[39;00m\u001b[38;5;132;01m{1}\u001b[39;00m\u001b[38;5;132;01m{2}\u001b[39;00m\u001b[38;5;124m. Trace:\u001b[39m\u001b[38;5;130;01m\\n\u001b[39;00m\u001b[38;5;132;01m{3}\u001b[39;00m\u001b[38;5;130;01m\\n\u001b[39;00m\u001b[38;5;124m\"\u001b[39m\u001b[38;5;241m.\u001b[39m\n\u001b[0;32m    332\u001b[0m         \u001b[38;5;28mformat\u001b[39m(target_id, \u001b[38;5;124m\"\u001b[39m\u001b[38;5;124m.\u001b[39m\u001b[38;5;124m\"\u001b[39m, name, value))\n",
      "\u001b[1;31mPy4JJavaError\u001b[0m: An error occurred while calling o104.collectToPython.\n: org.apache.spark.SparkException: Job aborted due to stage failure: Task 0 in stage 5.0 failed 1 times, most recent failure: Lost task 0.0 in stage 5.0 (TID 55) (DESKTOP-6IQNCVJ executor driver): TaskResultLost (result lost from block manager)\nDriver stacktrace:\r\n\tat org.apache.spark.scheduler.DAGScheduler.failJobAndIndependentStages(DAGScheduler.scala:2844)\r\n\tat org.apache.spark.scheduler.DAGScheduler.$anonfun$abortStage$2(DAGScheduler.scala:2780)\r\n\tat org.apache.spark.scheduler.DAGScheduler.$anonfun$abortStage$2$adapted(DAGScheduler.scala:2779)\r\n\tat scala.collection.mutable.ResizableArray.foreach(ResizableArray.scala:62)\r\n\tat scala.collection.mutable.ResizableArray.foreach$(ResizableArray.scala:55)\r\n\tat scala.collection.mutable.ArrayBuffer.foreach(ArrayBuffer.scala:49)\r\n\tat org.apache.spark.scheduler.DAGScheduler.abortStage(DAGScheduler.scala:2779)\r\n\tat org.apache.spark.scheduler.DAGScheduler.$anonfun$handleTaskSetFailed$1(DAGScheduler.scala:1242)\r\n\tat org.apache.spark.scheduler.DAGScheduler.$anonfun$handleTaskSetFailed$1$adapted(DAGScheduler.scala:1242)\r\n\tat scala.Option.foreach(Option.scala:407)\r\n\tat org.apache.spark.scheduler.DAGScheduler.handleTaskSetFailed(DAGScheduler.scala:1242)\r\n\tat org.apache.spark.scheduler.DAGSchedulerEventProcessLoop.doOnReceive(DAGScheduler.scala:3048)\r\n\tat org.apache.spark.scheduler.DAGSchedulerEventProcessLoop.onReceive(DAGScheduler.scala:2982)\r\n\tat org.apache.spark.scheduler.DAGSchedulerEventProcessLoop.onReceive(DAGScheduler.scala:2971)\r\n\tat org.apache.spark.util.EventLoop$$anon$1.run(EventLoop.scala:49)\r\n\tat org.apache.spark.scheduler.DAGScheduler.runJob(DAGScheduler.scala:984)\r\n\tat org.apache.spark.SparkContext.runJob(SparkContext.scala:2398)\r\n\tat org.apache.spark.SparkContext.runJob(SparkContext.scala:2419)\r\n\tat org.apache.spark.SparkContext.runJob(SparkContext.scala:2438)\r\n\tat org.apache.spark.SparkContext.runJob(SparkContext.scala:2463)\r\n\tat org.apache.spark.rdd.RDD.$anonfun$collect$1(RDD.scala:1046)\r\n\tat org.apache.spark.rdd.RDDOperationScope$.withScope(RDDOperationScope.scala:151)\r\n\tat org.apache.spark.rdd.RDDOperationScope$.withScope(RDDOperationScope.scala:112)\r\n\tat org.apache.spark.rdd.RDD.withScope(RDD.scala:407)\r\n\tat org.apache.spark.rdd.RDD.collect(RDD.scala:1045)\r\n\tat org.apache.spark.sql.execution.SparkPlan.executeCollect(SparkPlan.scala:448)\r\n\tat org.apache.spark.sql.execution.adaptive.AdaptiveSparkPlanExec.$anonfun$executeCollect$1(AdaptiveSparkPlanExec.scala:374)\r\n\tat org.apache.spark.sql.execution.adaptive.AdaptiveSparkPlanExec.withFinalPlanUpdate(AdaptiveSparkPlanExec.scala:402)\r\n\tat org.apache.spark.sql.execution.adaptive.AdaptiveSparkPlanExec.executeCollect(AdaptiveSparkPlanExec.scala:374)\r\n\tat org.apache.spark.sql.Dataset.$anonfun$collectToPython$1(Dataset.scala:4160)\r\n\tat org.apache.spark.sql.Dataset.$anonfun$withAction$2(Dataset.scala:4334)\r\n\tat org.apache.spark.sql.execution.QueryExecution$.withInternalError(QueryExecution.scala:546)\r\n\tat org.apache.spark.sql.Dataset.$anonfun$withAction$1(Dataset.scala:4332)\r\n\tat org.apache.spark.sql.execution.SQLExecution$.$anonfun$withNewExecutionId$6(SQLExecution.scala:125)\r\n\tat org.apache.spark.sql.execution.SQLExecution$.withSQLConfPropagated(SQLExecution.scala:201)\r\n\tat org.apache.spark.sql.execution.SQLExecution$.$anonfun$withNewExecutionId$1(SQLExecution.scala:108)\r\n\tat org.apache.spark.sql.SparkSession.withActive(SparkSession.scala:900)\r\n\tat org.apache.spark.sql.execution.SQLExecution$.withNewExecutionId(SQLExecution.scala:66)\r\n\tat org.apache.spark.sql.Dataset.withAction(Dataset.scala:4332)\r\n\tat org.apache.spark.sql.Dataset.collectToPython(Dataset.scala:4157)\r\n\tat java.base/jdk.internal.reflect.NativeMethodAccessorImpl.invoke0(Native Method)\r\n\tat java.base/jdk.internal.reflect.NativeMethodAccessorImpl.invoke(NativeMethodAccessorImpl.java:75)\r\n\tat java.base/jdk.internal.reflect.DelegatingMethodAccessorImpl.invoke(DelegatingMethodAccessorImpl.java:52)\r\n\tat java.base/java.lang.reflect.Method.invoke(Method.java:580)\r\n\tat py4j.reflection.MethodInvoker.invoke(MethodInvoker.java:244)\r\n\tat py4j.reflection.ReflectionEngine.invoke(ReflectionEngine.java:374)\r\n\tat py4j.Gateway.invoke(Gateway.java:282)\r\n\tat py4j.commands.AbstractCommand.invokeMethod(AbstractCommand.java:132)\r\n\tat py4j.commands.CallCommand.execute(CallCommand.java:79)\r\n\tat py4j.ClientServerConnection.waitForCommands(ClientServerConnection.java:182)\r\n\tat py4j.ClientServerConnection.run(ClientServerConnection.java:106)\r\n\tat java.base/java.lang.Thread.run(Thread.java:1583)\r\n"
     ]
    }
   ],
   "source": [
    "df_A_pandas = df_A.toPandas()\n",
    "df_A_pandas.to_csv(\"baseA.csv\", na_rep = \"NULL\", index = False, encoding = 'utf-8')"
   ]
  },
  {
   "cell_type": "markdown",
   "metadata": {},
   "source": [
    "#### Descritiva Simples"
   ]
  },
  {
   "cell_type": "markdown",
   "metadata": {},
   "source": [
    " - A base \"df_salvador\" importada tem um pouco mais de 1M de linhas\n",
    " \n",
    " - A amostra A tem **100 mil linhas** e conseguimos notar que, todas as colunas são, por enquanto, do tipo **string**\n",
    "\n",
    " - Havia excesso de espaços no campo **COMPLEMENTO**,  **LOGRADOURO** e **TITULO**\n",
    "\n",
    " - Além disso, há valores ausentes(string vazia) em **COMPLEMENTO** e **TITULO**"
   ]
  },
  {
   "cell_type": "code",
   "execution_count": null,
   "metadata": {},
   "outputs": [
    {
     "data": {
      "text/plain": [
       "593"
      ]
     },
     "execution_count": 21,
     "metadata": {},
     "output_type": "execute_result"
    }
   ],
   "source": [
    "df_A.select(col(\"Setor_Censitario\")).distinct().count()"
   ]
  },
  {
   "cell_type": "markdown",
   "metadata": {},
   "source": [
    "- Observamos também que há **593 setores censitários** na amostra **A**\n",
    "\n",
    "- Outra observação é que vamos manter as **strings** vazias da amostra **A**, em seguida faremos o mesmo pra **B**, pois as colunas **COMPLEMENTO** e **TITULO** são opcionais e não necessariamente tem valores, portanto usaremos o algoritmo nessas condições."
   ]
  },
  {
   "cell_type": "markdown",
   "metadata": {},
   "source": [
    "#### Criando Base B"
   ]
  },
  {
   "cell_type": "markdown",
   "metadata": {},
   "source": [
    "- Amostragem"
   ]
  },
  {
   "cell_type": "code",
   "execution_count": null,
   "metadata": {},
   "outputs": [],
   "source": [
    "'''\n",
    "Vamos criar a base B a partir da A, já formatada e menor, isso vai nos trazer mais desempenho\n",
    "e mais simplicidade para a aplicação do algoritmo\n",
    "'''\n",
    "\n",
    "#vamos usar 6 mil registros para a base B\n",
    "\n",
    "tam_amostra_B = 6000\n",
    "\n",
    "#fração em relação ao tamanho base A\n",
    "\n",
    "fracao_amostra_B = tam_amostra_B/tam_amostra_A # 6000/100000 = 0.06\n",
    "\n",
    "#Amostragem aleatória, arrendodando pra cima e limitando pelo tamanho da amostra\n",
    "\n",
    "df_B = df_A.sample(fraction = 0.065, seed = 32, withReplacement = False).limit(tam_amostra_B)"
   ]
  },
  {
   "cell_type": "code",
   "execution_count": null,
   "metadata": {},
   "outputs": [
    {
     "data": {
      "text/plain": [
       "6000"
      ]
     },
     "execution_count": 282,
     "metadata": {},
     "output_type": "execute_result"
    }
   ],
   "source": [
    "#Contagem\n",
    "\n",
    "df_B.count()"
   ]
  },
  {
   "cell_type": "code",
   "execution_count": null,
   "metadata": {},
   "outputs": [],
   "source": [
    "#Vamos reformatar o Id, que veio aleatoriamente de acordo com a amostragem\n",
    "\n",
    "df_B = df_B.withColumn('Id', row_number().over(windowSpec).cast('int') - 1)"
   ]
  },
  {
   "cell_type": "code",
   "execution_count": null,
   "metadata": {},
   "outputs": [
    {
     "name": "stdout",
     "output_type": "stream",
     "text": [
      "+---+-------------+-----------------+---------------+--------------+----------------+--------------------+\n",
      "| Id|TP_Logradouro|Titulo_Logradouro|Nome_Logradouro|Num_Logradouro|Setor_Censitario|         Complemento|\n",
      "+---+-------------+-----------------+---------------+--------------+----------------+--------------------+\n",
      "|  0|          RUA|                 |   FONTE DO BOI|           176|            0001|APARTAMENTO 303 B...|\n",
      "|  1|      AVENIDA|                 |   OSWALDO CRUZ|           222|            0001|              LOJA 4|\n",
      "|  2|          RUA|                 |   FONTE DO BOI|            55|            0002|APARTAMENTO 05 AN...|\n",
      "|  3|          RUA|                 | BARRO VERMELHO|             0|            0003|APARTAMENTO 204 B...|\n",
      "|  4|          RUA|                 | BARRO VERMELHO|            93|            0003|     APARTAMENTO 105|\n",
      "|  5|        PRACA|                 | AUGUSTO SEVERO|             6|            0004|                    |\n",
      "|  6|          RUA|                 |        TAMOIOS|           260|            0005|ANDAR 2 APARTAMEN...|\n",
      "|  7|          RUA|                 | RODRIGO ARGOLO|           163|            0007|     APARTAMENTO 102|\n",
      "|  8|      AVENIDA|                 |         MAMUTE|            49|            0009|                    |\n",
      "|  9|          RUA|       PROFESSORA|NATALIA VINHAIS|            71|            0010|     APARTAMENTO 201|\n",
      "+---+-------------+-----------------+---------------+--------------+----------------+--------------------+\n",
      "only showing top 10 rows\n",
      "\n"
     ]
    }
   ],
   "source": [
    "#df resultante\n",
    "\n",
    "df_B.show(10)"
   ]
  },
  {
   "cell_type": "markdown",
   "metadata": {},
   "source": [
    "#### Inserindo Mil Registros Com Valores Ausentes Em Uma Das Variáveis"
   ]
  },
  {
   "cell_type": "markdown",
   "metadata": {},
   "source": [
    "\n",
    "- Para fazermos isso vamos usar a seguinte abordagem:\n",
    "    \n",
    "    - Vamos criar uma **lista** de valores random baseados **tamanho** da amostra **B**.\n",
    "\n",
    "    - Inserir o valor None(vazio em python), em uma das colunas, no caso vamos usar a coluna **NUMERO** (Num_Logradouro)\n",
    "\n",
    "    - Usaremos **.withColumn** com **.when().otherwise()** para comparar os valores da **lista** com o **Id** do **DataFrame** e em seguida inserir os valores ausentes.\n",
    "  "
   ]
  },
  {
   "cell_type": "code",
   "execution_count": null,
   "metadata": {},
   "outputs": [],
   "source": [
    "#variável com a quantidade de valores ausentes\n",
    "qtd_ausentes = 1000\n",
    "\n",
    "#seed para preservar a reprodutibilidade dos dados\n",
    "random.seed(32)\n",
    "\n",
    "#Criando lista de valores random\n",
    "lista_random = random.sample(range(tam_amostra_B), qtd_ausentes)"
   ]
  },
  {
   "cell_type": "code",
   "execution_count": null,
   "metadata": {},
   "outputs": [
    {
     "name": "stdout",
     "output_type": "stream",
     "text": [
      "1000\n",
      "1000\n"
     ]
    }
   ],
   "source": [
    "#Tamanho lista\n",
    "print(len(lista_random))\n",
    "\n",
    "#verificar se os valores são distintos entre si\n",
    "print(len(set(lista_random)))"
   ]
  },
  {
   "cell_type": "code",
   "execution_count": null,
   "metadata": {},
   "outputs": [
    {
     "name": "stdout",
     "output_type": "stream",
     "text": [
      "[634, 1749, 1184, 2483, 5720, 1948, 4065, 199, 5900, 315, 821, 2660, 4169, 2706, 467, 4282, 5657, 3840, 3038, 4925, 6, 4443, 1035, 4298, 77, 3976, 5985, 1662, 2357, 1652, 3655, 667, 2737, 989, 288, 4304, 916, 5961, 1306, 3595, 164, 3533, 404, 313, 4551, 2892, 1857, 1337, 3833, 2536, 5967, 4033, 1372, 4379, 2451, 4657, 4718, 4716, 674, 271, 4809, 2377, 1878, 2362, 2699, 644, 1998, 5430, 3282, 2370, 3495, 5706, 570, 3905, 74, 1475, 3649, 1334, 5753, 744, 511, 1083, 5421, 2129, 395, 4521, 2474, 1192, 3150, 458, 1585, 4828, 297, 4011, 55, 4131, 4296, 5641, 2681, 2953, 4028, 3921, 2045, 5062, 2644, 4302, 4678, 4167, 1910, 1846, 3141, 3081, 4756, 5922, 3037, 1599, 4176, 1053, 4949, 5606, 2874, 5293, 3035, 1128, 5088, 2029, 8, 4089, 224, 882, 9, 4857, 1367, 2587, 3414, 1854, 3738, 682, 2608, 3555, 1362, 2994, 2481, 676, 5842, 4114, 1726, 1063, 5667, 4787, 2146, 3953, 5573, 3002, 3090, 762, 284, 4977, 1495, 30, 4898, 5909, 1623, 5528, 4341, 2636, 3091, 1807, 937, 3278, 2606, 1560, 5366, 1278, 1884, 5076, 3622, 474, 3691, 5575, 213, 45, 3805, 2076, 131, 4498, 560, 1057, 2849, 688, 5956, 987, 4119, 1821, 5552, 2771, 5232, 611, 2498, 4827, 1487, 1900, 4120, 539, 825, 1513, 158, 137, 2023, 2987, 5857, 5292, 4158, 2856, 1519, 5044, 5084, 5658, 2991, 93, 180, 4599, 4181, 215, 1457, 714, 5583, 5931, 5233, 3087, 4649, 3874, 435, 5213, 5266, 4259, 1051, 3664, 2252, 5768, 1688, 1615, 2493, 722, 5385, 3204, 1796, 319, 2637, 3651, 4535, 2205, 5323, 1262, 4686, 1753, 3883, 2475, 4382, 1009, 222, 4351, 3033, 3646, 1132, 2090, 2455, 2425, 5707, 5642, 1946, 19, 3665, 1253, 1222, 399, 1892, 3448, 1995, 700, 4993, 39, 4978, 5602, 608, 2306, 1086, 2471, 3077, 4292, 4014, 2979, 3869, 148, 4616, 4034, 3222, 2095, 5828, 5889, 1213, 2839, 2863, 4301, 858, 3107, 4928, 1619, 5609, 769, 5158, 4922, 235, 5456, 2983, 4708, 4751, 124, 4478, 4724, 2256, 2292, 592, 1885, 5016, 3658, 2315, 3431, 5489, 141, 5125, 998, 5581, 3262, 3021, 5698, 508, 651, 4519, 5055, 128, 2854, 3413, 5638, 1422, 996, 5136, 626, 4361, 5799, 1330, 3311, 650, 5917, 1318, 4562, 5094, 5786, 1373, 1453, 1060, 3350, 3660, 4500, 4475, 3154, 1498, 1524, 2340, 5207, 1238, 3608, 4872, 4564, 197, 969, 5992, 2192, 2736, 983, 1181, 2830, 3968, 1131, 4547, 3514, 5493, 755, 2937, 3365, 5859, 838, 1813, 1156, 3801, 5490, 3786, 4591, 1622, 2323, 3803, 1721, 2810, 1963, 2060, 333, 1915, 3337, 4600, 2646, 691, 4240, 5719, 663, 3666, 1556, 247, 2253, 2921, 3347, 826, 3492, 4164, 1761, 524, 3857, 5441, 379, 5755, 3132, 3682, 3427, 350, 1651, 5883, 2553, 1341, 5111, 2661, 3734, 1101, 3989, 3684, 5758, 2203, 2948, 673, 2438, 335, 5630, 2122, 5417, 494, 4095, 1227, 756, 3272, 1706, 1783, 5137, 357, 2479, 400, 2819, 632, 533, 509, 1558, 1555, 3930, 627, 558, 2212, 724, 4957, 1346, 3165, 1588, 1911, 4150, 5197, 3028, 1698, 5390, 99, 3732, 2513, 5812, 130, 3544, 2457, 2687, 1686, 1596, 3606, 3582, 3425, 5563, 3635, 1640, 4415, 5726, 5986, 2524, 5393, 5165, 5024, 5448, 345, 590, 1203, 1509, 4245, 4943, 1497, 1775, 4895, 2522, 4821, 88, 4717, 710, 573, 4906, 1870, 1486, 1119, 834, 3618, 5174, 5897, 84, 3029, 3837, 5070, 1226, 3221, 1959, 66, 2766, 5060, 3787, 4394, 3512, 3456, 4883, 2337, 4786, 3942, 1847, 2746, 3737, 178, 3547, 1991, 1781, 2525, 5651, 246, 3718, 986, 870, 2697, 2409, 2420, 3741, 5482, 3162, 83, 565, 60, 4576, 3937, 4059, 4565, 5351, 3111, 3865, 1448, 946, 3587, 2001, 5428, 2238, 2266, 4172, 5115, 1430, 393, 1777, 113, 5326, 5495, 1702, 2334, 5754, 2447, 2233, 5512, 1187, 5636, 1417, 5678, 4571, 1608, 5496, 3370, 4671, 5656, 1545, 262, 3186, 1631, 5767, 486, 4222, 2465, 4567, 3110, 3995, 4956, 2394, 2243, 3764, 2363, 4199, 4037, 114, 1105, 4746, 5322, 1007, 4107, 4734, 4544, 5950, 3515, 1990, 2663, 3261, 741, 5610, 2738, 4597, 497, 3746, 2088, 5253, 5507, 2931, 4278, 2755, 3843, 1201, 3219, 1700, 3027, 5671, 4248, 2283, 1266, 397, 4049, 3745, 992, 5541, 5121, 4308, 3589, 2071, 4441, 1849, 3743, 5781, 2002, 2025, 717, 2938, 5243, 286, 5206, 5722, 2653, 5919, 3434, 5160, 5647, 5622, 1858, 881, 5318, 1612, 3388, 5940, 1786, 4430, 1477, 2476, 479, 1160, 1386, 302, 5763, 3496, 3882, 3580, 485, 5054, 3557, 2750, 3904, 5677, 2299, 3634, 1553, 4844, 35, 1788, 2021, 385, 5494, 4355, 2404, 3201, 5027, 1563, 4280, 1962, 2932, 1031, 5543, 5813, 5011, 5990, 2571, 4252, 815, 3255, 3345, 3271, 191, 5515, 4876, 798, 636, 1902, 5164, 5788, 1818, 424, 239, 1855, 3950, 3528, 329, 4297, 478, 4866, 103, 1654, 4215, 2020, 3004, 322, 2330, 2650, 1704, 5855, 5012, 5827, 1667, 976, 1163, 4663, 1274, 5829, 3468, 3018, 4429, 4901, 779, 5712, 1677, 808, 2024, 2775, 1212, 2274, 1820, 3404, 2966, 5096, 3491, 4741, 3308, 2079, 693, 4464, 4287, 5993, 4980, 1812, 5731, 3700, 2518, 4438, 5926, 1143, 1643, 959, 5344, 5348, 4641, 469, 3517, 4098, 2919, 1327, 328, 2959, 1768, 2577, 4159, 879, 3074, 2134, 1445, 3167, 4911, 2614, 584, 3742, 1466, 5865, 1023, 2951, 5861, 2961, 4149, 336, 4510, 5408, 2711, 1943, 1634, 668, 3328, 119, 2772, 2763, 3401, 5392, 4964, 1776, 2645, 1800, 2547, 4364, 4229, 1413, 4777, 5716, 562, 4477, 4988, 506, 945, 5034, 2180, 1214, 5608, 675, 645, 892, 1484, 412, 1125, 4974, 985, 1239, 2549, 2155, 3623, 4384, 661, 2708, 3778, 2328, 5270, 2068, 3072, 4522, 3804, 1202, 2782, 5568, 5433, 292, 5999, 5178, 2411, 4338, 2632, 2414, 5597, 5867, 1547, 5000, 896, 5170, 3424, 147, 248, 3317, 5537, 5003, 1964, 1290, 5704, 4277, 2230, 1303, 1639, 890, 4255, 2516, 3356, 361, 4873, 2199, 5307, 1951, 1096, 2739, 2501, 3505, 3819, 5047, 11, 5143, 3636, 2970, 2543, 3187, 1779, 5252, 1452, 2114, 1578, 359, 3248, 5272, 46, 1696, 3986, 5929, 2053, 3166, 4376, 3179, 1992, 5618, 1511, 2780, 2019, 2880, 4587, 3723, 4317, 212, 75, 3584, 1122, 101, 5277, 2838, 2795, 1282, 1678, 2378, 4023, 2376, 4127, 5502, 4682, 3969, 2741, 3104, 5617, 1928, 2976, 2888, 1595, 5906, 182, 1676, 4820, 3671, 1635, 5341]\n"
     ]
    }
   ],
   "source": [
    "#visualizando\n",
    "print(lista_random)"
   ]
  },
  {
   "cell_type": "code",
   "execution_count": null,
   "metadata": {},
   "outputs": [
    {
     "data": {
      "text/plain": [
       "0"
      ]
     },
     "execution_count": 288,
     "metadata": {},
     "output_type": "execute_result"
    }
   ],
   "source": [
    "# Verificar se há string vazia na coluna NUMERO(Num_Logradouro)\n",
    "df_B.filter(df_B['Num_Logradouro'] == \"\").count()"
   ]
  },
  {
   "cell_type": "code",
   "execution_count": null,
   "metadata": {},
   "outputs": [
    {
     "data": {
      "text/plain": [
       "0"
      ]
     },
     "execution_count": 289,
     "metadata": {},
     "output_type": "execute_result"
    }
   ],
   "source": [
    "# Verificar se há valores ausentes na coluna NUMERO(Num_Logradouro)\n",
    "df_B.filter(col(\"Num_Logradouro\").isNull()).count()"
   ]
  },
  {
   "cell_type": "code",
   "execution_count": null,
   "metadata": {},
   "outputs": [],
   "source": [
    "#Inserindo valores ausentes na coluna NUMERO(Num_Logradouro)\n",
    "df_B = df_B.withColumn(\"Num_Logradouro\", when(col('Id').isin(lista_random), None).otherwise(col(\"Num_Logradouro\")))"
   ]
  },
  {
   "cell_type": "code",
   "execution_count": null,
   "metadata": {},
   "outputs": [
    {
     "data": {
      "text/plain": [
       "1000"
      ]
     },
     "execution_count": 291,
     "metadata": {},
     "output_type": "execute_result"
    }
   ],
   "source": [
    "# Verificar se os valores ausentes foram inseridos na coluna NUMERO(Num_Logradouro)\n",
    "df_B.filter(col(\"Num_Logradouro\").isNull()).count()"
   ]
  },
  {
   "cell_type": "code",
   "execution_count": null,
   "metadata": {},
   "outputs": [
    {
     "name": "stdout",
     "output_type": "stream",
     "text": [
      "+---+-------------+-----------------+---------------+--------------+----------------+--------------------+\n",
      "| Id|TP_Logradouro|Titulo_Logradouro|Nome_Logradouro|Num_Logradouro|Setor_Censitario|         Complemento|\n",
      "+---+-------------+-----------------+---------------+--------------+----------------+--------------------+\n",
      "|  0|          RUA|                 |   FONTE DO BOI|           176|            0001|APARTAMENTO 303 B...|\n",
      "|  1|      AVENIDA|                 |   OSWALDO CRUZ|           222|            0001|              LOJA 4|\n",
      "|  2|          RUA|                 |   FONTE DO BOI|            55|            0002|APARTAMENTO 05 AN...|\n",
      "|  3|          RUA|                 | BARRO VERMELHO|             0|            0003|APARTAMENTO 204 B...|\n",
      "|  4|          RUA|                 | BARRO VERMELHO|            93|            0003|     APARTAMENTO 105|\n",
      "|  5|        PRACA|                 | AUGUSTO SEVERO|             6|            0004|                    |\n",
      "|  6|          RUA|                 |        TAMOIOS|          NULL|            0005|ANDAR 2 APARTAMEN...|\n",
      "|  7|          RUA|                 | RODRIGO ARGOLO|           163|            0007|     APARTAMENTO 102|\n",
      "|  8|      AVENIDA|                 |         MAMUTE|          NULL|            0009|                    |\n",
      "|  9|          RUA|       PROFESSORA|NATALIA VINHAIS|          NULL|            0010|     APARTAMENTO 201|\n",
      "+---+-------------+-----------------+---------------+--------------+----------------+--------------------+\n",
      "only showing top 10 rows\n",
      "\n"
     ]
    }
   ],
   "source": [
    "#Visualizando\n",
    "df_B.show(10)"
   ]
  },
  {
   "cell_type": "markdown",
   "metadata": {},
   "source": [
    "#### Supressão De Palavras (aleatória) Nas Variáveis"
   ]
  },
  {
   "cell_type": "markdown",
   "metadata": {},
   "source": [
    "- Para fazermos isso vamos usar a seguinte abordagem:\n",
    "\n",
    "    - Primeiro vamos transforamr o **DF Spark** em um **DF pandas**, pra melhorar o fluxo de trabalho e pra facilitar as manipulações.\n",
    "\n",
    "    - Vamos criar as **funções** que vão retirar **uma** e **duas palavras aleátorias** nas variáveis **Nome_Logradouro** e **Complemento**.\n",
    "\n",
    "    - Vamos criar **duas listas**, com **valores aleatórios**, baseadas em índices do tamanho da base B. Isso vai permitir modificar mais facilmente os valores de determinada variável.\n",
    "\n",
    "    - Além disso, vamos exportar a base, somente com os campos **Nome_Logradouro** e **Complemento**, usando o Pandas e vamos ler essa base usando o Spark. Isso vai evitar conflitos e má formatação na mudança de frameworks.\n",
    "\n",
    "    - Ao final vamos retirar as antigas colunas da **base B** e vamos inserir as novas usando o **FULL JOIN**"
   ]
  },
  {
   "cell_type": "code",
   "execution_count": null,
   "metadata": {},
   "outputs": [],
   "source": [
    "df_B_pd = df_B.toPandas()"
   ]
  },
  {
   "cell_type": "code",
   "execution_count": null,
   "metadata": {},
   "outputs": [
    {
     "data": {
      "text/html": [
       "<div>\n",
       "<style scoped>\n",
       "    .dataframe tbody tr th:only-of-type {\n",
       "        vertical-align: middle;\n",
       "    }\n",
       "\n",
       "    .dataframe tbody tr th {\n",
       "        vertical-align: top;\n",
       "    }\n",
       "\n",
       "    .dataframe thead th {\n",
       "        text-align: right;\n",
       "    }\n",
       "</style>\n",
       "<table border=\"1\" class=\"dataframe\">\n",
       "  <thead>\n",
       "    <tr style=\"text-align: right;\">\n",
       "      <th></th>\n",
       "      <th>Id</th>\n",
       "      <th>TP_Logradouro</th>\n",
       "      <th>Titulo_Logradouro</th>\n",
       "      <th>Nome_Logradouro</th>\n",
       "      <th>Num_Logradouro</th>\n",
       "      <th>Setor_Censitario</th>\n",
       "      <th>Complemento</th>\n",
       "    </tr>\n",
       "  </thead>\n",
       "  <tbody>\n",
       "    <tr>\n",
       "      <th>0</th>\n",
       "      <td>0</td>\n",
       "      <td>RUA</td>\n",
       "      <td></td>\n",
       "      <td>FONTE DO BOI</td>\n",
       "      <td>176</td>\n",
       "      <td>0001</td>\n",
       "      <td>APARTAMENTO 303 BLOCO B</td>\n",
       "    </tr>\n",
       "    <tr>\n",
       "      <th>1</th>\n",
       "      <td>1</td>\n",
       "      <td>AVENIDA</td>\n",
       "      <td></td>\n",
       "      <td>OSWALDO CRUZ</td>\n",
       "      <td>222</td>\n",
       "      <td>0001</td>\n",
       "      <td>LOJA 4</td>\n",
       "    </tr>\n",
       "    <tr>\n",
       "      <th>2</th>\n",
       "      <td>2</td>\n",
       "      <td>RUA</td>\n",
       "      <td></td>\n",
       "      <td>FONTE DO BOI</td>\n",
       "      <td>55</td>\n",
       "      <td>0002</td>\n",
       "      <td>APARTAMENTO 05 ANDAR 1</td>\n",
       "    </tr>\n",
       "    <tr>\n",
       "      <th>3</th>\n",
       "      <td>3</td>\n",
       "      <td>RUA</td>\n",
       "      <td></td>\n",
       "      <td>BARRO VERMELHO</td>\n",
       "      <td>0</td>\n",
       "      <td>0003</td>\n",
       "      <td>APARTAMENTO 204 BLOCO B</td>\n",
       "    </tr>\n",
       "    <tr>\n",
       "      <th>4</th>\n",
       "      <td>4</td>\n",
       "      <td>RUA</td>\n",
       "      <td></td>\n",
       "      <td>BARRO VERMELHO</td>\n",
       "      <td>93</td>\n",
       "      <td>0003</td>\n",
       "      <td>APARTAMENTO 105</td>\n",
       "    </tr>\n",
       "  </tbody>\n",
       "</table>\n",
       "</div>"
      ],
      "text/plain": [
       "   Id TP_Logradouro Titulo_Logradouro Nome_Logradouro Num_Logradouro  \\\n",
       "0   0           RUA                      FONTE DO BOI            176   \n",
       "1   1       AVENIDA                      OSWALDO CRUZ            222   \n",
       "2   2           RUA                      FONTE DO BOI             55   \n",
       "3   3           RUA                    BARRO VERMELHO              0   \n",
       "4   4           RUA                    BARRO VERMELHO             93   \n",
       "\n",
       "  Setor_Censitario              Complemento  \n",
       "0             0001  APARTAMENTO 303 BLOCO B  \n",
       "1             0001                   LOJA 4  \n",
       "2             0002   APARTAMENTO 05 ANDAR 1  \n",
       "3             0003  APARTAMENTO 204 BLOCO B  \n",
       "4             0003          APARTAMENTO 105  "
      ]
     },
     "execution_count": 320,
     "metadata": {},
     "output_type": "execute_result"
    }
   ],
   "source": [
    "df_B_pd.head()"
   ]
  },
  {
   "cell_type": "markdown",
   "metadata": {},
   "source": [
    "- Funções Usadas"
   ]
  },
  {
   "cell_type": "code",
   "execution_count": null,
   "metadata": {},
   "outputs": [],
   "source": [
    "#Função para supressão de uma palavra\n",
    "def supressao_palavra(p):\n",
    "    random.seed(42)\n",
    "    if p is not None:\n",
    "        palavras = p.split()\n",
    "        if palavras:\n",
    "            indice = random.randint(0,len(palavras) - 1)\n",
    "            del palavras[indice]\n",
    "            return \" \".join(palavras)\n",
    "        else:\n",
    "            return p\n",
    "    else:\n",
    "        return None\n",
    "\n",
    "    "
   ]
  },
  {
   "cell_type": "code",
   "execution_count": null,
   "metadata": {},
   "outputs": [],
   "source": [
    "#Função para supressão de duas palavras\n",
    "def supressao_palavra_2(p):\n",
    "    if p is not None:\n",
    "        palavras = p.split()\n",
    "        for i in range(2):\n",
    "            if palavras:\n",
    "                indice = random.randint(0,len(palavras) - 1)\n",
    "                del palavras[indice]\n",
    "            else:\n",
    "                return p\n",
    "        return \" \".join(palavras)\n",
    "    else:\n",
    "        return None"
   ]
  },
  {
   "cell_type": "markdown",
   "metadata": {},
   "source": [
    "#### Supressão De **Uma Palavra** em 2 Mil Registros Na Coluna **Nome_Logradouro**"
   ]
  },
  {
   "cell_type": "code",
   "execution_count": null,
   "metadata": {},
   "outputs": [],
   "source": [
    "random.seed(33)\n",
    "\n",
    "#Criando lista de valores random\n",
    "indices_random_1 = random.sample(range(tam_amostra_B), 2000)"
   ]
  },
  {
   "cell_type": "code",
   "execution_count": null,
   "metadata": {},
   "outputs": [
    {
     "name": "stdout",
     "output_type": "stream",
     "text": [
      "[4672, 1370, 5179, 1910, 2271, 3923, 5340, 4363, 4320, 1527, 5338, 5055, 4123, 2629, 5628, 4327, 3940, 3647, 2311, 5512, 5206, 579, 2468, 3389, 2533, 4245, 4064, 430, 4977, 5547, 3490, 2297, 2617, 4551, 5581, 2012, 960, 458, 2615, 2330, 1747, 542, 2997, 1009, 5353, 2635, 1988, 4200, 2234, 2622, 52, 2898, 4298, 5394, 2493, 4546, 3229, 3187, 1519, 5631, 901, 269, 2986, 5139, 5594, 4584, 1014, 518, 1220, 764, 980, 2593, 24, 471, 3358, 2256, 2852, 1662, 1579, 5544, 5355, 3182, 3750, 4896, 3878, 2933, 4830, 4415, 3721, 2523, 3982, 575, 79, 3941, 3111, 3106, 2961, 909, 5469, 1997, 121, 4442, 5199, 3633, 2583, 5751, 1337, 4054, 5015, 3959, 274, 5659, 716, 4929, 2307, 3790, 2291, 3457, 4152, 3329, 2134, 3870, 5096, 3947, 3177, 168, 3253, 2601, 2662, 1373, 864, 1517, 5830, 2619, 5095, 2344, 5108, 1412, 2896, 3506, 3555, 2742, 5293, 3016, 4805, 5381, 4189, 285, 5120, 105, 1867, 3937, 755, 2214, 4778, 640, 4693, 961, 1627, 1545, 1630, 4988, 585, 528, 5569, 90, 4699, 3561, 4326, 5568, 3042, 55, 1275, 3386, 189, 730, 1131, 3743, 325, 170, 4817, 1719, 4558, 5849, 5536, 923, 2740, 3002, 726, 4089, 2534, 254, 5501, 134, 5949, 4076, 2379, 5068, 2694, 2677, 4299, 1050, 2723, 801, 2778, 3168, 4060, 3685, 2221, 1656, 672, 4324, 1663, 5798, 2116, 821, 1421, 3395, 4338, 1066, 1124, 3942, 4462, 3799, 3769, 2652, 5236, 1924, 58, 191, 193, 644, 1221, 2762, 1524, 2959, 2069, 1945, 2510, 5032, 70, 4061, 3678, 4908, 3137, 4690, 2310, 2205, 1838, 346, 2342, 1306, 3225, 220, 2832, 676, 959, 1538, 5283, 3140, 2714, 1969, 3112, 338, 5762, 5509, 1057, 4226, 1314, 3161, 5049, 635, 5107, 4078, 1544, 1633, 3522, 2326, 2308, 3151, 2551, 5135, 3563, 1921, 4813, 5474, 3101, 3719, 3636, 5230, 3272, 807, 3022, 3610, 1296, 2292, 1789, 271, 848, 1343, 1529, 3143, 2699, 3904, 1435, 3477, 1077, 1937, 794, 1109, 4279, 3393, 1203, 4662, 4101, 750, 3260, 770, 4631, 4349, 3622, 3134, 28, 4808, 791, 3616, 4043, 1728, 4150, 2544, 1474, 4424, 4453, 3545, 2319, 4884, 3754, 5551, 1932, 3394, 2079, 114, 2495, 1384, 3960, 2484, 118, 2537, 2491, 1595, 2506, 3689, 322, 2013, 2064, 5886, 3556, 4106, 3000, 2872, 976, 1616, 253, 3534, 5928, 1984, 4482, 5968, 5144, 5325, 5088, 4833, 2690, 5324, 2149, 2873, 236, 2369, 939, 1500, 4217, 1687, 255, 2357, 511, 3421, 4243, 5635, 2624, 885, 3546, 4184, 5446, 2916, 2086, 2874, 1993, 510, 4880, 117, 4356, 4506, 3842, 5492, 733, 2123, 3677, 2486, 645, 2664, 3536, 5838, 2733, 1469, 3175, 1188, 2520, 1076, 1450, 3824, 3051, 2875, 2469, 2430, 2350, 2665, 5460, 4823, 9, 2553, 1297, 4849, 519, 3400, 4384, 4781, 5866, 1499, 1229, 4045, 5383, 1030, 3372, 1960, 1359, 5125, 2367, 4853, 1351, 3520, 4361, 1639, 5773, 4013, 1012, 95, 5019, 5182, 4995, 1568, 5705, 2760, 4499, 2275, 5021, 2571, 3903, 2841, 1407, 2255, 1422, 5607, 678, 918, 4586, 561, 232, 1404, 1153, 4502, 5465, 3277, 5668, 5160, 1017, 5311, 3856, 5006, 1646, 151, 5084, 4855, 4562, 3532, 3113, 5617, 4477, 2992, 167, 3684, 722, 1555, 1226, 1262, 4081, 2363, 5235, 5611, 2937, 1724, 4237, 5310, 1206, 5618, 4658, 1139, 1668, 919, 2636, 4520, 2028, 1089, 380, 828, 1713, 1849, 4479, 3263, 5663, 4044, 628, 4831, 2945, 2136, 3092, 2767, 4266, 4148, 16, 520, 1642, 5578, 1252, 5377, 2243, 1611, 1995, 883, 969, 5331, 3007, 3365, 1125, 4466, 506, 4577, 5405, 5033, 793, 249, 3511, 4490, 3213, 2783, 2097, 2989, 3099, 2820, 1823, 4137, 931, 4258, 5858, 5505, 1386, 824, 5770, 5910, 4486, 5935, 217, 4351, 1426, 4654, 5890, 3513, 3641, 3257, 2253, 4037, 657, 1613, 3280, 4878, 4317, 5550, 3116, 1267, 3038, 421, 5695, 4380, 2787, 5795, 3095, 2643, 5802, 2477, 982, 2539, 2522, 2975, 5401, 1685, 5868, 5346, 2536, 5552, 468, 3243, 4220, 1809, 1833, 4316, 4236, 681, 1807, 4435, 1346, 5256, 4229, 5444, 4162, 2280, 2407, 4779, 1846, 1332, 5807, 5289, 5747, 4845, 2827, 3300, 5037, 1522, 5078, 3495, 3062, 50, 59, 3659, 4715, 1108, 2971, 565, 2956, 5486, 1438, 3608, 4819, 2614, 97, 5073, 145, 3985, 2720, 2089, 5484, 2230, 4592, 5948, 1084, 3669, 3523, 1315, 449, 4092, 173, 2111, 1081, 2869, 5567, 3927, 5409, 239, 1675, 4791, 967, 1331, 652, 889, 3929, 789, 2704, 1418, 2700, 383, 5911, 1271, 3761, 4909, 484, 12, 1408, 5063, 1126, 4323, 3201, 4842, 1382, 5105, 525, 5365, 4181, 3811, 5626, 3810, 3623, 4628, 3398, 3018, 4593, 4065, 3259, 582, 3788, 1074, 4753, 1599, 3488, 3041, 5981, 4230, 3141, 5454, 4602, 1358, 2967, 4464, 5587, 203, 3264, 2944, 4921, 5920, 5349, 705, 5396, 810, 2154, 1253, 3361, 3081, 4926, 4015, 2278, 2825, 1605, 395, 3054, 938, 2991, 563, 5840, 3275, 2761, 3098, 858, 3378, 758, 2968, 2644, 905, 2542, 3245, 1385, 102, 3071, 4868, 452, 2348, 1080, 1345, 3505, 4840, 3117, 4283, 260, 1266, 5142, 3990, 1064, 354, 5710, 1182, 2888, 2215, 5589, 1967, 2750, 4930, 1483, 5828, 3379, 399, 2970, 4085, 3063, 1580, 1148, 4861, 4370, 5363, 3317, 2321, 2104, 2274, 2119, 2982, 3197, 658, 3390, 1999, 405, 4875, 5661, 1819, 2152, 797, 5284, 756, 5530, 993, 1488, 4784, 3946, 986, 4595, 5459, 1953, 3030, 627, 5152, 2006, 100, 5670, 5574, 5577, 584, 4774, 5918, 4304, 3208, 562, 527, 1398, 23, 5368, 1429, 5347, 462, 3741, 2109, 991, 5784, 5299, 3126, 761, 5750, 5146, 1914, 3481, 139, 1322, 3598, 3220, 5169, 2779, 3683, 1019, 1962, 5616, 2541, 5926, 1312, 492, 4591, 5749, 1537, 1684, 5735, 715, 334, 3979, 158, 4966, 1396, 3276, 1837, 4967, 1569, 5850, 3795, 1250, 3568, 4719, 5931, 4047, 2358, 309, 283, 3217, 5690, 3286, 1785, 1428, 5392, 4725, 2565, 760, 2177, 2609, 5697, 2530, 3682, 313, 5561, 2266, 1776, 165, 926, 5797, 5232, 3438, 245, 5672, 4694, 5913, 849, 1410, 1708, 2859, 4391, 4394, 1692, 466, 1025, 4294, 2489, 2129, 4434, 1319, 826, 4718, 3348, 4960, 3863, 737, 888, 3540, 2003, 3248, 2954, 2649, 3798, 3001, 5468, 3728, 3194, 5525, 5020, 886, 4517, 5356, 2268, 1387, 3530, 4062, 5955, 4031, 5811, 1796, 5689, 5777, 2819, 43, 2487, 4269, 4095, 4700, 832, 2102, 4104, 5851, 228, 3053, 1978, 1381, 3971, 3407, 2408, 4088, 1194, 1401, 1311, 2425, 4221, 2483, 3548, 3797, 2577, 5050, 540, 1022, 3307, 4063, 1333, 137, 5538, 4727, 2039, 49, 4409, 3056, 4925, 4386, 5432, 1056, 2346, 2096, 42, 208, 1241, 5461, 5480, 2792, 101, 3060, 3482, 5528, 4707, 3652, 4194, 1497, 1694, 4004, 4313, 4619, 2777, 5517, 3370, 1903, 2199, 2179, 1572, 4378, 5167, 1591, 5301, 4731, 1248, 4885, 2705, 155, 1592, 5357, 3239, 2814, 638, 5883, 732, 1215, 1872, 684, 1475, 4711, 1156, 5696, 3070, 5042, 5427, 2490, 4797, 2721, 3852, 2939, 4728, 1827, 1628, 4640, 38, 5932, 3900, 2442, 443, 4135, 4625, 4989, 4578, 2803, 5489, 432, 2497, 4932, 4723, 234, 5671, 4836, 2837, 3851, 482, 4178, 5718, 1941, 611, 2175, 53, 1251, 3722, 5271, 1944, 4187, 4250, 4811, 4570, 5036, 5158, 2126, 1940, 2836, 1258, 4360, 1162, 2343, 2883, 2538, 5714, 512, 3525, 5202, 4097, 2398, 5989, 5234, 1013, 5722, 1797, 4161, 4756, 1246, 2790, 2131, 1774, 4481, 1840, 2805, 2670, 2817, 4247, 3221, 3566, 3349, 916, 1832, 2509, 1104, 286, 2169, 1496, 4898, 464, 4701, 1301, 2113, 106, 1606, 566, 4019, 229, 4438, 3067, 5728, 198, 2042, 1423, 2881, 834, 1326, 3607, 570, 2198, 4924, 4820, 5613, 4670, 3723, 1024, 4149, 978, 823, 3003, 4740, 2741, 5824, 887, 3079, 1570, 470, 2306, 2518, 2249, 5664, 1222, 1737, 3815, 5214, 1000, 5198, 123, 4846, 1738, 1722, 4274, 1886, 4920, 1609, 3103, 3517, 4285, 2317, 2395, 4223, 363, 2388, 1208, 4040, 1006, 2124, 5546, 4322, 183, 5314, 1971, 205, 1947, 3034, 339, 5964, 5064, 4763, 2848, 3665, 783, 3911, 131, 4583, 1240, 3567, 4084, 328, 5653, 5532, 731, 414, 4762, 5005, 5473, 3024, 4768, 3875, 3718, 1321, 2703, 2630, 4210, 2713, 754, 1369, 1067, 1916, 3839, 126, 1547, 30, 530, 2693, 3203, 5825, 544, 664, 3700, 2634, 4213, 3957, 1031, 5769, 4249, 1243, 894, 5408, 1631, 5676, 920, 4400, 1871, 598, 975, 2118, 5514, 2389, 547, 1727, 2008, 3437, 1391, 4222, 1506, 4788, 2235, 5195, 3564, 3476, 2610, 4637, 3262, 5252, 2384, 3765, 2775, 3144, 5127, 5085, 3841, 1653, 2727, 4182, 5504, 2196, 1854, 4990, 5404, 2189, 3762, 465, 2822, 4069, 829, 2808, 1065, 3185, 3800, 273, 1804, 677, 3830, 2513, 1361, 433, 4667, 197, 241, 3642, 2448, 4117, 4314, 3921, 3087, 5700, 3821, 4167, 3818, 2101, 3502, 5739, 122, 4129, 2650, 1180, 2611, 2826, 5448, 127, 4902, 1211, 5386, 4766, 5086, 3383, 4618, 2371, 5043, 5117, 3212, 1552, 502, 4666, 2052, 3917, 2815, 2789, 1072, 4027, 3703, 1620, 2870, 5436, 2546, 5038, 4025, 2046, 5679, 1893, 942, 4020, 5726, 3458, 2364, 3367, 2339, 5856, 2133, 5919, 3189, 1689, 537, 2558, 1330, 2902, 4720, 5321, 5804, 3104, 2697, 120, 3898, 1759, 1123, 899, 146, 3005, 3552, 4934, 5615, 1154, 2181, 3114, 3954, 4647, 4244, 1390, 3709, 2905, 3690, 3484, 5488, 1344, 5548, 741, 4746, 3588, 4005, 4864, 4749, 1742, 3270, 1177, 3397, 2725, 3444, 3789, 3857, 3456, 3180, 5010, 5495, 1097, 4636, 4111, 3298, 5291, 5922, 5579, 2849, 4673, 5734, 5956, 5456, 3736, 2621, 1265, 196, 5233, 1216, 7, 3673, 2029, 2618, 47, 1791, 276, 1277, 2653, 3170, 5425, 751, 881, 2737, 5426, 5090, 3597, 4973, 4306, 4928, 1679, 5298, 4764, 1855, 4263, 214, 4863, 3355, 5951, 4185, 4931, 5881, 5008, 3061, 937, 3186, 3102, 4714, 3994, 320, 1334, 1803, 1178, 895, 4622, 2654, 3808, 4393, 3303, 3518, 5600, 4310, 3312, 2935, 4800, 476, 4974, 5872, 1036, 951, 5814, 3128, 3936, 2145, 5193, 1190, 268, 4300, 4049, 4099, 5815, 3988, 2146, 3645, 3427, 5639, 1365, 5141, 3332, 440, 1666, 437, 2724, 4858, 2034, 415, 1558, 773, 5865, 1493, 5455, 4430, 1972, 3995, 2743, 3470, 2075, 634, 2672, 2213, 3850, 4379, 2891, 73, 2434, 5891, 1023, 656, 3698, 222, 752, 2347, 340, 1142, 2160, 4968, 2647, 4284, 358, 524, 568, 5403, 639, 5186, 4468, 2960, 601, 971, 1950, 4143, 2676, 4359, 1780, 3285, 5420, 3702, 5168, 307, 2938, 219, 5109, 1585, 3110, 5970, 2947, 401, 4497, 997, 3883, 5647, 4202, 2050, 3725, 479, 5515, 1355, 4251, 1357, 2164, 5571, 3825, 4418, 1196, 5128, 5833, 1440, 3782, 836, 5354, 762, 711, 3146, 1948, 5211, 1725, 5178, 2953, 5272, 3057, 1844, 2910, 4783, 3884, 2717, 2416, 1219, 4894, 5510, 3901, 5259, 5045, 3147, 3836, 5921, 3337, 187, 4343, 5253, 2161, 2843, 1996, 1623, 3581, 3965, 1726, 78, 4082, 1264, 357, 5545, 2957, 3764, 4944, 1172, 1449, 1087, 5669, 37, 1092, 5071, 3167, 2764, 1186, 2070, 2666, 57, 1615, 2887, 1411, 4475, 489, 4899, 2669, 1434, 3737, 1114, 5159, 124, 4278, 4692, 2592, 5204, 2313, 2194, 1005, 1179, 2904, 2845, 2248, 5094, 1716, 1614, 613, 3401, 5917, 1649, 1116, 3074, 2730, 4133, 798, 280, 1763, 3211, 3281, 3640, 4385, 1743, 2927, 2830, 5908, 2186, 2738, 2030, 5645, 5724, 455, 4582, 5026, 5934, 63, 2993, 4191, 3156, 553, 3843, 1767, 615, 1783, 4268, 5730, 2409, 1951, 3291, 2316, 4119, 3562, 846, 2282, 3048, 4171, 2768, 1402, 3544, 3664, 5237, 4429, 3579, 3045, 5698, 4539, 2692, 3109, 1141, 3055, 3026, 1487, 3004, 1562, 5367, 2349, 4634, 3770, 4353, 5248, 2712, 2283, 4090, 3335, 1701, 948, 4950, 4422, 1680, 2197, 3611, 690, 1119, 3614, 4122, 619, 3105, 1320, 1697, 1549, 2135, 3507, 873, 3826, 1949, 3199, 5184, 813, 4683, 596, 4048, 2598, 4758, 3171, 1825, 1622, 709, 3827, 3604, 3247, 1933, 1520, 111, 5411, 4461, 1640, 3912, 1765, 1839, 5601, 4574, 310, 1576, 2800, 1593, 5250, 1787, 4867, 1731, 2718, 5655, 5834, 2864, 5778, 3889, 5752, 1913, 3049, 4825, 771, 2620, 5497, 4955, 174, 1300, 1256, 4994, 637, 2594, 3441, 314, 699, 1852, 2093, 2125, 3693, 2839, 4655, 1983, 3380, 3222, 1218, 720, 2494, 1857, 5906, 2691, 3130, 3663, 4265, 5115, 2498, 1510, 2115, 3047, 2195, 304, 1816, 496, 2921, 2889, 4656, 3382, 113, 4847, 950, 4447, 4726, 3419, 3449, 1086, 2338, 2281, 1732, 4098, 4943, 5258, 4620, 1018, 212, 3122, 1011, 1514, 3350, 643, 2171, 1617, 2465, 4705, 714, 5303, 289, 3666, 5826, 3369, 5602, 3756, 5007, 2479, 2412, 5364, 5054, 1495, 1374, 4523, 2341, 4420, 2352, 5870, 407, 2512, 1394, 5294, 4118, 5821, 2449, 5991, 4702, 5719, 4307, 1905, 1768, 226, 327, 3131, 620, 2209, 3223, 1458, 4713, 182]\n"
     ]
    }
   ],
   "source": [
    "print(indices_random_1)"
   ]
  },
  {
   "cell_type": "code",
   "execution_count": null,
   "metadata": {},
   "outputs": [],
   "source": [
    "#Aplicando a função(supressao_palavra) nos indices contidos na lista\n",
    "df_B_pd.loc[indices_random_1,'Nome_Logradouro'] = df_B_pd.loc[indices_random_1,'Nome_Logradouro'].apply(supressao_palavra)"
   ]
  },
  {
   "cell_type": "markdown",
   "metadata": {},
   "source": [
    "#### Supressão De **Duas Palavras** em 3 Mil Registros Na Coluna **Complemento**"
   ]
  },
  {
   "cell_type": "code",
   "execution_count": null,
   "metadata": {},
   "outputs": [],
   "source": [
    "random.seed(31)\n",
    "\n",
    "#Criando lista, com tamanho 3 mil, de valores random\n",
    "indices_random_2 = random.sample(range(tam_amostra_B), 3000)"
   ]
  },
  {
   "cell_type": "code",
   "execution_count": null,
   "metadata": {},
   "outputs": [
    {
     "name": "stdout",
     "output_type": "stream",
     "text": [
      "[100, 3846, 920, 3218, 1153, 5602, 354, 1136, 921, 4384, 1898, 5828, 1143, 1207, 271, 5424, 496, 1118, 1893, 4388, 3667, 4309, 3379, 1678, 4858, 762, 967, 166, 3300, 2797, 1626, 1686, 2705, 3210, 2989, 4889, 2019, 1723, 5930, 1777, 3410, 4791, 5429, 4484, 491, 422, 1473, 2912, 1103, 1670, 1209, 3083, 248, 705, 4351, 3593, 5334, 1788, 1701, 3542, 3010, 1587, 2708, 5250, 1795, 3949, 339, 2157, 2752, 2403, 2738, 4684, 3245, 3947, 5298, 5331, 2591, 1746, 780, 2509, 1444, 4586, 5109, 4471, 5525, 2417, 766, 1421, 1579, 235, 4926, 3069, 5696, 783, 5485, 3270, 2333, 2503, 5319, 1612, 933, 3725, 1659, 2735, 3642, 5971, 397, 4601, 5849, 966, 2192, 809, 5219, 977, 1590, 1647, 2746, 1329, 5844, 1244, 3896, 474, 4080, 5010, 4194, 2277, 3050, 5019, 4016, 5211, 4838, 311, 917, 3976, 1129, 4966, 5676, 4076, 201, 2086, 4012, 3849, 2856, 1945, 91, 792, 3073, 4773, 2314, 3652, 1442, 369, 1082, 1022, 4646, 5028, 409, 5029, 1691, 1583, 2447, 5646, 1505, 4542, 3726, 4575, 5692, 4205, 4295, 5813, 4124, 3288, 1859, 4292, 1594, 5034, 3780, 2527, 3824, 2670, 1094, 3043, 1011, 4281, 2841, 1569, 2397, 5653, 3107, 4749, 1361, 344, 5472, 973, 3480, 5941, 1152, 2011, 3118, 2516, 1677, 3485, 2514, 4436, 4811, 1988, 2207, 309, 270, 3868, 5035, 2245, 2120, 4394, 1656, 3562, 5751, 2980, 1724, 3287, 273, 3633, 3146, 1625, 1966, 1756, 2637, 2831, 2433, 5716, 3016, 5997, 1769, 540, 2040, 5119, 5681, 3928, 4094, 3702, 5342, 2272, 5392, 1487, 3422, 276, 557, 3952, 1261, 2434, 3881, 45, 1, 2271, 3110, 2232, 2328, 2461, 2015, 4746, 2518, 3305, 1910, 1958, 4957, 1166, 5182, 4431, 2619, 786, 5491, 4703, 1536, 168, 3057, 4443, 4034, 2507, 5516, 3841, 4254, 2127, 2528, 3175, 3260, 5547, 1748, 4540, 1815, 3364, 395, 4674, 1984, 1961, 394, 3369, 5603, 2651, 2235, 884, 4500, 505, 2685, 2033, 4027, 3502, 5803, 390, 2531, 2561, 367, 3349, 1846, 4411, 3608, 4473, 1158, 627, 189, 4042, 3877, 3604, 2226, 3932, 3916, 5465, 5616, 27, 5561, 5323, 2776, 1926, 1382, 735, 3811, 2940, 466, 4663, 5966, 2639, 5071, 3187, 5785, 3424, 1794, 475, 5604, 3655, 318, 3376, 3694, 5988, 1113, 4231, 2610, 3507, 5706, 4555, 2110, 744, 3715, 457, 1124, 4796, 2512, 1606, 1025, 5281, 3121, 3836, 1872, 2252, 2793, 2791, 3449, 2565, 5744, 4897, 3607, 5486, 3442, 2806, 566, 1525, 5336, 1852, 2129, 1388, 953, 886, 2541, 2178, 5444, 3690, 3539, 1610, 640, 4173, 774, 2733, 4439, 3981, 3905, 2885, 1173, 3572, 3951, 1276, 508, 2093, 4923, 2633, 2569, 2523, 4497, 484, 2660, 984, 5001, 1869, 4517, 4177, 4850, 5958, 1457, 2160, 1148, 4463, 2491, 3186, 4869, 3615, 4444, 2603, 4963, 5531, 2121, 612, 5293, 5025, 1377, 1216, 1170, 3887, 4375, 1165, 3488, 3714, 1478, 1411, 3772, 4196, 1091, 4788, 2914, 3188, 3997, 1635, 3948, 5931, 107, 4095, 3046, 5432, 1538, 1115, 3959, 2522, 1327, 1696, 782, 3778, 4846, 4068, 2833, 1099, 582, 5215, 4914, 2370, 1381, 532, 803, 154, 5954, 2848, 4642, 1474, 1949, 600, 3035, 3391, 3401, 2439, 4225, 425, 2438, 3277, 805, 533, 791, 3309, 1340, 4212, 2410, 1325, 5321, 298, 2818, 608, 4445, 1178, 3239, 2355, 827, 2665, 2007, 2043, 5864, 3869, 2941, 4273, 3383, 3501, 5308, 1356, 2155, 112, 5175, 4584, 1974, 5774, 4651, 144, 1217, 4924, 5670, 861, 2300, 5406, 1540, 4019, 1855, 5729, 3739, 1314, 2361, 3831, 2995, 1908, 5758, 5295, 2924, 5421, 2181, 3816, 2810, 5448, 3072, 1640, 3550, 3399, 4644, 4417, 343, 134, 3792, 4371, 2755, 4341, 4861, 3867, 3455, 653, 4183, 5569, 4813, 3795, 4023, 4499, 4300, 4528, 224, 7, 5775, 4125, 415, 3225, 2308, 3252, 2285, 716, 3709, 2008, 1300, 3648, 4937, 2001, 3209, 1528, 4036, 1885, 1046, 4896, 5385, 4928, 4389, 2246, 2803, 288, 2133, 2244, 5121, 838, 209, 5927, 3268, 350, 3810, 4557, 775, 3653, 951, 4153, 3828, 5237, 3148, 2478, 1395, 589, 2782, 3039, 1328, 4965, 5620, 3052, 2225, 1034, 972, 1251, 2074, 4667, 5617, 559, 1770, 3987, 375, 2493, 5956, 3600, 1781, 5359, 834, 429, 4661, 3125, 4284, 464, 366, 268, 4634, 1629, 1257, 2106, 961, 3661, 4573, 659, 712, 526, 5490, 1098, 2641, 3084, 2367, 5820, 1001, 3025, 5065, 402, 1352, 3551, 4421, 5526, 1836, 3855, 1856, 4619, 4279, 5282, 192, 461, 4628, 2872, 4956, 4252, 2041, 5110, 1818, 1213, 463, 3723, 1190, 4680, 4649, 4938, 5991, 4414, 3213, 5124, 4797, 3055, 673, 2075, 5926, 2814, 4330, 2391, 4487, 4946, 3236, 4143, 2881, 794, 3150, 4591, 410, 1232, 2954, 14, 1239, 5303, 944, 4085, 1096, 1639, 2917, 4804, 5535, 2800, 155, 5718, 2274, 3255, 3108, 2362, 5478, 3049, 5781, 2600, 5900, 5974, 5150, 3470, 4729, 2602, 2081, 4454, 1161, 1963, 4576, 3798, 514, 317, 4271, 2452, 5952, 4214, 5540, 4884, 2055, 2108, 2896, 4135, 3565, 4761, 4837, 68, 5147, 4950, 4616, 1733, 3610, 4609, 2597, 593, 4258, 5739, 2672, 3047, 3307, 76, 3220, 261, 5149, 2, 694, 4879, 4777, 2520, 1789, 3332, 3484, 3876, 5225, 5015, 2631, 1456, 866, 4969, 418, 1860, 5072, 688, 1582, 5373, 732, 3552, 4672, 4227, 3980, 2261, 4365, 5371, 779, 4477, 1952, 3513, 2938, 3426, 500, 4186, 5461, 2077, 5400, 135, 2684, 5245, 800, 2781, 3295, 4554, 4182, 5674, 5017, 2973, 5115, 1624, 2335, 170, 3472, 1370, 3601, 4843, 1363, 4580, 4204, 4508, 4913, 2351, 1663, 3800, 631, 3788, 308, 3789, 5157, 2772, 2521, 1491, 5243, 4123, 3360, 862, 1056, 2654, 211, 1551, 3918, 34, 387, 3060, 4045, 255, 2465, 2338, 3962, 1144, 3006, 826, 1894, 2002, 5763, 5801, 5196, 1991, 2194, 5260, 2215, 3087, 1168, 5153, 4048, 2643, 1110, 5596, 5177, 4069, 1599, 2012, 2830, 2345, 5464, 5345, 5743, 2090, 4129, 2065, 4353, 426, 2253, 2231, 1864, 544, 4920, 1522, 1680, 2915, 4701, 4014, 5764, 3680, 462, 900, 1698, 87, 2920, 3570, 433, 3179, 5100, 1450, 3860, 3751, 2141, 2425, 4853, 4011, 2932, 1137, 1262, 2415, 4892, 5647, 1087, 1965, 5789, 3770, 83, 3190, 4534, 3077, 2203, 4358, 5339, 5640, 2864, 4181, 400, 4025, 3825, 5329, 2866, 2483, 3741, 2299, 1058, 5108, 2871, 3340, 69, 4830, 4771, 2327, 5515, 3228, 399, 4435, 4266, 2919, 4155, 1638, 1490, 1826, 3445, 1513, 3618, 1998, 5375, 1824, 1897, 365, 801, 5650, 5036, 1942, 5007, 5379, 3138, 3879, 5951, 3942, 1535, 2501, 4748, 4238, 2084, 165, 4210, 5701, 2836, 1676, 5591, 3194, 4437, 240, 5213, 3678, 4060, 3101, 2957, 4006, 4819, 1326, 764, 4419, 1068, 2583, 4359, 4418, 1427, 384, 3178, 3613, 599, 1180, 5841, 3140, 4851, 656, 1940, 1524, 3160, 828, 5184, 72, 2905, 581, 4404, 763, 2867, 4262, 982, 3621, 1392, 4877, 4093, 229, 4216, 1615, 3142, 4742, 5865, 4098, 3674, 4839, 2070, 5198, 277, 330, 176, 3767, 4512, 2855, 5306, 2052, 432, 3353, 5426, 4504, 5048, 61, 1512, 5527, 2200, 4495, 3555, 202, 493, 2789, 5005, 2357, 3071, 1107, 2691, 2656, 5623, 4675, 52, 5959, 5416, 5771, 3527, 3693, 5762, 5745, 905, 1955, 1993, 4708, 1012, 5917, 4524, 1725, 3185, 5089, 5824, 3801, 3754, 278, 1195, 2667, 3713, 3779, 5037, 3005, 1236, 3458, 1688, 4863, 163, 2099, 2297, 3603, 4423, 141, 2893, 5721, 2647, 808, 3865, 3636, 4149, 5573, 5532, 4523, 1976, 621, 976, 5957, 4355, 865, 218, 2868, 4046, 4043, 293, 5249, 1936, 3706, 114, 3545, 3965, 964, 239, 1493, 25, 3359, 1267, 24, 1062, 1297, 3021, 1526, 5922, 2749, 3724, 5967, 3272, 4132, 3514, 1497, 3537, 2551, 4176, 2838, 650, 4770, 4866, 5384, 222, 187, 1720, 3004, 4062, 3943, 2111, 1102, 374, 5053, 4982, 1970, 2590, 5288, 1557, 1150, 4976, 121, 2137, 3940, 3519, 2608, 5860, 2709, 517, 80, 4274, 642, 5534, 98, 5842, 1925, 824, 1485, 3518, 2519, 1035, 5415, 1348, 4084, 3372, 4627, 1907, 2711, 2674, 1562, 438, 5372, 3622, 504, 3211, 228, 4198, 2448, 5226, 5683, 5542, 4805, 1233, 1609, 124, 152, 2313, 1980, 5391, 1121, 286, 1467, 3975, 3529, 629, 5992, 1333, 3878, 3420, 929, 1064, 1605, 2899, 320, 145, 174, 3909, 3030, 5879, 126, 2534, 4688, 1814, 5328, 588, 931, 4650, 5216, 50, 2085, 3583, 469, 5612, 4426, 1131, 3483, 4590, 3964, 1544, 5798, 5600, 4787, 4755, 4059, 1095, 3540, 3809, 5428, 3459, 5756, 4552, 1186, 1172, 3354, 2970, 1999, 5625, 2499, 679, 373, 4472, 959, 5454, 3893, 5409, 901, 2088, 4049, 3471, 5570, 2785, 2442, 5165, 1808, 3279, 4367, 4697, 3013, 5903, 548, 969, 4971, 4935, 5484, 1432, 2773, 4486, 5300, 1591, 3499, 907, 5217, 3998, 5208, 123, 427, 3700, 3848, 3310, 2484, 4077, 5909, 676, 955, 567, 4632, 3954, 5362, 618, 1545, 4112, 2743, 28, 1618, 4462, 1397, 3649, 3921, 203, 1010, 196, 260, 604, 2589, 1309, 3750, 666, 3856, 3403, 524, 252, 2762, 2259, 2229, 1412, 2720, 5915, 5513, 5517, 1645, 5046, 5169, 927, 4228, 4498, 3297, 2431, 2566, 1941, 5256, 1735, 26, 5897, 4169, 1215, 1183, 4807, 680, 3477, 5511, 4377, 119, 2999, 2096, 3802, 3127, 1268, 2724, 2171, 5437, 4597, 4163, 35, 4405, 376, 5103, 2347, 3605, 5004, 5408, 5398, 3496, 3098, 5261, 3392, 1682, 3835, 4860, 3523, 1496, 1549, 2882, 4047, 594, 2825, 5255, 241, 999, 5554, 3897, 2291, 1786, 1574, 2376, 3032, 2395, 2586, 4605, 4017, 1534, 1667, 2775, 5370, 2218, 3100, 4794, 5611, 4901, 5503, 1277, 4581, 3958, 3609, 1703, 2220, 2965, 611, 5769, 2728, 4929, 3510, 188, 3759, 4315, 4623, 617, 5114, 3229, 5136, 2343, 3406, 3090, 382, 2279, 3684, 4491, 1072, 3908, 4900, 5380, 140, 5933, 137, 1441, 401, 5253, 292, 1838, 568, 370, 3141, 269, 1508, 2092, 2020, 2471, 5642, 5584, 5450, 2325, 781, 4635, 1842, 2036, 2694, 2860, 2704, 3664, 5138, 3304, 3598, 4075, 2016, 2063, 2819, 2689, 1899, 5467, 3712, 1820, 615, 4986, 1810, 5422, 2598, 4191, 1285, 2172, 4151, 2394, 4187, 473, 2611, 3688, 1977, 5248, 3771, 3763, 5041, 4162, 2205, 353, 5916, 245, 902, 3588, 3996, 4694, 1247, 4166, 3078, 5757, 4626, 3416, 4617, 4403, 5082, 3526, 4878, 1269, 10, 3534, 4942, 2510, 487, 5872, 939, 2464, 331, 4374, 1089, 1032, 738, 5581, 2429, 4893, 3137, 4947, 5389, 4030, 1854, 553, 3394, 2159, 1077, 4571, 412, 2044, 2532, 2051, 2908, 164, 1402, 3389, 1188, 393, 3972, 941, 4739, 1041, 2577, 1621, 4100, 5880, 1116, 3866, 2605, 4461, 3891, 5387, 3850, 3447, 2795, 2907, 5799, 3486, 4424, 2723, 2850, 743, 2383, 710, 1511, 1964, 1284, 1717, 4139, 5134, 3044, 5378, 835, 4090, 5214, 1142, 579, 5363, 1182, 847, 1338, 1728, 3775, 777, 3385, 5794, 175, 5204, 563, 2820, 4451, 2636, 84, 4668, 5033, 4918, 2399, 4994, 226, 1848, 2227, 332, 2209, 4061, 2731, 4041, 3263, 5022, 516, 2079, 1242, 4615, 2843, 2486, 5671, 2758, 5394, 3256, 3438, 3259, 720, 2474, 184, 2921, 1308, 4222, 2091, 678, 923, 1831, 2884, 552, 1652, 4111, 4035, 5101, 5205, 2888, 4687, 444, 1674, 2693, 5045, 5910, 2082, 2265, 1231, 1353, 4759, 2979, 832, 337, 2669, 5574, 4305, 2165, 4754, 507, 1154, 1458, 564, 5654, 3161, 4165, 1080, 53, 695, 2865, 5661, 4768, 2862, 998, 4054, 335, 3925, 1299, 1603, 5102, 2978, 4604, 2774, 1567, 3294, 5518, 2805, 5381, 3666, 641, 4724, 5096, 1877, 3579, 5264, 561, 3262, 4033, 5711, 3231, 5504, 5335, 5960, 3871, 1052, 749, 4989, 837, 4018, 1055, 1112, 5580, 802, 1613, 4673, 1384, 3852, 5116, 3257, 5961, 2025, 5697, 1833, 3230, 423, 5800, 3953, 117, 3993, 1031, 3966, 1987, 4519, 556, 2413, 5246, 1874, 1111, 3991, 5555, 655, 2753, 4251, 606, 5026, 2734, 36, 3189, 5645, 4705, 4304, 1459, 2943, 3351, 5592, 2744, 2903, 13, 4057, 1863, 3478, 2629, 3421, 5014, 2579, 2199, 5494, 4585, 2540, 4145, 5043, 2449, 3614, 4549, 1371, 2645, 4127, 2883, 3791, 4298, 3722, 841, 4230, 4490, 3990, 2185, 4038, 1243, 4136, 1038, 3657, 761, 1634, 2969, 216, 2996, 3508, 2401, 664, 2365, 768, 341, 2861, 70, 5736, 3945, 4422, 1446, 3066, 698, 471, 5947, 2747, 5748, 2437, 1687, 2858, 5251, 2596, 4053, 4479, 3582, 1009, 3671, 3973, 1653, 1773, 3075, 4261, 4823, 3654, 4973, 2495, 4757, 3685, 3938, 5220, 492, 5234, 3720, 2058, 3989, 2067, 2473, 5965, 5953, 5678, 266, 527, 2991, 1054, 5829, 5753, 2811, 576, 675, 3880, 748, 4291, 348, 1287, 120, 2440, 558, 299, 4778, 4525, 4538, 3129, 4987, 5666, 5257, 4607, 3933, 502, 1390, 1915, 2144, 2337, 5305, 5358, 5847, 3830, 3386, 1596, 5867, 3109, 2193, 1628, 821, 1320, 3091, 5365, 1801, 2182, 1260, 3482, 1364, 4959, 4050, 1362, 2854, 2404, 2967, 5348, 2468, 5152, 4633, 4899, 2083, 5280, 2276, 1169, 2955, 4690, 5658, 23, 797, 4511, 620, 1273, 5183, 2727, 4086, 377, 3946, 5326, 5874, 1286, 645, 4450, 4299, 1983, 3903, 5239, 2584, 4199, 3212, 2148, 3758, 545, 1734, 94, 4715, 4728, 4492, 1858, 3571, 4984, 898, 919, 2456, 4489, 267, 3281, 5982, 3396, 3037, 1501, 4683, 214, 4364, 3324, 4369, 1065, 2906, 5698, 1829, 4506, 4641, 714, 4565, 3088, 1740, 1379, 2568, 778, 5313, 2170, 1695, 2286, 5720, 485, 2997, 3561, 2188, 1302, 1463, 1766, 4239, 90, 3058, 4459, 451, 2930, 3382, 1668, 2695, 5987, 4395, 3198, 17, 5694, 1865, 3097, 2179, 54, 324, 970, 4700, 5402, 5449, 4527, 5595, 3111, 1003, 434, 2264, 1580, 3387, 2459, 5731, 4400, 3886, 4056, 5643, 1226, 3807, 3979, 3184, 1519, 2517, 3520, 2119, 1584, 4415, 5928, 503, 2035, 3978, 1620, 1469, 5655, 3961, 2703, 713, 2554, 2117, 5352, 3106, 1060, 622, 1644, 2671, 4515, 4535, 2441, 179, 3134, 5052, 1369, 626, 4993, 2237, 1024, 1636, 254, 1280, 1529, 2606, 4370, 5228, 2913, 4081, 3731, 2956, 283, 3166, 5717, 2177, 478, 477, 1437, 5944, 935, 5418, 5663, 2853, 2312, 4978, 854, 3829, 3665, 1832, 4201, 785, 1372, 329, 5896, 1883, 5383, 1996, 264, 3839, 3597, 5125, 2813, 5167, 2087, 2947, 1318, 4825, 1771, 985, 1939, 3547, 3695, 1159, 3516, 5451, 845, 1199, 1581, 4108, 1040, 2329, 891, 8, 129, 2381, 2732, 1294, 1575, 5222, 1730, 5786, 217, 2676, 1313, 1336, 1272, 852, 479, 3419, 1804, 360, 208, 2560, 3640, 3658, 3293, 5433, 4223, 3766, 5831, 1775, 3738, 1947, 3243, 995, 2251, 1413, 4702, 5021, 3635, 2948, 289, 18, 4190, 587, 1156, 4762, 1475, 2587, 1181, 4406, 5455, 4659, 5649, 2934, 3029, 3819, 3033, 3248, 2402, 1138, 2548, 104, 4707, 555, 5131, 1227, 4998, 3450, 2543, 3474, 1480, 1396, 5710, 5859, 1849, 4344, 284, 4456, 3251, 2944, 4503, 3181, 3505, 302, 3859, 3890, 4567, 3271, 3584, 3361, 2113, 5609, 358, 992, 2588, 3323, 5590, 2436, 2387, 5945, 4072, 2741, 5480, 5804, 2115, 1503, 2466, 519, 482, 5500, 111, 5783, 1343, 1085, 480, 2870, 2771, 3898, 4691, 4067, 2931, 3794, 1822, 1399, 696, 1986, 2481, 2316, 691, 974, 46, 2059, 1368, 4283, 5092, 4010, 5420, 4037, 2250, 1798, 1203, 5672, 746, 2945, 5977, 5797, 3102, 4372, 5233, 5881, 948, 2256, 5139, 3875, 4126, 1417, 2049, 2699, 3070, 3217, 3797, 5895, 1016, 2006, 5809, 5846, 1806, 2574, 3199, 3079, 2358, 3669, 296, 1564, 1050, 2322, 342, 575, 4537, 5247, 3931, 1805, 4397, 5374, 450, 1710, 5567, 3821, 246, 1218, 3122, 1002, 1383, 4381, 535, 767, 4308, 994, 5728, 5557, 1092, 2080, 3448, 1990, 1470, 2628, 1853, 2779, 2536, 4734, 4470, 1715, 319, 5275, 798, 431, 3114, 5585, 3793, 3616, 4296, 842, 3936, 5087, 3183, 5709, 4767, 5201, 2197, 5911, 383, 4247, 5492, 4256, 1651, 751, 5770, 1330, 3036, 5923, 1840, 4393, 2142, 1311, 815, 1803, 4948, 5322, 3120, 1013, 3112, 598, 4629, 5563, 908, 5821, 3812, 1655, 1646, 3454, 5740, 4857, 2604, 3350, 3718, 2545, 2582, 2701, 3663, 2790, 5566, 5016, 5062, 5024, 903, 2444, 4832, 2390, 2004, 2929, 1202, 1912, 5684, 4442, 4063, 3413, 2942, 515, 5337, 4904, 454, 1130, 4945, 5539, 888, 2427, 3808, 4277, 2455, 3123, 3740, 3686, 3900, 417, 741, 5039, 362, 3203, 4763, 1234, 1957, 1451, 5123, 2183, 1969, 1376, 4744, 4658, 5263, 4494, 1198, 3783, 5520, 5790, 4208, 685, 430, 406, 3963, 4735, 2064, 4352, 2564, 912, 180, 2482, 709, 1919, 960, 1868, 4245, 844, 5814, 5080, 2336, 1913, 1704, 1749, 3776, 5854, 304, 1515, 2458, 2712, 5023, 4894, 1423, 525, 5050, 1350, 159, 2974, 2334, 1880, 29, 2000, 5496, 2198, 5985, 1433, 2489, 5705, 1332, 2146, 5376, 2593, 177, 3222, 2149, 5487, 3172, 2138, 910, 3045, 4040, 3548, 4207, 2985, 4313, 718, 521, 1985, 2556, 867, 1866, 4290, 2563, 5229, 2295, 2539, 1256, 2802, 1895, 4215, 5340, 639, 1220, 5724, 1128, 5203, 3306, 4272, 3402, 5742, 4669, 4141, 3028, 1482, 251, 3224, 3453, 1739, 3339, 3955, 1045, 171, 371, 4818, 4939, 5576, 3845, 5240, 5507, 2986, 259, 3889, 1861, 1550, 5188, 4408, 5411, 186, 1187, 4831, 4816, 3733, 5094, 5395, 138, 813, 4975, 3590, 2078, 5077, 3822, 2780, 5662, 1747, 965, 232, 297, 760, 715, 4501, 723, 4366, 1305, 5268, 1553, 3347, 3159, 3902, 3267, 706, 3162, 2683, 1811, 4122, 5631, 316, 1341, 3164, 1780, 2525, 3174, 2045, 4322, 3054, 5439, 142, 109, 586, 1573, 510, 1435, 668, 3668, 5734, 628, 5893, 5839, 2038, 4246, 4092, 4324, 1920, 5061, 1105, 4569, 750, 4197, 3755, 4826, 5995, 5390, 3314, 3096, 823, 3370, 1592, 2933, 1472, 287, 4753, 5098, 5443, 5891, 1714, 5091, 1483, 5002, 5349, 1541, 2057, 5852, 212, 5898, 1566, 1572, 5290, 3904, 2422, 1090, 3411, 1520, 2385, 4962, 2421, 4845, 757, 3249, 3679, 5463, 3362, 1904, 1431, 3638, 769, 4004, 5544, 3011, 3538, 4563, 3133, 5618, 5187, 1657, 3352, 2840, 1787, 1104, 5942, 3641, 4526, 988, 5366, 237, 1681, 2725, 182, 1685, 2990, 4513, 1279, 1616, 3743, 357, 4260, 3193, 2682, 1978, 2730, 4656, 1757, 1948, 2648, 3080, 439, 2029, 1932, 4774, 3017, 634, 5382, 2959, 4550, 1205, 887, 3682, 5577, 2573, 4233, 42, 3503, 5878, 4653, 3617, 3014, 4979, 2180, 1783, 5912, 2722, 4911, 5230, 2354, 3388, 106, 3737, 4161, 4648, 2936, 378, 885, 2152, 4070, 5875, 1214, 1125, 2140, 1290, 909, 3342, 5173, 4481, 3541, 12, 1902, 1927, 4088, 1070, 3312, 3444, 2412, 379, 2900, 4363, 5641, 1972, 571, 3804, 4779, 876, 3205, 1835, 2874, 1042, 1375, 6, 1066, 2581, 3691, 3167, 4446, 4202, 3285, 2630, 649, 66, 5471, 4317, 859, 190, 2302, 529, 5601, 2668, 1337, 1053, 15, 4073, 1577, 1658, 4852, 1453, 5838, 878, 3662, 3022, 3586, 4465, 2056, 4820, 4144, 5397, 1057, 3746, 1973, 2646, 3151, 4624, 3041, 817, 5986, 5673, 1914, 1595, 2307, 407, 1127, 118, 1301, 5189, 1718, 5624, 1410, 1481, 2100, 848, 3524, 1476, 1533, 300, 3061, 3842, 5008, 2411, 1556, 506, 2983, 193, 1307, 672, 5996, 2594, 3782, 2047, 88, 2371, 2353, 4833, 3716, 511, 5708, 3840, 3756, 3338, 5477, 2098, 280, 1316, 3345, 1870, 1548, 5309, 4873, 788, 1661, 5870, 2748, 5113, 4636, 578, 3456, 986, 2910, 441, 3008, 3626, 883, 1189, 4983]\n"
     ]
    }
   ],
   "source": [
    "print(indices_random_2)"
   ]
  },
  {
   "cell_type": "code",
   "execution_count": null,
   "metadata": {},
   "outputs": [],
   "source": [
    "#Aplicando a função(supressao_palavra_2) nos indices contidos na lista \n",
    "df_B_pd.loc[indices_random_2,'Complemento'] = df_B_pd.loc[indices_random_2,'Complemento'].apply(supressao_palavra_2)"
   ]
  },
  {
   "cell_type": "markdown",
   "metadata": {},
   "source": [
    " - Visualizando"
   ]
  },
  {
   "cell_type": "code",
   "execution_count": null,
   "metadata": {},
   "outputs": [
    {
     "data": {
      "text/html": [
       "<div>\n",
       "<style scoped>\n",
       "    .dataframe tbody tr th:only-of-type {\n",
       "        vertical-align: middle;\n",
       "    }\n",
       "\n",
       "    .dataframe tbody tr th {\n",
       "        vertical-align: top;\n",
       "    }\n",
       "\n",
       "    .dataframe thead th {\n",
       "        text-align: right;\n",
       "    }\n",
       "</style>\n",
       "<table border=\"1\" class=\"dataframe\">\n",
       "  <thead>\n",
       "    <tr style=\"text-align: right;\">\n",
       "      <th></th>\n",
       "      <th>Id</th>\n",
       "      <th>TP_Logradouro</th>\n",
       "      <th>Titulo_Logradouro</th>\n",
       "      <th>Nome_Logradouro</th>\n",
       "      <th>Num_Logradouro</th>\n",
       "      <th>Setor_Censitario</th>\n",
       "      <th>Complemento</th>\n",
       "    </tr>\n",
       "  </thead>\n",
       "  <tbody>\n",
       "    <tr>\n",
       "      <th>0</th>\n",
       "      <td>0</td>\n",
       "      <td>RUA</td>\n",
       "      <td></td>\n",
       "      <td>FONTE DO BOI</td>\n",
       "      <td>176</td>\n",
       "      <td>0001</td>\n",
       "      <td>APARTAMENTO 303 BLOCO B</td>\n",
       "    </tr>\n",
       "    <tr>\n",
       "      <th>1</th>\n",
       "      <td>1</td>\n",
       "      <td>AVENIDA</td>\n",
       "      <td></td>\n",
       "      <td>OSWALDO CRUZ</td>\n",
       "      <td>222</td>\n",
       "      <td>0001</td>\n",
       "      <td></td>\n",
       "    </tr>\n",
       "    <tr>\n",
       "      <th>2</th>\n",
       "      <td>2</td>\n",
       "      <td>RUA</td>\n",
       "      <td></td>\n",
       "      <td>FONTE DO BOI</td>\n",
       "      <td>55</td>\n",
       "      <td>0002</td>\n",
       "      <td>ANDAR 1</td>\n",
       "    </tr>\n",
       "    <tr>\n",
       "      <th>3</th>\n",
       "      <td>3</td>\n",
       "      <td>RUA</td>\n",
       "      <td></td>\n",
       "      <td>BARRO VERMELHO</td>\n",
       "      <td>0</td>\n",
       "      <td>0003</td>\n",
       "      <td>APARTAMENTO 204 BLOCO B</td>\n",
       "    </tr>\n",
       "    <tr>\n",
       "      <th>4</th>\n",
       "      <td>4</td>\n",
       "      <td>RUA</td>\n",
       "      <td></td>\n",
       "      <td>BARRO VERMELHO</td>\n",
       "      <td>93</td>\n",
       "      <td>0003</td>\n",
       "      <td>APARTAMENTO 105</td>\n",
       "    </tr>\n",
       "  </tbody>\n",
       "</table>\n",
       "</div>"
      ],
      "text/plain": [
       "   Id TP_Logradouro Titulo_Logradouro Nome_Logradouro Num_Logradouro  \\\n",
       "0   0           RUA                      FONTE DO BOI            176   \n",
       "1   1       AVENIDA                      OSWALDO CRUZ            222   \n",
       "2   2           RUA                      FONTE DO BOI             55   \n",
       "3   3           RUA                    BARRO VERMELHO              0   \n",
       "4   4           RUA                    BARRO VERMELHO             93   \n",
       "\n",
       "  Setor_Censitario              Complemento  \n",
       "0             0001  APARTAMENTO 303 BLOCO B  \n",
       "1             0001                           \n",
       "2             0002                  ANDAR 1  \n",
       "3             0003  APARTAMENTO 204 BLOCO B  \n",
       "4             0003          APARTAMENTO 105  "
      ]
     },
     "execution_count": 324,
     "metadata": {},
     "output_type": "execute_result"
    }
   ],
   "source": [
    "df_B_pd.head()"
   ]
  },
  {
   "cell_type": "markdown",
   "metadata": {},
   "source": [
    " #### Exportando Base Com Pandas e Lendo Com Spark"
   ]
  },
  {
   "cell_type": "code",
   "execution_count": null,
   "metadata": {},
   "outputs": [],
   "source": [
    "#Exportando as colunas de interesse\n",
    "df_B_pd[['Nome_Logradouro','Complemento']].to_csv(\"Log_Comp.csv\", header = True, index = False, na_rep= None)"
   ]
  },
  {
   "cell_type": "code",
   "execution_count": null,
   "metadata": {},
   "outputs": [],
   "source": [
    "#Lendo com spark\n",
    "df_Log_Comp = spark.read.csv('Log_Comp.csv', inferSchema = False, header = True, nullValue= None)"
   ]
  },
  {
   "cell_type": "markdown",
   "metadata": {},
   "source": [
    " - Recolocando Strings Vazias Que Foram Perdidas"
   ]
  },
  {
   "cell_type": "code",
   "execution_count": null,
   "metadata": {},
   "outputs": [],
   "source": [
    "#Nas colunas \"Nome_Logradouro\" e \"Complemento\" onde tiver nulo substitui por \"\"\n",
    "df_Log_Comp = df_Log_Comp.withColumn(\"Nome_Logradouro\" , when(col(\"Nome_Logradouro\").isNull(),\"\").otherwise(col(\"Nome_Logradouro\")))\\\n",
    "                         .withColumn(\"Complemento\", when(col(\"Complemento\").isNull(),\"\").otherwise(col(\"Complemento\")))"
   ]
  },
  {
   "cell_type": "code",
   "execution_count": null,
   "metadata": {},
   "outputs": [],
   "source": [
    "#Colocando indices a base de dados\n",
    "df_Log_Comp = df_Log_Comp.withColumn('Id', row_number().over(windowSpec).cast('int') - 1)"
   ]
  },
  {
   "cell_type": "code",
   "execution_count": null,
   "metadata": {},
   "outputs": [
    {
     "name": "stdout",
     "output_type": "stream",
     "text": [
      "+---------------+--------------------+---+\n",
      "|Nome_Logradouro|         Complemento| Id|\n",
      "+---------------+--------------------+---+\n",
      "|   FONTE DO BOI|APARTAMENTO 303 B...|  0|\n",
      "|   OSWALDO CRUZ|                    |  1|\n",
      "|   FONTE DO BOI|             ANDAR 1|  2|\n",
      "| BARRO VERMELHO|APARTAMENTO 204 B...|  3|\n",
      "| BARRO VERMELHO|     APARTAMENTO 105|  4|\n",
      "| AUGUSTO SEVERO|                    |  5|\n",
      "|        TAMOIOS|               2 201|  6|\n",
      "|         ARGOLO|                    |  7|\n",
      "|         MAMUTE|                    |  8|\n",
      "|        VINHAIS|     APARTAMENTO 201|  9|\n",
      "+---------------+--------------------+---+\n",
      "only showing top 10 rows\n",
      "\n"
     ]
    }
   ],
   "source": [
    "df_Log_Comp.show(10)"
   ]
  },
  {
   "cell_type": "markdown",
   "metadata": {},
   "source": [
    " #### Fazendo As Alterações Na Base **B**"
   ]
  },
  {
   "cell_type": "code",
   "execution_count": null,
   "metadata": {},
   "outputs": [],
   "source": [
    "#retirando as antigas colunas\n",
    "df_B = df_B.drop(\"Nome_Logradouro\", \"Complemento\")"
   ]
  },
  {
   "cell_type": "code",
   "execution_count": null,
   "metadata": {},
   "outputs": [],
   "source": [
    "#Fazendo o join(FULL) entre as duas tabelas baseadas no \"Id\"\n",
    "df_B = df_B.join(df_Log_Comp, on = \"Id\", how = \"full\")"
   ]
  },
  {
   "cell_type": "code",
   "execution_count": null,
   "metadata": {},
   "outputs": [],
   "source": [
    "#Reorganizando a tabela\n",
    "df_B = df_B.select(\"Id\",\n",
    "                    \"TP_Logradouro\",\n",
    "                    \"Titulo_Logradouro\",\n",
    "                    \"Nome_Logradouro\",\n",
    "                    \"Num_Logradouro\",\n",
    "                    \"Setor_Censitario\",\n",
    "                    \"Complemento\"\n",
    "                    )"
   ]
  },
  {
   "cell_type": "code",
   "execution_count": null,
   "metadata": {},
   "outputs": [
    {
     "name": "stdout",
     "output_type": "stream",
     "text": [
      "+---+-------------+-----------------+---------------+--------------+----------------+--------------------+\n",
      "| Id|TP_Logradouro|Titulo_Logradouro|Nome_Logradouro|Num_Logradouro|Setor_Censitario|         Complemento|\n",
      "+---+-------------+-----------------+---------------+--------------+----------------+--------------------+\n",
      "|  0|          RUA|                 |   FONTE DO BOI|           176|            0001|APARTAMENTO 303 B...|\n",
      "|  1|      AVENIDA|                 |   OSWALDO CRUZ|           222|            0001|                    |\n",
      "|  2|          RUA|                 |   FONTE DO BOI|            55|            0002|             ANDAR 1|\n",
      "|  3|          RUA|                 | BARRO VERMELHO|             0|            0003|APARTAMENTO 204 B...|\n",
      "|  4|          RUA|                 | BARRO VERMELHO|            93|            0003|     APARTAMENTO 105|\n",
      "|  5|        PRACA|                 | AUGUSTO SEVERO|             6|            0004|                    |\n",
      "|  6|          RUA|                 |        TAMOIOS|          NULL|            0005|               2 201|\n",
      "|  7|          RUA|                 |         ARGOLO|           163|            0007|                    |\n",
      "|  8|      AVENIDA|                 |         MAMUTE|          NULL|            0009|                    |\n",
      "|  9|          RUA|       PROFESSORA|        VINHAIS|          NULL|            0010|     APARTAMENTO 201|\n",
      "+---+-------------+-----------------+---------------+--------------+----------------+--------------------+\n",
      "only showing top 10 rows\n",
      "\n"
     ]
    }
   ],
   "source": [
    "#Verificando alterações\n",
    "df_B.show(10)"
   ]
  },
  {
   "cell_type": "code",
   "execution_count": null,
   "metadata": {},
   "outputs": [],
   "source": [
    "#Exportando base B\n",
    "df_B_pd = df_B.toPandas()\n",
    "df_B_pd.to_csv(\"baseB.csv\", na_rep = \"NULL\", index = False, encoding = 'utf-8')"
   ]
  }
 ],
 "metadata": {
  "kernelspec": {
   "display_name": "Python 3",
   "language": "python",
   "name": "python3"
  },
  "language_info": {
   "codemirror_mode": {
    "name": "ipython",
    "version": 3
   },
   "file_extension": ".py",
   "mimetype": "text/x-python",
   "name": "python",
   "nbconvert_exporter": "python",
   "pygments_lexer": "ipython3",
   "version": "3.11.4"
  }
 },
 "nbformat": 4,
 "nbformat_minor": 2
}
